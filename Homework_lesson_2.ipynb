{
 "cells": [
  {
   "cell_type": "markdown",
   "metadata": {
    "pycharm": {
     "name": "#%% md\n"
    }
   },
   "source": [
    "# Задание\n",
    "* Скачать все вакансии СБЕРа с ХХ (у апи есть ограничение в 2000, а также captcha подумайте как их можно обойти)\n",
    "* Извлеките все описания этих вакансий\n",
    "* Создайте аналогичный vacancy DataFrame только добавьте поле skills\n",
    "* Переведите даты публикаций в datetime\n",
    "* Постройте график опубликованных вакансий по датам\n",
    "* Переведите даты в дни недели, и определите день недели, в который больше всего публикуют вакансий\n",
    "* Найдите те вакансии с использованием python, которые вам интересны\n",
    "* Определите по полю skills какие навыки больше всего востребованы для этих вакансий\n",
    "* Постройте график наиболее востребованных навыков для аналитика данных"
   ]
  },
  {
   "cell_type": "markdown",
   "metadata": {
    "pycharm": {
     "name": "#%% md\n"
    }
   },
   "source": [
    "https://github.com/hhru/api"
   ]
  },
  {
   "cell_type": "code",
   "execution_count": 2,
   "metadata": {
    "pycharm": {
     "name": "#%%\n"
    }
   },
   "outputs": [],
   "source": [
    "import requests\n",
    "import json\n",
    "from tqdm.auto import tqdm\n",
    "from collections import defaultdict\n",
    "import pickle\n",
    "import pandas as pd"
   ]
  },
  {
   "cell_type": "code",
   "execution_count": 3,
   "metadata": {},
   "outputs": [],
   "source": [
    "import matplotlib.pyplot as plt\n",
    "%matplotlib inline"
   ]
  },
  {
   "cell_type": "code",
   "execution_count": 4,
   "metadata": {
    "pycharm": {
     "name": "#%%\n"
    }
   },
   "outputs": [],
   "source": [
    "sber = '3529'\n",
    "page = 1\n",
    "num_per_page = 100\n",
    "moscow = 1\n",
    "url = f'https://api.hh.ru/vacancies?employer_id={sber}&page={page}&per_page={num_per_page}&area={moscow}'"
   ]
  },
  {
   "cell_type": "code",
   "execution_count": 5,
   "metadata": {
    "pycharm": {
     "name": "#%%\n"
    }
   },
   "outputs": [],
   "source": [
    "res = requests.get(url)"
   ]
  },
  {
   "cell_type": "code",
   "execution_count": 6,
   "metadata": {},
   "outputs": [
    {
     "data": {
      "text/plain": [
       "13"
      ]
     },
     "execution_count": 6,
     "metadata": {},
     "output_type": "execute_result"
    }
   ],
   "source": [
    "vacancies = res.json()\n",
    "vnum=vacancies.get('pages')\n",
    "vnum"
   ]
  },
  {
   "cell_type": "markdown",
   "metadata": {},
   "source": [
    "Получим ID всех вакансий:"
   ]
  },
  {
   "cell_type": "code",
   "execution_count": 7,
   "metadata": {},
   "outputs": [
    {
     "data": {
      "application/vnd.jupyter.widget-view+json": {
       "model_id": "9c3d655cdd3847a7aa91948ccf1324a1",
       "version_major": 2,
       "version_minor": 0
      },
      "text/plain": [
       "  0%|          | 0/13 [00:00<?, ?it/s]"
      ]
     },
     "metadata": {},
     "output_type": "display_data"
    }
   ],
   "source": [
    "all_vacancies_id=[]\n",
    "for i in tqdm(range(vnum)):\n",
    "    url = f'https://api.hh.ru/vacancies?employer_id={sber}&page={page}&per_page={num_per_page}&area={moscow}'\n",
    "    res = requests.get(url)\n",
    "    vacancies = res.json()\n",
    "    vacancy_ids = [el.get('id') for el in vacancies.get('items')]\n",
    "    all_vacancies_id.extend(vacancy_ids)"
   ]
  },
  {
   "cell_type": "code",
   "execution_count": 7,
   "metadata": {},
   "outputs": [
    {
     "data": {
      "text/plain": [
       "1200"
      ]
     },
     "execution_count": 7,
     "metadata": {},
     "output_type": "execute_result"
    }
   ],
   "source": [
    "len(all_vacancies_id)"
   ]
  },
  {
   "cell_type": "markdown",
   "metadata": {},
   "source": [
    "#### Выгрузим все вакансии"
   ]
  },
  {
   "cell_type": "code",
   "execution_count": 8,
   "metadata": {
    "pycharm": {
     "name": "#%%\n"
    }
   },
   "outputs": [
    {
     "data": {
      "application/vnd.jupyter.widget-view+json": {
       "model_id": "d71bcf1073294a9092db8b0cd055f396",
       "version_major": 2,
       "version_minor": 0
      },
      "text/plain": [
       "  0%|          | 0/1300 [00:00<?, ?it/s]"
      ]
     },
     "metadata": {},
     "output_type": "display_data"
    }
   ],
   "source": [
    "vacs=[]\n",
    "for vac_id in tqdm(all_vacancies_id):\n",
    "    url = f'https://api.hh.ru/vacancies/{vac_id}'\n",
    "    res = requests.get(url)\n",
    "    vacs.append(res.json())"
   ]
  },
  {
   "cell_type": "code",
   "execution_count": 180,
   "metadata": {},
   "outputs": [],
   "source": [
    "df = pd.DataFrame(pd.json_normalize(vacs))\n"
   ]
  },
  {
   "cell_type": "markdown",
   "metadata": {},
   "source": [
    "### Создайте аналогичный vacancy DataFrame только добавьте поле skills"
   ]
  },
  {
   "cell_type": "code",
   "execution_count": 182,
   "metadata": {},
   "outputs": [],
   "source": [
    "skills = df[['id','published_at','description','name', 'key_skills']]"
   ]
  },
  {
   "cell_type": "code",
   "execution_count": 190,
   "metadata": {},
   "outputs": [],
   "source": [
    "#skills.assign(link = lambda x:(f'https://api.hh.ru/vacancies/' + x['id']))"
   ]
  },
  {
   "cell_type": "code",
   "execution_count": 191,
   "metadata": {},
   "outputs": [],
   "source": [
    "#skills.drop('key_skill_string', axis=1, inplace=True)"
   ]
  },
  {
   "cell_type": "code",
   "execution_count": 195,
   "metadata": {},
   "outputs": [
    {
     "name": "stderr",
     "output_type": "stream",
     "text": [
      "C:\\ProgramData\\Anaconda3\\lib\\site-packages\\ipykernel_launcher.py:5: SettingWithCopyWarning: \n",
      "A value is trying to be set on a copy of a slice from a DataFrame.\n",
      "Try using .loc[row_indexer,col_indexer] = value instead\n",
      "\n",
      "See the caveats in the documentation: https://pandas.pydata.org/pandas-docs/stable/user_guide/indexing.html#returning-a-view-versus-a-copy\n",
      "  \"\"\"\n"
     ]
    }
   ],
   "source": [
    "def hz(cell):\n",
    "    s = ','.join(str(v) for v in cell)\n",
    "    d = s.replace('\\'','').replace('{','').replace('}','').replace('name:','')\n",
    "    return d.split(',')\n",
    "skills['key_skill_string'] = skills.apply(lambda x:(hz(x['key_skills'])), axis=1)"
   ]
  },
  {
   "cell_type": "code",
   "execution_count": 197,
   "metadata": {},
   "outputs": [
    {
     "data": {
      "text/html": [
       "<div>\n",
       "<style scoped>\n",
       "    .dataframe tbody tr th:only-of-type {\n",
       "        vertical-align: middle;\n",
       "    }\n",
       "\n",
       "    .dataframe tbody tr th {\n",
       "        vertical-align: top;\n",
       "    }\n",
       "\n",
       "    .dataframe thead th {\n",
       "        text-align: right;\n",
       "    }\n",
       "</style>\n",
       "<table border=\"1\" class=\"dataframe\">\n",
       "  <thead>\n",
       "    <tr style=\"text-align: right;\">\n",
       "      <th></th>\n",
       "      <th>id</th>\n",
       "      <th>published_at</th>\n",
       "      <th>description</th>\n",
       "      <th>name</th>\n",
       "      <th>key_skills</th>\n",
       "      <th>key_skill_string</th>\n",
       "    </tr>\n",
       "  </thead>\n",
       "  <tbody>\n",
       "    <tr>\n",
       "      <th>0</th>\n",
       "      <td>66554589</td>\n",
       "      <td>2022-06-29T11:45:01+0300</td>\n",
       "      <td>&lt;p&gt;Приглашаем Frontend разработчика в нашу ком...</td>\n",
       "      <td>Frontend разработчик (СберЧат)</td>\n",
       "      <td>[{'name': 'React'}, {'name': 'JavaScript'}, {'...</td>\n",
       "      <td>[ React,  JavaScript,  TypeScript,  Node.js]</td>\n",
       "    </tr>\n",
       "    <tr>\n",
       "      <th>1</th>\n",
       "      <td>67235538</td>\n",
       "      <td>2022-06-27T10:56:20+0300</td>\n",
       "      <td>&lt;p&gt;Ищем сильного дизайнера UX/UI с опытом рабо...</td>\n",
       "      <td>Продуктовый дизайнер</td>\n",
       "      <td>[{'name': 'Figma'}, {'name': 'Работа в команде...</td>\n",
       "      <td>[ Figma,  Работа в команде,  UX,  Adobe Photos...</td>\n",
       "    </tr>\n",
       "    <tr>\n",
       "      <th>2</th>\n",
       "      <td>67406605</td>\n",
       "      <td>2022-07-01T13:48:18+0300</td>\n",
       "      <td>&lt;p&gt;&lt;strong&gt;SberDevices&lt;/strong&gt; - новое направ...</td>\n",
       "      <td>Data Analyst SberDevices</td>\n",
       "      <td>[{'name': 'Python'}, {'name': 'SQL'}, {'name':...</td>\n",
       "      <td>[ Python,  SQL,  Анализ данных,  ML,  pandas, ...</td>\n",
       "    </tr>\n",
       "  </tbody>\n",
       "</table>\n",
       "</div>"
      ],
      "text/plain": [
       "         id              published_at  \\\n",
       "0  66554589  2022-06-29T11:45:01+0300   \n",
       "1  67235538  2022-06-27T10:56:20+0300   \n",
       "2  67406605  2022-07-01T13:48:18+0300   \n",
       "\n",
       "                                         description  \\\n",
       "0  <p>Приглашаем Frontend разработчика в нашу ком...   \n",
       "1  <p>Ищем сильного дизайнера UX/UI с опытом рабо...   \n",
       "2  <p><strong>SberDevices</strong> - новое направ...   \n",
       "\n",
       "                             name  \\\n",
       "0  Frontend разработчик (СберЧат)   \n",
       "1            Продуктовый дизайнер   \n",
       "2        Data Analyst SberDevices   \n",
       "\n",
       "                                          key_skills  \\\n",
       "0  [{'name': 'React'}, {'name': 'JavaScript'}, {'...   \n",
       "1  [{'name': 'Figma'}, {'name': 'Работа в команде...   \n",
       "2  [{'name': 'Python'}, {'name': 'SQL'}, {'name':...   \n",
       "\n",
       "                                    key_skill_string  \n",
       "0       [ React,  JavaScript,  TypeScript,  Node.js]  \n",
       "1  [ Figma,  Работа в команде,  UX,  Adobe Photos...  \n",
       "2  [ Python,  SQL,  Анализ данных,  ML,  pandas, ...  "
      ]
     },
     "execution_count": 197,
     "metadata": {},
     "output_type": "execute_result"
    }
   ],
   "source": [
    "skills.head(3)"
   ]
  },
  {
   "cell_type": "markdown",
   "metadata": {},
   "source": [
    "### Переведите даты публикаций в datetime"
   ]
  },
  {
   "cell_type": "code",
   "execution_count": 198,
   "metadata": {},
   "outputs": [
    {
     "name": "stdout",
     "output_type": "stream",
     "text": [
      "<class 'pandas.core.frame.DataFrame'>\n",
      "RangeIndex: 1300 entries, 0 to 1299\n",
      "Data columns (total 6 columns):\n",
      " #   Column            Non-Null Count  Dtype \n",
      "---  ------            --------------  ----- \n",
      " 0   id                1300 non-null   object\n",
      " 1   published_at      1300 non-null   object\n",
      " 2   description       1300 non-null   object\n",
      " 3   name              1300 non-null   object\n",
      " 4   key_skills        1300 non-null   object\n",
      " 5   key_skill_string  1300 non-null   object\n",
      "dtypes: object(6)\n",
      "memory usage: 61.1+ KB\n"
     ]
    }
   ],
   "source": [
    "skills.info()"
   ]
  },
  {
   "cell_type": "code",
   "execution_count": 199,
   "metadata": {
    "scrolled": true
   },
   "outputs": [
    {
     "name": "stderr",
     "output_type": "stream",
     "text": [
      "C:\\ProgramData\\Anaconda3\\lib\\site-packages\\ipykernel_launcher.py:1: SettingWithCopyWarning: \n",
      "A value is trying to be set on a copy of a slice from a DataFrame.\n",
      "Try using .loc[row_indexer,col_indexer] = value instead\n",
      "\n",
      "See the caveats in the documentation: https://pandas.pydata.org/pandas-docs/stable/user_guide/indexing.html#returning-a-view-versus-a-copy\n",
      "  \"\"\"Entry point for launching an IPython kernel.\n",
      "C:\\ProgramData\\Anaconda3\\lib\\site-packages\\ipykernel_launcher.py:2: SettingWithCopyWarning: \n",
      "A value is trying to be set on a copy of a slice from a DataFrame.\n",
      "Try using .loc[row_indexer,col_indexer] = value instead\n",
      "\n",
      "See the caveats in the documentation: https://pandas.pydata.org/pandas-docs/stable/user_guide/indexing.html#returning-a-view-versus-a-copy\n",
      "  \n"
     ]
    }
   ],
   "source": [
    "skills['published_at'] = skills['published_at'].astype('datetime64[ns]')\n",
    "skills['published'] = skills['published_at'].dt.strftime('%Y-%m-%d')\n",
    "#new_vacancy['created_date'] = new_vacancy['published_at'].dt.strftime('%Y-%m-%d')"
   ]
  },
  {
   "cell_type": "code",
   "execution_count": 200,
   "metadata": {
    "scrolled": true
   },
   "outputs": [
    {
     "name": "stdout",
     "output_type": "stream",
     "text": [
      "<class 'pandas.core.frame.DataFrame'>\n",
      "RangeIndex: 1300 entries, 0 to 1299\n",
      "Data columns (total 7 columns):\n",
      " #   Column            Non-Null Count  Dtype         \n",
      "---  ------            --------------  -----         \n",
      " 0   id                1300 non-null   object        \n",
      " 1   published_at      1300 non-null   datetime64[ns]\n",
      " 2   description       1300 non-null   object        \n",
      " 3   name              1300 non-null   object        \n",
      " 4   key_skills        1300 non-null   object        \n",
      " 5   key_skill_string  1300 non-null   object        \n",
      " 6   published         1300 non-null   object        \n",
      "dtypes: datetime64[ns](1), object(6)\n",
      "memory usage: 71.2+ KB\n"
     ]
    }
   ],
   "source": [
    "skills.info()"
   ]
  },
  {
   "cell_type": "markdown",
   "metadata": {},
   "source": [
    "### Постройте график опубликованных вакансий по датам"
   ]
  },
  {
   "cell_type": "code",
   "execution_count": 201,
   "metadata": {},
   "outputs": [
    {
     "data": {
      "image/png": "[encoded data removed]",
      "text/plain": [
       "<Figure size 1080x432 with 1 Axes>"
      ]
     },
     "metadata": {
      "needs_background": "light"
     },
     "output_type": "display_data"
    }
   ],
   "source": [
    "for_gr = skills.groupby('published').count()['id']\n",
    "plt.figure(figsize=(15, 6))\n",
    "plt.plot(for_gr)\n",
    "plt.xticks(rotation = 90)\n",
    "plt.title('График опубликованных вакансий по датам')\n",
    "plt.show()"
   ]
  },
  {
   "cell_type": "markdown",
   "metadata": {
    "pycharm": {
     "name": "#%%\n"
    }
   },
   "source": [
    "### Переведите даты в дни недели, и определите день недели, в который больше всего публикуют вакансий"
   ]
  },
  {
   "cell_type": "code",
   "execution_count": 202,
   "metadata": {
    "scrolled": false
   },
   "outputs": [
    {
     "name": "stderr",
     "output_type": "stream",
     "text": [
      "C:\\ProgramData\\Anaconda3\\lib\\site-packages\\ipykernel_launcher.py:1: SettingWithCopyWarning: \n",
      "A value is trying to be set on a copy of a slice from a DataFrame.\n",
      "Try using .loc[row_indexer,col_indexer] = value instead\n",
      "\n",
      "See the caveats in the documentation: https://pandas.pydata.org/pandas-docs/stable/user_guide/indexing.html#returning-a-view-versus-a-copy\n",
      "  \"\"\"Entry point for launching an IPython kernel.\n"
     ]
    },
    {
     "data": {
      "text/plain": [
       "published_day_of_week\n",
       "Monday    429\n",
       "Name: id, dtype: int64"
      ]
     },
     "execution_count": 202,
     "metadata": {},
     "output_type": "execute_result"
    }
   ],
   "source": [
    "skills['published_day_of_week'] =  skills['published_at'].dt.day_name()\n",
    "skills.groupby('published_day_of_week').count()['id'].nlargest(1) \n"
   ]
  },
  {
   "cell_type": "markdown",
   "metadata": {},
   "source": [
    "### Найдите те вакансии с использованием python, которые вам интересны"
   ]
  },
  {
   "cell_type": "code",
   "execution_count": 204,
   "metadata": {},
   "outputs": [
    {
     "data": {
      "text/plain": [
       "2                    Data Analyst SberDevices\n",
       "14      Data Engineer (Core Banking Products)\n",
       "29                              Data аналитик\n",
       "50                             Data Scientist\n",
       "52             ETL разработчик/ Data engineer\n",
       "                        ...                  \n",
       "1250                           Data Scientist\n",
       "1252           ETL разработчик/ Data engineer\n",
       "1253                     Стажер Data engineer\n",
       "1285                     Junior Data Engineer\n",
       "1287       Аналитик данных (campaign analyst)\n",
       "Name: name, Length: 104, dtype: object"
      ]
     },
     "execution_count": 204,
     "metadata": {},
     "output_type": "execute_result"
    }
   ],
   "source": [
    "cond1 = skills.description.str.match('.*python.*', case=False)\n",
    "cond2 = skills.name.str.match('.*data.*', case=False)\n",
    "cond3 = skills.name.str.match('.*anal.*', case=False)\n",
    "cond4 = skills.name.str.match('.*аналит.*', case=False)\n",
    "cond5 = skills.name.str.match('.*данн.*', case=False)\n",
    "df_da = skills[(cond2&cond3) | (cond4&cond5)] #фрейм аналитиков данных\n",
    "df_like = skills[cond1&(cond2|cond3)] # фрейм с вакансиями, которые интересны\n",
    "df_like.name"
   ]
  },
  {
   "cell_type": "code",
   "execution_count": 207,
   "metadata": {},
   "outputs": [
    {
     "data": {
      "text/plain": [
       "Python    52\n",
       "SQL       39\n",
       "Hadoop    26\n",
       "Spark     26\n",
       "dtype: int64"
      ]
     },
     "execution_count": 207,
     "metadata": {},
     "output_type": "execute_result"
    }
   ],
   "source": [
    "def skills(obj, n): # n - число, меньше которого навыки не показывать\n",
    "    l = []\n",
    "    for skills in obj.key_skills:\n",
    "        for skill in skills:\n",
    "            l.append(skill.get('name'))\n",
    "    skills_for_gr = pd.Series(l).value_counts()\n",
    "    return skills_for_gr[skills_for_gr>n]\n",
    "\n",
    "skills(df_like, 13)"
   ]
  },
  {
   "cell_type": "markdown",
   "metadata": {},
   "source": [
    "### Постройте график наиболее востребованных навыков для аналитика данных"
   ]
  },
  {
   "cell_type": "code",
   "execution_count": 208,
   "metadata": {},
   "outputs": [
    {
     "data": {
      "image/png": "[encoded data removed]",
      "text/plain": [
       "<Figure size 432x288 with 1 Axes>"
      ]
     },
     "metadata": {
      "needs_background": "light"
     },
     "output_type": "display_data"
    }
   ],
   "source": [
    "sk = skills(df_like, 13)\n",
    "sk.plot.bar()\n",
    "plt.title('График наиболее востребованных навыков для аналитика данных')\n",
    "plt.show()"
   ]
  }
 ],
 "metadata": {
  "kernelspec": {
   "display_name": "Python 3",
   "language": "python",
   "name": "python3"
  },
  "language_info": {
   "codemirror_mode": {
    "name": "ipython",
    "version": 3
   },
   "file_extension": ".py",
   "mimetype": "text/x-python",
   "name": "python",
   "nbconvert_exporter": "python",
   "pygments_lexer": "ipython3",
   "version": "3.7.10"
  }
 },
 "nbformat": 4,
 "nbformat_minor": 4
}
