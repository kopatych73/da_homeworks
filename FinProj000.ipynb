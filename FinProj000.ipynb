{
 "cells": [
  {
   "cell_type": "raw",
   "metadata": {},
   "source": [
    "1. Построить гистограмму по городам и кол-ву вакансий - сделано\n",
    "2. Круговая диаграмма по графику работ - сделано\n",
    "3. Зарплата по регионам (гистограмма) - сделано\n",
    "4. Облако навыков - сделано\n",
    "5. Корреляция между уровнем зарплаты и регионами\n",
    "6. Модель зарплаты вакансий, у которых она не указана (линейная регрессия либо дерево решений) с оценкой "
   ]
  },
  {
   "cell_type": "code",
   "execution_count": 3,
   "metadata": {},
   "outputs": [],
   "source": [
    "# в презентацию\n",
    "# ссылка на репозиторий\n",
    "# QR-код на репозиторий"
   ]
  },
  {
   "cell_type": "code",
   "execution_count": 4,
   "metadata": {
    "pycharm": {
     "name": "#%%\n"
    }
   },
   "outputs": [],
   "source": [
    "import requests\n",
    "import json\n",
    "from tqdm.auto import tqdm\n",
    "from collections import defaultdict\n",
    "import pickle\n",
    "import pandas as pd\n",
    "import matplotlib.pyplot as plt"
   ]
  },
  {
   "cell_type": "code",
   "execution_count": 5,
   "metadata": {
    "pycharm": {
     "name": "#%%\n"
    }
   },
   "outputs": [],
   "source": [
    "page = 1\n",
    "num_per_page = 100\n",
    "area = 113\n",
    "job=['Аналитик данных']\n",
    "url = f'https://api.hh.ru/vacancies?text={job}&page={page}&per_page={num_per_page}&area={area}'"
   ]
  },
  {
   "cell_type": "code",
   "execution_count": 6,
   "metadata": {
    "pycharm": {
     "name": "#%%\n"
    }
   },
   "outputs": [],
   "source": [
    "res = requests.get(url)"
   ]
  },
  {
   "cell_type": "code",
   "execution_count": 7,
   "metadata": {
    "pycharm": {
     "name": "#%%\n"
    }
   },
   "outputs": [
    {
     "data": {
      "text/plain": [
       "20"
      ]
     },
     "execution_count": 7,
     "metadata": {},
     "output_type": "execute_result"
    }
   ],
   "source": [
    "vacancies = res.json()\n",
    "num_pages = vacancies.get('pages')\n",
    "num_pages"
   ]
  },
  {
   "cell_type": "code",
   "execution_count": 8,
   "metadata": {
    "pycharm": {
     "name": "#%%\n"
    }
   },
   "outputs": [],
   "source": [
    "v = vacancies.get('items')"
   ]
  },
  {
   "cell_type": "code",
   "execution_count": 9,
   "metadata": {
    "pycharm": {
     "name": "#%%\n"
    }
   },
   "outputs": [
    {
     "data": {
      "text/plain": [
       "dict_keys(['items', 'found', 'pages', 'per_page', 'page', 'clusters', 'arguments', 'alternate_url'])"
      ]
     },
     "execution_count": 9,
     "metadata": {},
     "output_type": "execute_result"
    }
   ],
   "source": [
    "vacancies.keys()"
   ]
  },
  {
   "cell_type": "code",
   "execution_count": 10,
   "metadata": {
    "pycharm": {
     "name": "#%%\n"
    }
   },
   "outputs": [],
   "source": [
    "vacancies = res.json()\n",
    "num_pages = vacancies.get('pages')\n",
    "vacancy_ids = [el.get('id') for el in vacancies.get('items')]"
   ]
  },
  {
   "cell_type": "code",
   "execution_count": 11,
   "metadata": {
    "pycharm": {
     "name": "#%%\n"
    }
   },
   "outputs": [
    {
     "data": {
      "text/plain": [
       "dict_keys(['items', 'found', 'pages', 'per_page', 'page', 'clusters', 'arguments', 'alternate_url'])"
      ]
     },
     "execution_count": 11,
     "metadata": {},
     "output_type": "execute_result"
    }
   ],
   "source": [
    "vacancies.keys()"
   ]
  },
  {
   "cell_type": "code",
   "execution_count": 12,
   "metadata": {
    "pycharm": {
     "name": "#%%\n"
    }
   },
   "outputs": [],
   "source": [
    "vnum  = vacancies.get('pages')"
   ]
  },
  {
   "cell_type": "code",
   "execution_count": 13,
   "metadata": {
    "pycharm": {
     "name": "#%%\n"
    }
   },
   "outputs": [
    {
     "data": {
      "application/vnd.jupyter.widget-view+json": {
       "model_id": "f6079171414b4efb9f64300b59b7420e",
       "version_major": 2,
       "version_minor": 0
      },
      "text/plain": [
       "  0%|          | 0/20 [00:00<?, ?it/s]"
      ]
     },
     "metadata": {},
     "output_type": "display_data"
    }
   ],
   "source": [
    "all_vacancy_ids= []\n",
    "all_vacancy_items= []\n",
    "for i in tqdm(range(vnum)):\n",
    "    url = f'https://api.hh.ru/vacancies?text={job}&page={i}&per_page={num_per_page}&area={area}'\n",
    "    res = requests.get(url)\n",
    "    vacancies = res.json()\n",
    "    vacancy_items = res.json().get('items')\n",
    "    vacancy_ids = [el.get('id') for el in vacancies.get('items')]\n",
    "    all_vacancy_ids.extend(vacancy_ids)\n",
    "    all_vacancy_items.extend(vacancy_items)"
   ]
  },
  {
   "cell_type": "code",
   "execution_count": 14,
   "metadata": {},
   "outputs": [],
   "source": [
    "# сохраним json в файл\n",
    "with open('vacancy_items.json', 'w', encoding='utf-8') as f:\n",
    "    json.dump(vacancy_items, f, ensure_ascii=False, indent=4)\n",
    "with open('vacancies.json', 'w', encoding='utf-8') as f:\n",
    "    json.dump(vacancies, f, ensure_ascii=False, indent=4)"
   ]
  },
  {
   "cell_type": "code",
   "execution_count": 15,
   "metadata": {},
   "outputs": [],
   "source": [
    "# читаем json из файла\n",
    "with open('vacancy_items.json', encoding='utf-8') as f:\n",
    "    vacancy_items = json.load(f)\n",
    "with open('vacancies.json', encoding='utf-8') as f:\n",
    "    vacancies = json.load(f)"
   ]
  },
  {
   "cell_type": "code",
   "execution_count": 16,
   "metadata": {
    "pycharm": {
     "name": "#%%\n"
    }
   },
   "outputs": [],
   "source": [
    "df = pd.DataFrame(all_vacancy_items)"
   ]
  },
  {
   "cell_type": "code",
   "execution_count": 17,
   "metadata": {},
   "outputs": [
    {
     "data": {
      "text/plain": [
       "(2000, 29)"
      ]
     },
     "execution_count": 17,
     "metadata": {},
     "output_type": "execute_result"
    }
   ],
   "source": [
    "df.shape"
   ]
  },
  {
   "cell_type": "code",
   "execution_count": 18,
   "metadata": {},
   "outputs": [
    {
     "name": "stdout",
     "output_type": "stream",
     "text": [
      "<class 'pandas.core.frame.DataFrame'>\n",
      "RangeIndex: 2000 entries, 0 to 1999\n",
      "Data columns (total 29 columns):\n",
      " #   Column                    Non-Null Count  Dtype \n",
      "---  ------                    --------------  ----- \n",
      " 0   id                        2000 non-null   object\n",
      " 1   premium                   2000 non-null   bool  \n",
      " 2   name                      2000 non-null   object\n",
      " 3   department                314 non-null    object\n",
      " 4   has_test                  2000 non-null   bool  \n",
      " 5   response_letter_required  2000 non-null   bool  \n",
      " 6   area                      2000 non-null   object\n",
      " 7   salary                    582 non-null    object\n",
      " 8   type                      2000 non-null   object\n",
      " 9   address                   1109 non-null   object\n",
      " 10  response_url              0 non-null      object\n",
      " 11  sort_point_distance       0 non-null      object\n",
      " 12  published_at              2000 non-null   object\n",
      " 13  created_at                2000 non-null   object\n",
      " 14  archived                  2000 non-null   bool  \n",
      " 15  apply_alternate_url       2000 non-null   object\n",
      " 16  insider_interview         36 non-null     object\n",
      " 17  url                       2000 non-null   object\n",
      " 18  adv_response_url          2000 non-null   object\n",
      " 19  alternate_url             2000 non-null   object\n",
      " 20  relations                 2000 non-null   object\n",
      " 21  employer                  2000 non-null   object\n",
      " 22  snippet                   2000 non-null   object\n",
      " 23  contacts                  0 non-null      object\n",
      " 24  schedule                  2000 non-null   object\n",
      " 25  working_days              2000 non-null   object\n",
      " 26  working_time_intervals    2000 non-null   object\n",
      " 27  working_time_modes        2000 non-null   object\n",
      " 28  accept_temporary          2000 non-null   bool  \n",
      "dtypes: bool(5), object(24)\n",
      "memory usage: 384.9+ KB\n"
     ]
    }
   ],
   "source": [
    "df.info()"
   ]
  },
  {
   "cell_type": "code",
   "execution_count": 19,
   "metadata": {
    "scrolled": true
   },
   "outputs": [
    {
     "data": {
      "text/html": [
       "<div>\n",
       "<style scoped>\n",
       "    .dataframe tbody tr th:only-of-type {\n",
       "        vertical-align: middle;\n",
       "    }\n",
       "\n",
       "    .dataframe tbody tr th {\n",
       "        vertical-align: top;\n",
       "    }\n",
       "\n",
       "    .dataframe thead th {\n",
       "        text-align: right;\n",
       "    }\n",
       "</style>\n",
       "<table border=\"1\" class=\"dataframe\">\n",
       "  <thead>\n",
       "    <tr style=\"text-align: right;\">\n",
       "      <th></th>\n",
       "      <th>id</th>\n",
       "      <th>premium</th>\n",
       "      <th>name</th>\n",
       "      <th>department</th>\n",
       "      <th>has_test</th>\n",
       "      <th>response_letter_required</th>\n",
       "      <th>area</th>\n",
       "      <th>salary</th>\n",
       "      <th>type</th>\n",
       "      <th>address</th>\n",
       "      <th>...</th>\n",
       "      <th>alternate_url</th>\n",
       "      <th>relations</th>\n",
       "      <th>employer</th>\n",
       "      <th>snippet</th>\n",
       "      <th>contacts</th>\n",
       "      <th>schedule</th>\n",
       "      <th>working_days</th>\n",
       "      <th>working_time_intervals</th>\n",
       "      <th>working_time_modes</th>\n",
       "      <th>accept_temporary</th>\n",
       "    </tr>\n",
       "  </thead>\n",
       "  <tbody>\n",
       "    <tr>\n",
       "      <th>0</th>\n",
       "      <td>70165043</td>\n",
       "      <td>False</td>\n",
       "      <td>Аналитик</td>\n",
       "      <td>None</td>\n",
       "      <td>False</td>\n",
       "      <td>False</td>\n",
       "      <td>{'id': '1', 'name': 'Москва', 'url': 'https://...</td>\n",
       "      <td>{'from': 100000, 'to': 150000, 'currency': 'RU...</td>\n",
       "      <td>{'id': 'open', 'name': 'Открытая'}</td>\n",
       "      <td>{'city': 'Москва', 'street': 'Пресненская набе...</td>\n",
       "      <td>...</td>\n",
       "      <td>https://hh.ru/vacancy/70165043</td>\n",
       "      <td>[]</td>\n",
       "      <td>{'id': '5021275', 'name': 'НЬЮЭРАМЕДИА', 'url'...</td>\n",
       "      <td>{'requirement': 'Мыслить в цифрах. Успешный оп...</td>\n",
       "      <td>None</td>\n",
       "      <td>{'id': 'fullDay', 'name': 'Полный день'}</td>\n",
       "      <td>[]</td>\n",
       "      <td>[]</td>\n",
       "      <td>[]</td>\n",
       "      <td>False</td>\n",
       "    </tr>\n",
       "    <tr>\n",
       "      <th>1</th>\n",
       "      <td>69360960</td>\n",
       "      <td>False</td>\n",
       "      <td>Аналитик данных / Data Analyst (управленческая...</td>\n",
       "      <td>None</td>\n",
       "      <td>False</td>\n",
       "      <td>False</td>\n",
       "      <td>{'id': '1', 'name': 'Москва', 'url': 'https://...</td>\n",
       "      <td>{'from': 150000, 'to': 300000, 'currency': 'RU...</td>\n",
       "      <td>{'id': 'open', 'name': 'Открытая'}</td>\n",
       "      <td>{'city': 'Москва', 'street': 'Большая Тульская...</td>\n",
       "      <td>...</td>\n",
       "      <td>https://hh.ru/vacancy/69360960</td>\n",
       "      <td>[]</td>\n",
       "      <td>{'id': '2464267', 'name': 'Carely', 'url': 'ht...</td>\n",
       "      <td>{'requirement': 'Структурированно описывать би...</td>\n",
       "      <td>None</td>\n",
       "      <td>{'id': 'remote', 'name': 'Удаленная работа'}</td>\n",
       "      <td>[]</td>\n",
       "      <td>[]</td>\n",
       "      <td>[]</td>\n",
       "      <td>False</td>\n",
       "    </tr>\n",
       "    <tr>\n",
       "      <th>2</th>\n",
       "      <td>69982142</td>\n",
       "      <td>False</td>\n",
       "      <td>Аналитик по отчетности</td>\n",
       "      <td>None</td>\n",
       "      <td>False</td>\n",
       "      <td>False</td>\n",
       "      <td>{'id': '88', 'name': 'Казань', 'url': 'https:/...</td>\n",
       "      <td>{'from': 100000, 'to': None, 'currency': 'RUR'...</td>\n",
       "      <td>{'id': 'open', 'name': 'Открытая'}</td>\n",
       "      <td>{'city': 'Казань', 'street': 'проспект Победы'...</td>\n",
       "      <td>...</td>\n",
       "      <td>https://hh.ru/vacancy/69982142</td>\n",
       "      <td>[]</td>\n",
       "      <td>{'id': '1191643', 'name': 'IDF Eurasia', 'url'...</td>\n",
       "      <td>{'requirement': 'Хорошее знание Excel (сводные...</td>\n",
       "      <td>None</td>\n",
       "      <td>{'id': 'fullDay', 'name': 'Полный день'}</td>\n",
       "      <td>[]</td>\n",
       "      <td>[]</td>\n",
       "      <td>[]</td>\n",
       "      <td>False</td>\n",
       "    </tr>\n",
       "    <tr>\n",
       "      <th>3</th>\n",
       "      <td>70167798</td>\n",
       "      <td>False</td>\n",
       "      <td>Аналитик данных</td>\n",
       "      <td>None</td>\n",
       "      <td>False</td>\n",
       "      <td>False</td>\n",
       "      <td>{'id': '2', 'name': 'Санкт-Петербург', 'url': ...</td>\n",
       "      <td>{'from': 60000, 'to': None, 'currency': 'RUR',...</td>\n",
       "      <td>{'id': 'open', 'name': 'Открытая'}</td>\n",
       "      <td>None</td>\n",
       "      <td>...</td>\n",
       "      <td>https://hh.ru/vacancy/70167798</td>\n",
       "      <td>[]</td>\n",
       "      <td>{'id': '9098729', 'name': 'BIZNESKRUCHE', 'url...</td>\n",
       "      <td>{'requirement': 'Базовые навыки программирован...</td>\n",
       "      <td>None</td>\n",
       "      <td>{'id': 'remote', 'name': 'Удаленная работа'}</td>\n",
       "      <td>[]</td>\n",
       "      <td>[]</td>\n",
       "      <td>[]</td>\n",
       "      <td>True</td>\n",
       "    </tr>\n",
       "    <tr>\n",
       "      <th>4</th>\n",
       "      <td>70049715</td>\n",
       "      <td>False</td>\n",
       "      <td>Аналитик данных (SQL)</td>\n",
       "      <td>None</td>\n",
       "      <td>False</td>\n",
       "      <td>False</td>\n",
       "      <td>{'id': '53', 'name': 'Краснодар', 'url': 'http...</td>\n",
       "      <td>{'from': 65000, 'to': 70000, 'currency': 'RUR'...</td>\n",
       "      <td>{'id': 'open', 'name': 'Открытая'}</td>\n",
       "      <td>{'city': 'Краснодар', 'street': 'улица Красных...</td>\n",
       "      <td>...</td>\n",
       "      <td>https://hh.ru/vacancy/70049715</td>\n",
       "      <td>[]</td>\n",
       "      <td>{'id': '2813915', 'name': 'ПРОФИТКЛИКС', 'url'...</td>\n",
       "      <td>{'requirement': 'Умение работать с БД и SQL за...</td>\n",
       "      <td>None</td>\n",
       "      <td>{'id': 'fullDay', 'name': 'Полный день'}</td>\n",
       "      <td>[]</td>\n",
       "      <td>[]</td>\n",
       "      <td>[]</td>\n",
       "      <td>False</td>\n",
       "    </tr>\n",
       "  </tbody>\n",
       "</table>\n",
       "<p>5 rows × 29 columns</p>\n",
       "</div>"
      ],
      "text/plain": [
       "         id  premium                                               name  \\\n",
       "0  70165043    False                                           Аналитик   \n",
       "1  69360960    False  Аналитик данных / Data Analyst (управленческая...   \n",
       "2  69982142    False                             Аналитик по отчетности   \n",
       "3  70167798    False                                    Аналитик данных   \n",
       "4  70049715    False                              Аналитик данных (SQL)   \n",
       "\n",
       "  department  has_test  response_letter_required  \\\n",
       "0       None     False                     False   \n",
       "1       None     False                     False   \n",
       "2       None     False                     False   \n",
       "3       None     False                     False   \n",
       "4       None     False                     False   \n",
       "\n",
       "                                                area  \\\n",
       "0  {'id': '1', 'name': 'Москва', 'url': 'https://...   \n",
       "1  {'id': '1', 'name': 'Москва', 'url': 'https://...   \n",
       "2  {'id': '88', 'name': 'Казань', 'url': 'https:/...   \n",
       "3  {'id': '2', 'name': 'Санкт-Петербург', 'url': ...   \n",
       "4  {'id': '53', 'name': 'Краснодар', 'url': 'http...   \n",
       "\n",
       "                                              salary  \\\n",
       "0  {'from': 100000, 'to': 150000, 'currency': 'RU...   \n",
       "1  {'from': 150000, 'to': 300000, 'currency': 'RU...   \n",
       "2  {'from': 100000, 'to': None, 'currency': 'RUR'...   \n",
       "3  {'from': 60000, 'to': None, 'currency': 'RUR',...   \n",
       "4  {'from': 65000, 'to': 70000, 'currency': 'RUR'...   \n",
       "\n",
       "                                 type  \\\n",
       "0  {'id': 'open', 'name': 'Открытая'}   \n",
       "1  {'id': 'open', 'name': 'Открытая'}   \n",
       "2  {'id': 'open', 'name': 'Открытая'}   \n",
       "3  {'id': 'open', 'name': 'Открытая'}   \n",
       "4  {'id': 'open', 'name': 'Открытая'}   \n",
       "\n",
       "                                             address  ...  \\\n",
       "0  {'city': 'Москва', 'street': 'Пресненская набе...  ...   \n",
       "1  {'city': 'Москва', 'street': 'Большая Тульская...  ...   \n",
       "2  {'city': 'Казань', 'street': 'проспект Победы'...  ...   \n",
       "3                                               None  ...   \n",
       "4  {'city': 'Краснодар', 'street': 'улица Красных...  ...   \n",
       "\n",
       "                    alternate_url relations  \\\n",
       "0  https://hh.ru/vacancy/70165043        []   \n",
       "1  https://hh.ru/vacancy/69360960        []   \n",
       "2  https://hh.ru/vacancy/69982142        []   \n",
       "3  https://hh.ru/vacancy/70167798        []   \n",
       "4  https://hh.ru/vacancy/70049715        []   \n",
       "\n",
       "                                            employer  \\\n",
       "0  {'id': '5021275', 'name': 'НЬЮЭРАМЕДИА', 'url'...   \n",
       "1  {'id': '2464267', 'name': 'Carely', 'url': 'ht...   \n",
       "2  {'id': '1191643', 'name': 'IDF Eurasia', 'url'...   \n",
       "3  {'id': '9098729', 'name': 'BIZNESKRUCHE', 'url...   \n",
       "4  {'id': '2813915', 'name': 'ПРОФИТКЛИКС', 'url'...   \n",
       "\n",
       "                                             snippet  contacts  \\\n",
       "0  {'requirement': 'Мыслить в цифрах. Успешный оп...      None   \n",
       "1  {'requirement': 'Структурированно описывать би...      None   \n",
       "2  {'requirement': 'Хорошее знание Excel (сводные...      None   \n",
       "3  {'requirement': 'Базовые навыки программирован...      None   \n",
       "4  {'requirement': 'Умение работать с БД и SQL за...      None   \n",
       "\n",
       "                                       schedule working_days  \\\n",
       "0      {'id': 'fullDay', 'name': 'Полный день'}           []   \n",
       "1  {'id': 'remote', 'name': 'Удаленная работа'}           []   \n",
       "2      {'id': 'fullDay', 'name': 'Полный день'}           []   \n",
       "3  {'id': 'remote', 'name': 'Удаленная работа'}           []   \n",
       "4      {'id': 'fullDay', 'name': 'Полный день'}           []   \n",
       "\n",
       "  working_time_intervals working_time_modes accept_temporary  \n",
       "0                     []                 []            False  \n",
       "1                     []                 []            False  \n",
       "2                     []                 []            False  \n",
       "3                     []                 []             True  \n",
       "4                     []                 []            False  \n",
       "\n",
       "[5 rows x 29 columns]"
      ]
     },
     "execution_count": 19,
     "metadata": {},
     "output_type": "execute_result"
    }
   ],
   "source": [
    "df.head()"
   ]
  },
  {
   "cell_type": "code",
   "execution_count": 20,
   "metadata": {},
   "outputs": [],
   "source": [
    "# функция для извлечения поля name из объекта json\n",
    "def get_name(cell):\n",
    "    return cell['name']   "
   ]
  },
  {
   "cell_type": "code",
   "execution_count": 21,
   "metadata": {},
   "outputs": [
    {
     "data": {
      "text/plain": [
       "(2000, 7)"
      ]
     },
     "execution_count": 21,
     "metadata": {},
     "output_type": "execute_result"
    }
   ],
   "source": [
    "target_df = df[['id', 'name', 'area', 'salary','published_at','employer', 'schedule']]\n",
    "target_df.shape"
   ]
  },
  {
   "cell_type": "code",
   "execution_count": 22,
   "metadata": {},
   "outputs": [
    {
     "data": {
      "application/vnd.jupyter.widget-view+json": {
       "model_id": "478aa47d84e1428193f565e723274eaf",
       "version_major": 2,
       "version_minor": 0
      },
      "text/plain": [
       "  0%|          | 0/2000 [00:00<?, ?it/s]"
      ]
     },
     "metadata": {},
     "output_type": "display_data"
    }
   ],
   "source": [
    "# получим дополнительныые поля\n",
    "vak_url = 'https://api.hh.ru/vacancies/{}'\n",
    "\n",
    "var = []\n",
    "for i in tqdm(all_vacancy_ids):\n",
    "    var.append(requests.get(vak_url.format(i)).json())"
   ]
  },
  {
   "cell_type": "code",
   "execution_count": 23,
   "metadata": {},
   "outputs": [],
   "source": [
    "# сохраним json в файл\n",
    "with open('var.json', 'w', encoding='utf-8') as f:\n",
    "    json.dump(var, f, ensure_ascii=False, indent=4)"
   ]
  },
  {
   "cell_type": "code",
   "execution_count": 24,
   "metadata": {},
   "outputs": [],
   "source": [
    "additional = pd.DataFrame(var) "
   ]
  },
  {
   "cell_type": "code",
   "execution_count": 25,
   "metadata": {},
   "outputs": [
    {
     "data": {
      "text/plain": [
       "(2000, 47)"
      ]
     },
     "execution_count": 25,
     "metadata": {},
     "output_type": "execute_result"
    }
   ],
   "source": [
    "additional.shape"
   ]
  },
  {
   "cell_type": "code",
   "execution_count": 26,
   "metadata": {},
   "outputs": [
    {
     "name": "stdout",
     "output_type": "stream",
     "text": [
      "<class 'pandas.core.frame.DataFrame'>\n",
      "RangeIndex: 2000 entries, 0 to 1999\n",
      "Data columns (total 47 columns):\n",
      " #   Column                        Non-Null Count  Dtype \n",
      "---  ------                        --------------  ----- \n",
      " 0   id                            2000 non-null   object\n",
      " 1   premium                       2000 non-null   bool  \n",
      " 2   billing_type                  2000 non-null   object\n",
      " 3   relations                     2000 non-null   object\n",
      " 4   name                          2000 non-null   object\n",
      " 5   insider_interview             36 non-null     object\n",
      " 6   response_letter_required      2000 non-null   bool  \n",
      " 7   area                          2000 non-null   object\n",
      " 8   salary                        583 non-null    object\n",
      " 9   type                          2000 non-null   object\n",
      " 10  address                       1109 non-null   object\n",
      " 11  allow_messages                2000 non-null   bool  \n",
      " 12  experience                    2000 non-null   object\n",
      " 13  schedule                      2000 non-null   object\n",
      " 14  employment                    2000 non-null   object\n",
      " 15  department                    314 non-null    object\n",
      " 16  contacts                      0 non-null      object\n",
      " 17  description                   2000 non-null   object\n",
      " 18  branded_description           897 non-null    object\n",
      " 19  vacancy_constructor_template  9 non-null      object\n",
      " 20  key_skills                    2000 non-null   object\n",
      " 21  accept_handicapped            2000 non-null   bool  \n",
      " 22  accept_kids                   2000 non-null   bool  \n",
      " 23  archived                      2000 non-null   bool  \n",
      " 24  response_url                  0 non-null      object\n",
      " 25  specializations               2000 non-null   object\n",
      " 26  professional_roles            2000 non-null   object\n",
      " 27  code                          18 non-null     object\n",
      " 28  hidden                        2000 non-null   bool  \n",
      " 29  quick_responses_allowed       2000 non-null   bool  \n",
      " 30  driver_license_types          2000 non-null   object\n",
      " 31  accept_incomplete_resumes     2000 non-null   bool  \n",
      " 32  employer                      2000 non-null   object\n",
      " 33  published_at                  2000 non-null   object\n",
      " 34  created_at                    2000 non-null   object\n",
      " 35  initial_created_at            2000 non-null   object\n",
      " 36  negotiations_url              0 non-null      object\n",
      " 37  suitable_resumes_url          0 non-null      object\n",
      " 38  apply_alternate_url           2000 non-null   object\n",
      " 39  has_test                      2000 non-null   bool  \n",
      " 40  test                          64 non-null     object\n",
      " 41  alternate_url                 2000 non-null   object\n",
      " 42  working_days                  2000 non-null   object\n",
      " 43  working_time_intervals        2000 non-null   object\n",
      " 44  working_time_modes            2000 non-null   object\n",
      " 45  accept_temporary              2000 non-null   bool  \n",
      " 46  languages                     2000 non-null   object\n",
      "dtypes: bool(11), object(36)\n",
      "memory usage: 584.1+ KB\n"
     ]
    }
   ],
   "source": [
    "additional.info()"
   ]
  },
  {
   "cell_type": "code",
   "execution_count": 27,
   "metadata": {},
   "outputs": [
    {
     "data": {
      "text/html": [
       "<div>\n",
       "<style scoped>\n",
       "    .dataframe tbody tr th:only-of-type {\n",
       "        vertical-align: middle;\n",
       "    }\n",
       "\n",
       "    .dataframe tbody tr th {\n",
       "        vertical-align: top;\n",
       "    }\n",
       "\n",
       "    .dataframe thead th {\n",
       "        text-align: right;\n",
       "    }\n",
       "</style>\n",
       "<table border=\"1\" class=\"dataframe\">\n",
       "  <thead>\n",
       "    <tr style=\"text-align: right;\">\n",
       "      <th></th>\n",
       "      <th>id</th>\n",
       "      <th>name</th>\n",
       "      <th>area</th>\n",
       "      <th>salary</th>\n",
       "      <th>published_at</th>\n",
       "      <th>employer</th>\n",
       "      <th>schedule</th>\n",
       "    </tr>\n",
       "  </thead>\n",
       "  <tbody>\n",
       "    <tr>\n",
       "      <th>0</th>\n",
       "      <td>70165043</td>\n",
       "      <td>Аналитик</td>\n",
       "      <td>{'id': '1', 'name': 'Москва', 'url': 'https://...</td>\n",
       "      <td>{'from': 100000, 'to': 150000, 'currency': 'RU...</td>\n",
       "      <td>2022-09-22T15:15:54+0300</td>\n",
       "      <td>{'id': '5021275', 'name': 'НЬЮЭРАМЕДИА', 'url'...</td>\n",
       "      <td>{'id': 'fullDay', 'name': 'Полный день'}</td>\n",
       "    </tr>\n",
       "    <tr>\n",
       "      <th>1</th>\n",
       "      <td>69360960</td>\n",
       "      <td>Аналитик данных / Data Analyst (управленческая...</td>\n",
       "      <td>{'id': '1', 'name': 'Москва', 'url': 'https://...</td>\n",
       "      <td>{'from': 150000, 'to': 300000, 'currency': 'RU...</td>\n",
       "      <td>2022-09-25T08:27:37+0300</td>\n",
       "      <td>{'id': '2464267', 'name': 'Carely', 'url': 'ht...</td>\n",
       "      <td>{'id': 'remote', 'name': 'Удаленная работа'}</td>\n",
       "    </tr>\n",
       "    <tr>\n",
       "      <th>2</th>\n",
       "      <td>69982142</td>\n",
       "      <td>Аналитик по отчетности</td>\n",
       "      <td>{'id': '88', 'name': 'Казань', 'url': 'https:/...</td>\n",
       "      <td>{'from': 100000, 'to': None, 'currency': 'RUR'...</td>\n",
       "      <td>2022-09-22T16:13:57+0300</td>\n",
       "      <td>{'id': '1191643', 'name': 'IDF Eurasia', 'url'...</td>\n",
       "      <td>{'id': 'fullDay', 'name': 'Полный день'}</td>\n",
       "    </tr>\n",
       "    <tr>\n",
       "      <th>3</th>\n",
       "      <td>70167798</td>\n",
       "      <td>Аналитик данных</td>\n",
       "      <td>{'id': '2', 'name': 'Санкт-Петербург', 'url': ...</td>\n",
       "      <td>{'from': 60000, 'to': None, 'currency': 'RUR',...</td>\n",
       "      <td>2022-09-22T15:52:52+0300</td>\n",
       "      <td>{'id': '9098729', 'name': 'BIZNESKRUCHE', 'url...</td>\n",
       "      <td>{'id': 'remote', 'name': 'Удаленная работа'}</td>\n",
       "    </tr>\n",
       "    <tr>\n",
       "      <th>4</th>\n",
       "      <td>70049715</td>\n",
       "      <td>Аналитик данных (SQL)</td>\n",
       "      <td>{'id': '53', 'name': 'Краснодар', 'url': 'http...</td>\n",
       "      <td>{'from': 65000, 'to': 70000, 'currency': 'RUR'...</td>\n",
       "      <td>2022-09-23T17:30:52+0300</td>\n",
       "      <td>{'id': '2813915', 'name': 'ПРОФИТКЛИКС', 'url'...</td>\n",
       "      <td>{'id': 'fullDay', 'name': 'Полный день'}</td>\n",
       "    </tr>\n",
       "  </tbody>\n",
       "</table>\n",
       "</div>"
      ],
      "text/plain": [
       "         id                                               name  \\\n",
       "0  70165043                                           Аналитик   \n",
       "1  69360960  Аналитик данных / Data Analyst (управленческая...   \n",
       "2  69982142                             Аналитик по отчетности   \n",
       "3  70167798                                    Аналитик данных   \n",
       "4  70049715                              Аналитик данных (SQL)   \n",
       "\n",
       "                                                area  \\\n",
       "0  {'id': '1', 'name': 'Москва', 'url': 'https://...   \n",
       "1  {'id': '1', 'name': 'Москва', 'url': 'https://...   \n",
       "2  {'id': '88', 'name': 'Казань', 'url': 'https:/...   \n",
       "3  {'id': '2', 'name': 'Санкт-Петербург', 'url': ...   \n",
       "4  {'id': '53', 'name': 'Краснодар', 'url': 'http...   \n",
       "\n",
       "                                              salary  \\\n",
       "0  {'from': 100000, 'to': 150000, 'currency': 'RU...   \n",
       "1  {'from': 150000, 'to': 300000, 'currency': 'RU...   \n",
       "2  {'from': 100000, 'to': None, 'currency': 'RUR'...   \n",
       "3  {'from': 60000, 'to': None, 'currency': 'RUR',...   \n",
       "4  {'from': 65000, 'to': 70000, 'currency': 'RUR'...   \n",
       "\n",
       "               published_at  \\\n",
       "0  2022-09-22T15:15:54+0300   \n",
       "1  2022-09-25T08:27:37+0300   \n",
       "2  2022-09-22T16:13:57+0300   \n",
       "3  2022-09-22T15:52:52+0300   \n",
       "4  2022-09-23T17:30:52+0300   \n",
       "\n",
       "                                            employer  \\\n",
       "0  {'id': '5021275', 'name': 'НЬЮЭРАМЕДИА', 'url'...   \n",
       "1  {'id': '2464267', 'name': 'Carely', 'url': 'ht...   \n",
       "2  {'id': '1191643', 'name': 'IDF Eurasia', 'url'...   \n",
       "3  {'id': '9098729', 'name': 'BIZNESKRUCHE', 'url...   \n",
       "4  {'id': '2813915', 'name': 'ПРОФИТКЛИКС', 'url'...   \n",
       "\n",
       "                                       schedule  \n",
       "0      {'id': 'fullDay', 'name': 'Полный день'}  \n",
       "1  {'id': 'remote', 'name': 'Удаленная работа'}  \n",
       "2      {'id': 'fullDay', 'name': 'Полный день'}  \n",
       "3  {'id': 'remote', 'name': 'Удаленная работа'}  \n",
       "4      {'id': 'fullDay', 'name': 'Полный день'}  "
      ]
     },
     "execution_count": 27,
     "metadata": {},
     "output_type": "execute_result"
    }
   ],
   "source": [
    "target_df.head()"
   ]
  },
  {
   "cell_type": "code",
   "execution_count": 28,
   "metadata": {},
   "outputs": [
    {
     "name": "stderr",
     "output_type": "stream",
     "text": [
      "C:\\ProgramData\\Anaconda3\\lib\\site-packages\\pandas\\core\\indexing.py:1684: SettingWithCopyWarning: \n",
      "A value is trying to be set on a copy of a slice from a DataFrame.\n",
      "Try using .loc[row_indexer,col_indexer] = value instead\n",
      "\n",
      "See the caveats in the documentation: https://pandas.pydata.org/pandas-docs/stable/user_guide/indexing.html#returning-a-view-versus-a-copy\n",
      "  self.obj[key] = infer_fill_value(value)\n",
      "C:\\ProgramData\\Anaconda3\\lib\\site-packages\\pandas\\core\\indexing.py:1817: SettingWithCopyWarning: \n",
      "A value is trying to be set on a copy of a slice from a DataFrame.\n",
      "Try using .loc[row_indexer,col_indexer] = value instead\n",
      "\n",
      "See the caveats in the documentation: https://pandas.pydata.org/pandas-docs/stable/user_guide/indexing.html#returning-a-view-versus-a-copy\n",
      "  self._setitem_single_column(loc, value, pi)\n"
     ]
    }
   ],
   "source": [
    "# заполняем уровни опыта\n",
    "target_df.loc[target_df['name'].str.contains('Senior'), 'level_exp'] = 'Senior'\n",
    "target_df.loc[target_df['name'].str.contains('Junior'), 'level_exp'] = 'Junior'\n",
    "target_df.loc[target_df['name'].str.contains('Младший'), 'level_exp'] = 'Junior'\n",
    "target_df.loc[target_df['name'].str.contains('Ведущий'), 'level_exp'] = 'Middle'\n",
    "target_df.loc[target_df['name'].str.contains('Middle'), 'level_exp'] = 'Middle'\n",
    "target_df.loc[target_df['name'].str.contains('Chief'), 'level_exp'] = 'Head'\n",
    "target_df.loc[target_df['name'].str.contains('Head'), 'level_exp'] = 'Head'\n"
   ]
  },
  {
   "cell_type": "code",
   "execution_count": 29,
   "metadata": {},
   "outputs": [
    {
     "name": "stderr",
     "output_type": "stream",
     "text": [
      "C:\\ProgramData\\Anaconda3\\lib\\site-packages\\pandas\\core\\indexing.py:1773: SettingWithCopyWarning: \n",
      "A value is trying to be set on a copy of a slice from a DataFrame.\n",
      "Try using .loc[row_indexer,col_indexer] = value instead\n",
      "\n",
      "See the caveats in the documentation: https://pandas.pydata.org/pandas-docs/stable/user_guide/indexing.html#returning-a-view-versus-a-copy\n",
      "  self._setitem_single_column(ilocs[0], value, pi)\n"
     ]
    }
   ],
   "source": [
    "# преобразуем словари\n",
    "target_df.loc[:,'area'] = target_df['area'].apply(get_name)\n",
    "target_df.loc[:,'employer'] = target_df['employer'].apply(get_name)\n",
    "target_df.loc[:,'schedule'] = target_df['schedule'].apply(get_name)"
   ]
  },
  {
   "cell_type": "code",
   "execution_count": 30,
   "metadata": {
    "scrolled": true
   },
   "outputs": [
    {
     "data": {
      "text/html": [
       "<div>\n",
       "<style scoped>\n",
       "    .dataframe tbody tr th:only-of-type {\n",
       "        vertical-align: middle;\n",
       "    }\n",
       "\n",
       "    .dataframe tbody tr th {\n",
       "        vertical-align: top;\n",
       "    }\n",
       "\n",
       "    .dataframe thead th {\n",
       "        text-align: right;\n",
       "    }\n",
       "</style>\n",
       "<table border=\"1\" class=\"dataframe\">\n",
       "  <thead>\n",
       "    <tr style=\"text-align: right;\">\n",
       "      <th></th>\n",
       "      <th>id</th>\n",
       "      <th>name</th>\n",
       "      <th>area</th>\n",
       "      <th>salary</th>\n",
       "      <th>published_at</th>\n",
       "      <th>employer</th>\n",
       "      <th>schedule</th>\n",
       "      <th>level_exp</th>\n",
       "    </tr>\n",
       "  </thead>\n",
       "  <tbody>\n",
       "    <tr>\n",
       "      <th>0</th>\n",
       "      <td>70165043</td>\n",
       "      <td>Аналитик</td>\n",
       "      <td>Москва</td>\n",
       "      <td>{'from': 100000, 'to': 150000, 'currency': 'RU...</td>\n",
       "      <td>2022-09-22T15:15:54+0300</td>\n",
       "      <td>НЬЮЭРАМЕДИА</td>\n",
       "      <td>Полный день</td>\n",
       "      <td>NaN</td>\n",
       "    </tr>\n",
       "    <tr>\n",
       "      <th>1</th>\n",
       "      <td>69360960</td>\n",
       "      <td>Аналитик данных / Data Analyst (управленческая...</td>\n",
       "      <td>Москва</td>\n",
       "      <td>{'from': 150000, 'to': 300000, 'currency': 'RU...</td>\n",
       "      <td>2022-09-25T08:27:37+0300</td>\n",
       "      <td>Carely</td>\n",
       "      <td>Удаленная работа</td>\n",
       "      <td>NaN</td>\n",
       "    </tr>\n",
       "    <tr>\n",
       "      <th>2</th>\n",
       "      <td>69982142</td>\n",
       "      <td>Аналитик по отчетности</td>\n",
       "      <td>Казань</td>\n",
       "      <td>{'from': 100000, 'to': None, 'currency': 'RUR'...</td>\n",
       "      <td>2022-09-22T16:13:57+0300</td>\n",
       "      <td>IDF Eurasia</td>\n",
       "      <td>Полный день</td>\n",
       "      <td>NaN</td>\n",
       "    </tr>\n",
       "    <tr>\n",
       "      <th>3</th>\n",
       "      <td>70167798</td>\n",
       "      <td>Аналитик данных</td>\n",
       "      <td>Санкт-Петербург</td>\n",
       "      <td>{'from': 60000, 'to': None, 'currency': 'RUR',...</td>\n",
       "      <td>2022-09-22T15:52:52+0300</td>\n",
       "      <td>BIZNESKRUCHE</td>\n",
       "      <td>Удаленная работа</td>\n",
       "      <td>NaN</td>\n",
       "    </tr>\n",
       "    <tr>\n",
       "      <th>4</th>\n",
       "      <td>70049715</td>\n",
       "      <td>Аналитик данных (SQL)</td>\n",
       "      <td>Краснодар</td>\n",
       "      <td>{'from': 65000, 'to': 70000, 'currency': 'RUR'...</td>\n",
       "      <td>2022-09-23T17:30:52+0300</td>\n",
       "      <td>ПРОФИТКЛИКС</td>\n",
       "      <td>Полный день</td>\n",
       "      <td>NaN</td>\n",
       "    </tr>\n",
       "  </tbody>\n",
       "</table>\n",
       "</div>"
      ],
      "text/plain": [
       "         id                                               name  \\\n",
       "0  70165043                                           Аналитик   \n",
       "1  69360960  Аналитик данных / Data Analyst (управленческая...   \n",
       "2  69982142                             Аналитик по отчетности   \n",
       "3  70167798                                    Аналитик данных   \n",
       "4  70049715                              Аналитик данных (SQL)   \n",
       "\n",
       "              area                                             salary  \\\n",
       "0           Москва  {'from': 100000, 'to': 150000, 'currency': 'RU...   \n",
       "1           Москва  {'from': 150000, 'to': 300000, 'currency': 'RU...   \n",
       "2           Казань  {'from': 100000, 'to': None, 'currency': 'RUR'...   \n",
       "3  Санкт-Петербург  {'from': 60000, 'to': None, 'currency': 'RUR',...   \n",
       "4        Краснодар  {'from': 65000, 'to': 70000, 'currency': 'RUR'...   \n",
       "\n",
       "               published_at      employer          schedule level_exp  \n",
       "0  2022-09-22T15:15:54+0300   НЬЮЭРАМЕДИА       Полный день       NaN  \n",
       "1  2022-09-25T08:27:37+0300        Carely  Удаленная работа       NaN  \n",
       "2  2022-09-22T16:13:57+0300   IDF Eurasia       Полный день       NaN  \n",
       "3  2022-09-22T15:52:52+0300  BIZNESKRUCHE  Удаленная работа       NaN  \n",
       "4  2022-09-23T17:30:52+0300   ПРОФИТКЛИКС       Полный день       NaN  "
      ]
     },
     "execution_count": 30,
     "metadata": {},
     "output_type": "execute_result"
    }
   ],
   "source": [
    "target_df.head()"
   ]
  },
  {
   "cell_type": "code",
   "execution_count": 31,
   "metadata": {
    "scrolled": false
   },
   "outputs": [
    {
     "data": {
      "image/png": "[encoded data removed]",
      "text/plain": [
       "<Figure size 432x288 with 1 Axes>"
      ]
     },
     "metadata": {
      "needs_background": "light"
     },
     "output_type": "display_data"
    }
   ],
   "source": [
    "# выведем наибольший спрос от работодателей\n",
    "\n",
    "#target_df.groupby('employer')['id'].count()\n",
    "s = target_df.groupby('employer').size()\n",
    "vac_by_empl = s[s.values>10].sort_values()\n",
    "emp = vac_by_empl.index\n",
    "val = vac_by_empl.values\n",
    "plt.barh(emp,val)\n",
    "plt.xlabel = 'Работодатели'\n",
    "plt.ylabel = 'Вакансии'\n",
    "plt.title('Количество вакансий от работодателей')\n",
    "plt.show()"
   ]
  },
  {
   "cell_type": "code",
   "execution_count": 32,
   "metadata": {},
   "outputs": [
    {
     "name": "stderr",
     "output_type": "stream",
     "text": [
      "C:\\Users\\vg207\\AppData\\Local\\Temp/ipykernel_1864/2894524284.py:3: SettingWithCopyWarning: \n",
      "A value is trying to be set on a copy of a slice from a DataFrame.\n",
      "Try using .loc[row_indexer,col_indexer] = value instead\n",
      "\n",
      "See the caveats in the documentation: https://pandas.pydata.org/pandas-docs/stable/user_guide/indexing.html#returning-a-view-versus-a-copy\n",
      "  add_info['exb_by_year'] = add_info['experience'].apply(get_name)\n",
      "C:\\ProgramData\\Anaconda3\\lib\\site-packages\\pandas\\core\\indexing.py:1773: SettingWithCopyWarning: \n",
      "A value is trying to be set on a copy of a slice from a DataFrame.\n",
      "Try using .loc[row_indexer,col_indexer] = value instead\n",
      "\n",
      "See the caveats in the documentation: https://pandas.pydata.org/pandas-docs/stable/user_guide/indexing.html#returning-a-view-versus-a-copy\n",
      "  self._setitem_single_column(ilocs[0], value, pi)\n"
     ]
    }
   ],
   "source": [
    "# попытка заполнить недостающие данные\n",
    "add_info = additional[['id', 'experience','key_skills']]\n",
    "add_info['exb_by_year'] = add_info['experience'].apply(get_name)\n",
    "add_info.loc[:,'experience'] = add_info['experience'].apply(get_name)\n",
    "#add_info.drop('experience', axis=1, inplace=True)"
   ]
  },
  {
   "cell_type": "code",
   "execution_count": 33,
   "metadata": {},
   "outputs": [],
   "source": [
    "emp_map = {'Нет опыта':'Junior', 'От 1 года до 3 лет':'Middle', 'От 3 до 6 лет':'Senior', 'Более 6 лет': 'Senior'}\n",
    "add_info.loc[:,'exb_by_year'] = add_info['exb_by_year'].map(emp_map)"
   ]
  },
  {
   "cell_type": "code",
   "execution_count": 34,
   "metadata": {},
   "outputs": [],
   "source": [
    "target_df_full = pd.merge(target_df, add_info, on='id', how='left')   "
   ]
  },
  {
   "cell_type": "code",
   "execution_count": 35,
   "metadata": {},
   "outputs": [
    {
     "data": {
      "text/html": [
       "<div>\n",
       "<style scoped>\n",
       "    .dataframe tbody tr th:only-of-type {\n",
       "        vertical-align: middle;\n",
       "    }\n",
       "\n",
       "    .dataframe tbody tr th {\n",
       "        vertical-align: top;\n",
       "    }\n",
       "\n",
       "    .dataframe thead th {\n",
       "        text-align: right;\n",
       "    }\n",
       "</style>\n",
       "<table border=\"1\" class=\"dataframe\">\n",
       "  <thead>\n",
       "    <tr style=\"text-align: right;\">\n",
       "      <th></th>\n",
       "      <th>id</th>\n",
       "      <th>name</th>\n",
       "      <th>area</th>\n",
       "      <th>salary</th>\n",
       "      <th>published_at</th>\n",
       "      <th>employer</th>\n",
       "      <th>schedule</th>\n",
       "      <th>level_exp</th>\n",
       "      <th>experience</th>\n",
       "      <th>key_skills</th>\n",
       "      <th>exb_by_year</th>\n",
       "    </tr>\n",
       "  </thead>\n",
       "  <tbody>\n",
       "    <tr>\n",
       "      <th>0</th>\n",
       "      <td>70165043</td>\n",
       "      <td>Аналитик</td>\n",
       "      <td>Москва</td>\n",
       "      <td>{'from': 100000, 'to': 150000, 'currency': 'RU...</td>\n",
       "      <td>2022-09-22T15:15:54+0300</td>\n",
       "      <td>НЬЮЭРАМЕДИА</td>\n",
       "      <td>Полный день</td>\n",
       "      <td>NaN</td>\n",
       "      <td>От 1 года до 3 лет</td>\n",
       "      <td>[{'name': 'SQL'}, {'name': 'Power BI'}, {'name...</td>\n",
       "      <td>Middle</td>\n",
       "    </tr>\n",
       "    <tr>\n",
       "      <th>1</th>\n",
       "      <td>69360960</td>\n",
       "      <td>Аналитик данных / Data Analyst (управленческая...</td>\n",
       "      <td>Москва</td>\n",
       "      <td>{'from': 150000, 'to': 300000, 'currency': 'RU...</td>\n",
       "      <td>2022-09-25T08:27:37+0300</td>\n",
       "      <td>Carely</td>\n",
       "      <td>Удаленная работа</td>\n",
       "      <td>NaN</td>\n",
       "      <td>От 3 до 6 лет</td>\n",
       "      <td>[{'name': 'SQL'}, {'name': 'Python'}, {'name':...</td>\n",
       "      <td>Senior</td>\n",
       "    </tr>\n",
       "    <tr>\n",
       "      <th>2</th>\n",
       "      <td>69982142</td>\n",
       "      <td>Аналитик по отчетности</td>\n",
       "      <td>Казань</td>\n",
       "      <td>{'from': 100000, 'to': None, 'currency': 'RUR'...</td>\n",
       "      <td>2022-09-22T16:13:57+0300</td>\n",
       "      <td>IDF Eurasia</td>\n",
       "      <td>Полный день</td>\n",
       "      <td>NaN</td>\n",
       "      <td>От 1 года до 3 лет</td>\n",
       "      <td>[{'name': 'SQL'}, {'name': 'Работа с базами да...</td>\n",
       "      <td>Middle</td>\n",
       "    </tr>\n",
       "    <tr>\n",
       "      <th>3</th>\n",
       "      <td>70167798</td>\n",
       "      <td>Аналитик данных</td>\n",
       "      <td>Санкт-Петербург</td>\n",
       "      <td>{'from': 60000, 'to': None, 'currency': 'RUR',...</td>\n",
       "      <td>2022-09-22T15:52:52+0300</td>\n",
       "      <td>BIZNESKRUCHE</td>\n",
       "      <td>Удаленная работа</td>\n",
       "      <td>NaN</td>\n",
       "      <td>От 1 года до 3 лет</td>\n",
       "      <td>[{'name': 'Google Sheets'}, {'name': 'Power BI...</td>\n",
       "      <td>Middle</td>\n",
       "    </tr>\n",
       "    <tr>\n",
       "      <th>4</th>\n",
       "      <td>70049715</td>\n",
       "      <td>Аналитик данных (SQL)</td>\n",
       "      <td>Краснодар</td>\n",
       "      <td>{'from': 65000, 'to': 70000, 'currency': 'RUR'...</td>\n",
       "      <td>2022-09-23T17:30:52+0300</td>\n",
       "      <td>ПРОФИТКЛИКС</td>\n",
       "      <td>Полный день</td>\n",
       "      <td>NaN</td>\n",
       "      <td>От 1 года до 3 лет</td>\n",
       "      <td>[{'name': 'SQL'}, {'name': 'Анализ данных'}, {...</td>\n",
       "      <td>Middle</td>\n",
       "    </tr>\n",
       "  </tbody>\n",
       "</table>\n",
       "</div>"
      ],
      "text/plain": [
       "         id                                               name  \\\n",
       "0  70165043                                           Аналитик   \n",
       "1  69360960  Аналитик данных / Data Analyst (управленческая...   \n",
       "2  69982142                             Аналитик по отчетности   \n",
       "3  70167798                                    Аналитик данных   \n",
       "4  70049715                              Аналитик данных (SQL)   \n",
       "\n",
       "              area                                             salary  \\\n",
       "0           Москва  {'from': 100000, 'to': 150000, 'currency': 'RU...   \n",
       "1           Москва  {'from': 150000, 'to': 300000, 'currency': 'RU...   \n",
       "2           Казань  {'from': 100000, 'to': None, 'currency': 'RUR'...   \n",
       "3  Санкт-Петербург  {'from': 60000, 'to': None, 'currency': 'RUR',...   \n",
       "4        Краснодар  {'from': 65000, 'to': 70000, 'currency': 'RUR'...   \n",
       "\n",
       "               published_at      employer          schedule level_exp  \\\n",
       "0  2022-09-22T15:15:54+0300   НЬЮЭРАМЕДИА       Полный день       NaN   \n",
       "1  2022-09-25T08:27:37+0300        Carely  Удаленная работа       NaN   \n",
       "2  2022-09-22T16:13:57+0300   IDF Eurasia       Полный день       NaN   \n",
       "3  2022-09-22T15:52:52+0300  BIZNESKRUCHE  Удаленная работа       NaN   \n",
       "4  2022-09-23T17:30:52+0300   ПРОФИТКЛИКС       Полный день       NaN   \n",
       "\n",
       "           experience                                         key_skills  \\\n",
       "0  От 1 года до 3 лет  [{'name': 'SQL'}, {'name': 'Power BI'}, {'name...   \n",
       "1       От 3 до 6 лет  [{'name': 'SQL'}, {'name': 'Python'}, {'name':...   \n",
       "2  От 1 года до 3 лет  [{'name': 'SQL'}, {'name': 'Работа с базами да...   \n",
       "3  От 1 года до 3 лет  [{'name': 'Google Sheets'}, {'name': 'Power BI...   \n",
       "4  От 1 года до 3 лет  [{'name': 'SQL'}, {'name': 'Анализ данных'}, {...   \n",
       "\n",
       "  exb_by_year  \n",
       "0      Middle  \n",
       "1      Senior  \n",
       "2      Middle  \n",
       "3      Middle  \n",
       "4      Middle  "
      ]
     },
     "execution_count": 35,
     "metadata": {},
     "output_type": "execute_result"
    }
   ],
   "source": [
    "target_df_full.head()"
   ]
  },
  {
   "cell_type": "code",
   "execution_count": 36,
   "metadata": {},
   "outputs": [
    {
     "data": {
      "text/html": [
       "<div>\n",
       "<style scoped>\n",
       "    .dataframe tbody tr th:only-of-type {\n",
       "        vertical-align: middle;\n",
       "    }\n",
       "\n",
       "    .dataframe tbody tr th {\n",
       "        vertical-align: top;\n",
       "    }\n",
       "\n",
       "    .dataframe thead th {\n",
       "        text-align: right;\n",
       "    }\n",
       "</style>\n",
       "<table border=\"1\" class=\"dataframe\">\n",
       "  <thead>\n",
       "    <tr style=\"text-align: right;\">\n",
       "      <th></th>\n",
       "      <th>salary</th>\n",
       "    </tr>\n",
       "  </thead>\n",
       "  <tbody>\n",
       "    <tr>\n",
       "      <th>count</th>\n",
       "      <td>584</td>\n",
       "    </tr>\n",
       "    <tr>\n",
       "      <th>unique</th>\n",
       "      <td>263</td>\n",
       "    </tr>\n",
       "    <tr>\n",
       "      <th>top</th>\n",
       "      <td>{'from': 80000, 'to': None, 'currency': 'RUR',...</td>\n",
       "    </tr>\n",
       "    <tr>\n",
       "      <th>freq</th>\n",
       "      <td>26</td>\n",
       "    </tr>\n",
       "  </tbody>\n",
       "</table>\n",
       "</div>"
      ],
      "text/plain": [
       "                                                   salary\n",
       "count                                                 584\n",
       "unique                                                263\n",
       "top     {'from': 80000, 'to': None, 'currency': 'RUR',...\n",
       "freq                                                   26"
      ]
     },
     "execution_count": 36,
     "metadata": {},
     "output_type": "execute_result"
    }
   ],
   "source": [
    "target_df_full[['salary']].describe()"
   ]
  },
  {
   "cell_type": "code",
   "execution_count": 37,
   "metadata": {},
   "outputs": [
    {
     "data": {
      "image/png": "[encoded data removed]",
      "text/plain": [
       "<Figure size 432x288 with 1 Axes>"
      ]
     },
     "metadata": {},
     "output_type": "display_data"
    }
   ],
   "source": [
    "# соотношение вакансий с запрашиваемым уровнем опыта\n",
    "exp = target_df_full.groupby('experience').size()\n",
    "labels = exp.index\n",
    "sizes = exp.values\n",
    "fig, ax = plt.subplots()\n",
    "wedge_properties = {\"width\":0.9}\n",
    "ax.pie(sizes, labels=labels, autopct='%.1f%%', wedgeprops=wedge_properties, startangle=30, radius = 1.7)\n",
    "fig.suptitle('Соотношение вакансий с запрашиваемым уровнем опыта', x=0.55, y=1.1)\n",
    "plt.show()"
   ]
  },
  {
   "cell_type": "code",
   "execution_count": 38,
   "metadata": {},
   "outputs": [],
   "source": [
    "def get_curr(cell):\n",
    "    if cell is None:\n",
    "        return 'RUR'\n",
    "    else:\n",
    "        return cell['currency']"
   ]
  },
  {
   "cell_type": "code",
   "execution_count": 39,
   "metadata": {},
   "outputs": [],
   "source": [
    "def get_salary(cell):\n",
    "    EUR = 56.48\n",
    "    USD = 58.1\n",
    "    if cell is None:\n",
    "        return None\n",
    "    else:\n",
    "        from_sal = cell['from']\n",
    "        to_sal = cell['to']\n",
    "        if to_sal is None:\n",
    "            if get_curr(cell) == 'RUR':\n",
    "                salary = from_sal\n",
    "            elif get_curr(cell) == 'EUR':\n",
    "                salary = from_sal*EUR\n",
    "            elif get_curr(cell) == 'USD':\n",
    "                salary = from_sal*USD\n",
    "        else:\n",
    "            salary = to_sal\n",
    "            if get_curr(cell) == 'RUR':\n",
    "                salary = to_sal\n",
    "            elif get_curr(cell) == 'EUR':\n",
    "                salary = to_sal*EUR\n",
    "            elif get_curr(cell) == 'USD':\n",
    "                salary = to_sal*USD\n",
    "            \n",
    "        return salary\n",
    "\n",
    "def get_salary_from(cell):\n",
    "    EUR = 56.48\n",
    "    USD = 58.1\n",
    "    if cell is None:\n",
    "        return None\n",
    "    else:\n",
    "        from_sal = cell['from']\n",
    "        to_sal = cell['to']\n",
    "        if from_sal is None:\n",
    "            salary=0\n",
    "        else:\n",
    "            if get_curr(cell) == 'RUR':\n",
    "                salary = from_sal\n",
    "            elif get_curr(cell) == 'EUR':\n",
    "                salary = from_sal*EUR\n",
    "            elif get_curr(cell) == 'USD':\n",
    "                salary = from_sal*USD\n",
    "    return salary\n",
    "    \n",
    "    \n",
    "    "
   ]
  },
  {
   "cell_type": "code",
   "execution_count": 40,
   "metadata": {},
   "outputs": [
    {
     "data": {
      "text/plain": [
       "564.8"
      ]
     },
     "execution_count": 40,
     "metadata": {},
     "output_type": "execute_result"
    }
   ],
   "source": [
    "d = {'from': 10 , 'to': None, 'currency': 'EUR'}\n",
    "get_salary(d)\n",
    "#get_salary_from(d)"
   ]
  },
  {
   "cell_type": "code",
   "execution_count": 41,
   "metadata": {},
   "outputs": [],
   "source": [
    "salary_by_city = target_df_full[['area','salary']]"
   ]
  },
  {
   "cell_type": "code",
   "execution_count": 42,
   "metadata": {},
   "outputs": [
    {
     "name": "stdout",
     "output_type": "stream",
     "text": [
      "salary    1420\n",
      "dtype: int64\n"
     ]
    }
   ],
   "source": [
    "salary_is_null = salary_by_city[['salary']].isnull().sum()\n",
    "print(salary_is_null)\n",
    "d = salary_by_city['area'].count()\n",
    "n = salary_by_city['salary'].count()"
   ]
  },
  {
   "cell_type": "code",
   "execution_count": 43,
   "metadata": {},
   "outputs": [
    {
     "data": {
      "image/png": "[encoded data removed]",
      "text/plain": [
       "<Figure size 432x288 with 1 Axes>"
      ]
     },
     "metadata": {},
     "output_type": "display_data"
    }
   ],
   "source": [
    "labels = ['Указана з/п','Не указана з/п']\n",
    "sizes = [n, d-n]\n",
    "fig, ax = plt.subplots()\n",
    "wedge_properties = {\"width\":0.9}\n",
    "ax.pie(sizes, labels=labels, autopct='%.1f%%', wedgeprops=wedge_properties, startangle=30, radius = 1.7)\n",
    "fig.suptitle('Соотношение вакансий с указанной заработной платой', x=0.55, y=1.2)\n",
    "plt.show()"
   ]
  },
  {
   "cell_type": "code",
   "execution_count": 44,
   "metadata": {},
   "outputs": [],
   "source": [
    "target_df_full.loc[:,'salary_from'] = target_df_full['salary'].apply(get_salary_from)\n",
    "target_df_full.loc[:,'salary_to'] = target_df_full['salary'].apply(get_salary)\n",
    "target_df_full.loc[:,'currency'] = target_df_full['salary'].apply(get_curr)"
   ]
  },
  {
   "cell_type": "code",
   "execution_count": 45,
   "metadata": {},
   "outputs": [],
   "source": [
    "eur = 56.48\n",
    "usd = 58.1"
   ]
  },
  {
   "cell_type": "code",
   "execution_count": 46,
   "metadata": {
    "scrolled": true
   },
   "outputs": [
    {
     "data": {
      "text/plain": [
       "array(['RUR', 'USD', 'EUR'], dtype=object)"
      ]
     },
     "execution_count": 46,
     "metadata": {},
     "output_type": "execute_result"
    }
   ],
   "source": [
    "target_df_full['currency'].unique()"
   ]
  },
  {
   "cell_type": "code",
   "execution_count": 47,
   "metadata": {},
   "outputs": [],
   "source": [
    "#target_df_full.drop('salary', inplace=True, axis = 1)"
   ]
  },
  {
   "cell_type": "code",
   "execution_count": 48,
   "metadata": {
    "scrolled": true
   },
   "outputs": [
    {
     "data": {
      "text/html": [
       "<div>\n",
       "<style scoped>\n",
       "    .dataframe tbody tr th:only-of-type {\n",
       "        vertical-align: middle;\n",
       "    }\n",
       "\n",
       "    .dataframe tbody tr th {\n",
       "        vertical-align: top;\n",
       "    }\n",
       "\n",
       "    .dataframe thead th {\n",
       "        text-align: right;\n",
       "    }\n",
       "</style>\n",
       "<table border=\"1\" class=\"dataframe\">\n",
       "  <thead>\n",
       "    <tr style=\"text-align: right;\">\n",
       "      <th></th>\n",
       "      <th>id</th>\n",
       "      <th>name</th>\n",
       "      <th>area</th>\n",
       "      <th>salary</th>\n",
       "      <th>published_at</th>\n",
       "      <th>employer</th>\n",
       "      <th>schedule</th>\n",
       "      <th>level_exp</th>\n",
       "      <th>experience</th>\n",
       "      <th>key_skills</th>\n",
       "      <th>exb_by_year</th>\n",
       "      <th>salary_from</th>\n",
       "      <th>salary_to</th>\n",
       "      <th>currency</th>\n",
       "    </tr>\n",
       "  </thead>\n",
       "  <tbody>\n",
       "    <tr>\n",
       "      <th>0</th>\n",
       "      <td>70165043</td>\n",
       "      <td>Аналитик</td>\n",
       "      <td>Москва</td>\n",
       "      <td>{'from': 100000, 'to': 150000, 'currency': 'RU...</td>\n",
       "      <td>2022-09-22T15:15:54+0300</td>\n",
       "      <td>НЬЮЭРАМЕДИА</td>\n",
       "      <td>Полный день</td>\n",
       "      <td>NaN</td>\n",
       "      <td>От 1 года до 3 лет</td>\n",
       "      <td>[{'name': 'SQL'}, {'name': 'Power BI'}, {'name...</td>\n",
       "      <td>Middle</td>\n",
       "      <td>100000.0</td>\n",
       "      <td>150000.0</td>\n",
       "      <td>RUR</td>\n",
       "    </tr>\n",
       "    <tr>\n",
       "      <th>1</th>\n",
       "      <td>69360960</td>\n",
       "      <td>Аналитик данных / Data Analyst (управленческая...</td>\n",
       "      <td>Москва</td>\n",
       "      <td>{'from': 150000, 'to': 300000, 'currency': 'RU...</td>\n",
       "      <td>2022-09-25T08:27:37+0300</td>\n",
       "      <td>Carely</td>\n",
       "      <td>Удаленная работа</td>\n",
       "      <td>NaN</td>\n",
       "      <td>От 3 до 6 лет</td>\n",
       "      <td>[{'name': 'SQL'}, {'name': 'Python'}, {'name':...</td>\n",
       "      <td>Senior</td>\n",
       "      <td>150000.0</td>\n",
       "      <td>300000.0</td>\n",
       "      <td>RUR</td>\n",
       "    </tr>\n",
       "    <tr>\n",
       "      <th>2</th>\n",
       "      <td>69982142</td>\n",
       "      <td>Аналитик по отчетности</td>\n",
       "      <td>Казань</td>\n",
       "      <td>{'from': 100000, 'to': None, 'currency': 'RUR'...</td>\n",
       "      <td>2022-09-22T16:13:57+0300</td>\n",
       "      <td>IDF Eurasia</td>\n",
       "      <td>Полный день</td>\n",
       "      <td>NaN</td>\n",
       "      <td>От 1 года до 3 лет</td>\n",
       "      <td>[{'name': 'SQL'}, {'name': 'Работа с базами да...</td>\n",
       "      <td>Middle</td>\n",
       "      <td>100000.0</td>\n",
       "      <td>100000.0</td>\n",
       "      <td>RUR</td>\n",
       "    </tr>\n",
       "    <tr>\n",
       "      <th>3</th>\n",
       "      <td>70167798</td>\n",
       "      <td>Аналитик данных</td>\n",
       "      <td>Санкт-Петербург</td>\n",
       "      <td>{'from': 60000, 'to': None, 'currency': 'RUR',...</td>\n",
       "      <td>2022-09-22T15:52:52+0300</td>\n",
       "      <td>BIZNESKRUCHE</td>\n",
       "      <td>Удаленная работа</td>\n",
       "      <td>NaN</td>\n",
       "      <td>От 1 года до 3 лет</td>\n",
       "      <td>[{'name': 'Google Sheets'}, {'name': 'Power BI...</td>\n",
       "      <td>Middle</td>\n",
       "      <td>60000.0</td>\n",
       "      <td>60000.0</td>\n",
       "      <td>RUR</td>\n",
       "    </tr>\n",
       "    <tr>\n",
       "      <th>4</th>\n",
       "      <td>70049715</td>\n",
       "      <td>Аналитик данных (SQL)</td>\n",
       "      <td>Краснодар</td>\n",
       "      <td>{'from': 65000, 'to': 70000, 'currency': 'RUR'...</td>\n",
       "      <td>2022-09-23T17:30:52+0300</td>\n",
       "      <td>ПРОФИТКЛИКС</td>\n",
       "      <td>Полный день</td>\n",
       "      <td>NaN</td>\n",
       "      <td>От 1 года до 3 лет</td>\n",
       "      <td>[{'name': 'SQL'}, {'name': 'Анализ данных'}, {...</td>\n",
       "      <td>Middle</td>\n",
       "      <td>65000.0</td>\n",
       "      <td>70000.0</td>\n",
       "      <td>RUR</td>\n",
       "    </tr>\n",
       "    <tr>\n",
       "      <th>5</th>\n",
       "      <td>69755863</td>\n",
       "      <td>Аналитик данных</td>\n",
       "      <td>Москва</td>\n",
       "      <td>{'from': 200000, 'to': None, 'currency': 'RUR'...</td>\n",
       "      <td>2022-09-23T13:55:28+0300</td>\n",
       "      <td>MedPoint24</td>\n",
       "      <td>Полный день</td>\n",
       "      <td>NaN</td>\n",
       "      <td>От 1 года до 3 лет</td>\n",
       "      <td>[{'name': 'Финансовый анализ'}, {'name': 'MS P...</td>\n",
       "      <td>Middle</td>\n",
       "      <td>200000.0</td>\n",
       "      <td>200000.0</td>\n",
       "      <td>RUR</td>\n",
       "    </tr>\n",
       "    <tr>\n",
       "      <th>6</th>\n",
       "      <td>69647954</td>\n",
       "      <td>Аналитик данных / Data Analyst</td>\n",
       "      <td>Москва</td>\n",
       "      <td>{'from': 60000, 'to': 90000, 'currency': 'RUR'...</td>\n",
       "      <td>2022-09-24T09:47:19+0300</td>\n",
       "      <td>Оптимакрос</td>\n",
       "      <td>Удаленная работа</td>\n",
       "      <td>NaN</td>\n",
       "      <td>От 1 года до 3 лет</td>\n",
       "      <td>[{'name': 'Python'}, {'name': 'SQL'}, {'name':...</td>\n",
       "      <td>Middle</td>\n",
       "      <td>60000.0</td>\n",
       "      <td>90000.0</td>\n",
       "      <td>RUR</td>\n",
       "    </tr>\n",
       "    <tr>\n",
       "      <th>7</th>\n",
       "      <td>69665613</td>\n",
       "      <td>Аналитик (EXCEL)</td>\n",
       "      <td>Москва</td>\n",
       "      <td>{'from': None, 'to': 100000, 'currency': 'RUR'...</td>\n",
       "      <td>2022-09-24T15:11:16+0300</td>\n",
       "      <td>оператор связи WhyFly</td>\n",
       "      <td>Полный день</td>\n",
       "      <td>NaN</td>\n",
       "      <td>От 1 года до 3 лет</td>\n",
       "      <td>[{'name': 'Подготовка презентаций'}, {'name': ...</td>\n",
       "      <td>Middle</td>\n",
       "      <td>0.0</td>\n",
       "      <td>100000.0</td>\n",
       "      <td>RUR</td>\n",
       "    </tr>\n",
       "    <tr>\n",
       "      <th>8</th>\n",
       "      <td>69700212</td>\n",
       "      <td>Аналитик BI</td>\n",
       "      <td>Москва</td>\n",
       "      <td>{'from': 240000, 'to': None, 'currency': 'RUR'...</td>\n",
       "      <td>2022-09-24T10:17:36+0300</td>\n",
       "      <td>Платформа Больших Данных</td>\n",
       "      <td>Полный день</td>\n",
       "      <td>NaN</td>\n",
       "      <td>От 3 до 6 лет</td>\n",
       "      <td>[{'name': 'Статистический анализ'}, {'name': '...</td>\n",
       "      <td>Senior</td>\n",
       "      <td>240000.0</td>\n",
       "      <td>240000.0</td>\n",
       "      <td>RUR</td>\n",
       "    </tr>\n",
       "    <tr>\n",
       "      <th>9</th>\n",
       "      <td>67711496</td>\n",
       "      <td>Аналитик SQL</td>\n",
       "      <td>Москва</td>\n",
       "      <td>{'from': 150000, 'to': 200000, 'currency': 'RU...</td>\n",
       "      <td>2022-09-23T16:58:40+0300</td>\n",
       "      <td>WILDBERRIES</td>\n",
       "      <td>Полный день</td>\n",
       "      <td>NaN</td>\n",
       "      <td>От 1 года до 3 лет</td>\n",
       "      <td>[{'name': 'MS SQL'}, {'name': 'Бизнес-анализ'}...</td>\n",
       "      <td>Middle</td>\n",
       "      <td>150000.0</td>\n",
       "      <td>200000.0</td>\n",
       "      <td>RUR</td>\n",
       "    </tr>\n",
       "    <tr>\n",
       "      <th>10</th>\n",
       "      <td>68663310</td>\n",
       "      <td>Аналитик данных</td>\n",
       "      <td>Санкт-Петербург</td>\n",
       "      <td>{'from': 90000, 'to': None, 'currency': 'RUR',...</td>\n",
       "      <td>2022-09-23T18:57:33+0300</td>\n",
       "      <td>Нмаркет.ПРО</td>\n",
       "      <td>Удаленная работа</td>\n",
       "      <td>NaN</td>\n",
       "      <td>От 3 до 6 лет</td>\n",
       "      <td>[{'name': 'Python'}, {'name': 'SQL'}, {'name':...</td>\n",
       "      <td>Senior</td>\n",
       "      <td>90000.0</td>\n",
       "      <td>90000.0</td>\n",
       "      <td>RUR</td>\n",
       "    </tr>\n",
       "    <tr>\n",
       "      <th>11</th>\n",
       "      <td>69335818</td>\n",
       "      <td>Аналитик BI/DWH</td>\n",
       "      <td>Москва</td>\n",
       "      <td>{'from': None, 'to': 3000, 'currency': 'USD', ...</td>\n",
       "      <td>2022-09-24T12:04:15+0300</td>\n",
       "      <td>STENN</td>\n",
       "      <td>Гибкий график</td>\n",
       "      <td>NaN</td>\n",
       "      <td>От 1 года до 3 лет</td>\n",
       "      <td>[{'name': 'SQL'}, {'name': 'MS SQL'}, {'name':...</td>\n",
       "      <td>Middle</td>\n",
       "      <td>0.0</td>\n",
       "      <td>174300.0</td>\n",
       "      <td>USD</td>\n",
       "    </tr>\n",
       "    <tr>\n",
       "      <th>12</th>\n",
       "      <td>70038721</td>\n",
       "      <td>Бизнес-аналитик</td>\n",
       "      <td>Москва</td>\n",
       "      <td>{'from': None, 'to': 200000, 'currency': 'RUR'...</td>\n",
       "      <td>2022-09-23T15:13:38+0300</td>\n",
       "      <td>Ямс Фуд</td>\n",
       "      <td>Полный день</td>\n",
       "      <td>NaN</td>\n",
       "      <td>От 1 года до 3 лет</td>\n",
       "      <td>[{'name': 'UML'}, {'name': 'BPMN'}, {'name': '...</td>\n",
       "      <td>Middle</td>\n",
       "      <td>0.0</td>\n",
       "      <td>200000.0</td>\n",
       "      <td>RUR</td>\n",
       "    </tr>\n",
       "    <tr>\n",
       "      <th>13</th>\n",
       "      <td>54721740</td>\n",
       "      <td>Младший аналитик данных (Junior data analyst)</td>\n",
       "      <td>Санкт-Петербург</td>\n",
       "      <td>{'from': 100000, 'to': None, 'currency': 'RUR'...</td>\n",
       "      <td>2022-09-23T11:30:27+0300</td>\n",
       "      <td>Финансово-правовой альянс</td>\n",
       "      <td>Полный день</td>\n",
       "      <td>Junior</td>\n",
       "      <td>От 1 года до 3 лет</td>\n",
       "      <td>[{'name': 'Data Mining'}, {'name': 'SQL'}, {'n...</td>\n",
       "      <td>Middle</td>\n",
       "      <td>100000.0</td>\n",
       "      <td>100000.0</td>\n",
       "      <td>RUR</td>\n",
       "    </tr>\n",
       "    <tr>\n",
       "      <th>14</th>\n",
       "      <td>70176781</td>\n",
       "      <td>Аналитик BI</td>\n",
       "      <td>Москва</td>\n",
       "      <td>{'from': 120000, 'to': None, 'currency': 'RUR'...</td>\n",
       "      <td>2022-09-22T18:01:30+0300</td>\n",
       "      <td>ДИКСИ, группа компаний</td>\n",
       "      <td>Полный день</td>\n",
       "      <td>NaN</td>\n",
       "      <td>От 1 года до 3 лет</td>\n",
       "      <td>[{'name': 'Продвинутый пользователь Excel'}, {...</td>\n",
       "      <td>Middle</td>\n",
       "      <td>120000.0</td>\n",
       "      <td>120000.0</td>\n",
       "      <td>RUR</td>\n",
       "    </tr>\n",
       "  </tbody>\n",
       "</table>\n",
       "</div>"
      ],
      "text/plain": [
       "          id                                               name  \\\n",
       "0   70165043                                           Аналитик   \n",
       "1   69360960  Аналитик данных / Data Analyst (управленческая...   \n",
       "2   69982142                             Аналитик по отчетности   \n",
       "3   70167798                                    Аналитик данных   \n",
       "4   70049715                              Аналитик данных (SQL)   \n",
       "5   69755863                                    Аналитик данных   \n",
       "6   69647954                     Аналитик данных / Data Analyst   \n",
       "7   69665613                                   Аналитик (EXCEL)   \n",
       "8   69700212                                        Аналитик BI   \n",
       "9   67711496                                       Аналитик SQL   \n",
       "10  68663310                                    Аналитик данных   \n",
       "11  69335818                                    Аналитик BI/DWH   \n",
       "12  70038721                                    Бизнес-аналитик   \n",
       "13  54721740      Младший аналитик данных (Junior data analyst)   \n",
       "14  70176781                                        Аналитик BI   \n",
       "\n",
       "               area                                             salary  \\\n",
       "0            Москва  {'from': 100000, 'to': 150000, 'currency': 'RU...   \n",
       "1            Москва  {'from': 150000, 'to': 300000, 'currency': 'RU...   \n",
       "2            Казань  {'from': 100000, 'to': None, 'currency': 'RUR'...   \n",
       "3   Санкт-Петербург  {'from': 60000, 'to': None, 'currency': 'RUR',...   \n",
       "4         Краснодар  {'from': 65000, 'to': 70000, 'currency': 'RUR'...   \n",
       "5            Москва  {'from': 200000, 'to': None, 'currency': 'RUR'...   \n",
       "6            Москва  {'from': 60000, 'to': 90000, 'currency': 'RUR'...   \n",
       "7            Москва  {'from': None, 'to': 100000, 'currency': 'RUR'...   \n",
       "8            Москва  {'from': 240000, 'to': None, 'currency': 'RUR'...   \n",
       "9            Москва  {'from': 150000, 'to': 200000, 'currency': 'RU...   \n",
       "10  Санкт-Петербург  {'from': 90000, 'to': None, 'currency': 'RUR',...   \n",
       "11           Москва  {'from': None, 'to': 3000, 'currency': 'USD', ...   \n",
       "12           Москва  {'from': None, 'to': 200000, 'currency': 'RUR'...   \n",
       "13  Санкт-Петербург  {'from': 100000, 'to': None, 'currency': 'RUR'...   \n",
       "14           Москва  {'from': 120000, 'to': None, 'currency': 'RUR'...   \n",
       "\n",
       "                published_at                   employer          schedule  \\\n",
       "0   2022-09-22T15:15:54+0300                НЬЮЭРАМЕДИА       Полный день   \n",
       "1   2022-09-25T08:27:37+0300                     Carely  Удаленная работа   \n",
       "2   2022-09-22T16:13:57+0300                IDF Eurasia       Полный день   \n",
       "3   2022-09-22T15:52:52+0300               BIZNESKRUCHE  Удаленная работа   \n",
       "4   2022-09-23T17:30:52+0300                ПРОФИТКЛИКС       Полный день   \n",
       "5   2022-09-23T13:55:28+0300                 MedPoint24       Полный день   \n",
       "6   2022-09-24T09:47:19+0300                 Оптимакрос  Удаленная работа   \n",
       "7   2022-09-24T15:11:16+0300      оператор связи WhyFly       Полный день   \n",
       "8   2022-09-24T10:17:36+0300   Платформа Больших Данных       Полный день   \n",
       "9   2022-09-23T16:58:40+0300                WILDBERRIES       Полный день   \n",
       "10  2022-09-23T18:57:33+0300                Нмаркет.ПРО  Удаленная работа   \n",
       "11  2022-09-24T12:04:15+0300                      STENN     Гибкий график   \n",
       "12  2022-09-23T15:13:38+0300                    Ямс Фуд       Полный день   \n",
       "13  2022-09-23T11:30:27+0300  Финансово-правовой альянс       Полный день   \n",
       "14  2022-09-22T18:01:30+0300     ДИКСИ, группа компаний       Полный день   \n",
       "\n",
       "   level_exp          experience  \\\n",
       "0        NaN  От 1 года до 3 лет   \n",
       "1        NaN       От 3 до 6 лет   \n",
       "2        NaN  От 1 года до 3 лет   \n",
       "3        NaN  От 1 года до 3 лет   \n",
       "4        NaN  От 1 года до 3 лет   \n",
       "5        NaN  От 1 года до 3 лет   \n",
       "6        NaN  От 1 года до 3 лет   \n",
       "7        NaN  От 1 года до 3 лет   \n",
       "8        NaN       От 3 до 6 лет   \n",
       "9        NaN  От 1 года до 3 лет   \n",
       "10       NaN       От 3 до 6 лет   \n",
       "11       NaN  От 1 года до 3 лет   \n",
       "12       NaN  От 1 года до 3 лет   \n",
       "13    Junior  От 1 года до 3 лет   \n",
       "14       NaN  От 1 года до 3 лет   \n",
       "\n",
       "                                           key_skills exb_by_year  \\\n",
       "0   [{'name': 'SQL'}, {'name': 'Power BI'}, {'name...      Middle   \n",
       "1   [{'name': 'SQL'}, {'name': 'Python'}, {'name':...      Senior   \n",
       "2   [{'name': 'SQL'}, {'name': 'Работа с базами да...      Middle   \n",
       "3   [{'name': 'Google Sheets'}, {'name': 'Power BI...      Middle   \n",
       "4   [{'name': 'SQL'}, {'name': 'Анализ данных'}, {...      Middle   \n",
       "5   [{'name': 'Финансовый анализ'}, {'name': 'MS P...      Middle   \n",
       "6   [{'name': 'Python'}, {'name': 'SQL'}, {'name':...      Middle   \n",
       "7   [{'name': 'Подготовка презентаций'}, {'name': ...      Middle   \n",
       "8   [{'name': 'Статистический анализ'}, {'name': '...      Senior   \n",
       "9   [{'name': 'MS SQL'}, {'name': 'Бизнес-анализ'}...      Middle   \n",
       "10  [{'name': 'Python'}, {'name': 'SQL'}, {'name':...      Senior   \n",
       "11  [{'name': 'SQL'}, {'name': 'MS SQL'}, {'name':...      Middle   \n",
       "12  [{'name': 'UML'}, {'name': 'BPMN'}, {'name': '...      Middle   \n",
       "13  [{'name': 'Data Mining'}, {'name': 'SQL'}, {'n...      Middle   \n",
       "14  [{'name': 'Продвинутый пользователь Excel'}, {...      Middle   \n",
       "\n",
       "    salary_from  salary_to currency  \n",
       "0      100000.0   150000.0      RUR  \n",
       "1      150000.0   300000.0      RUR  \n",
       "2      100000.0   100000.0      RUR  \n",
       "3       60000.0    60000.0      RUR  \n",
       "4       65000.0    70000.0      RUR  \n",
       "5      200000.0   200000.0      RUR  \n",
       "6       60000.0    90000.0      RUR  \n",
       "7           0.0   100000.0      RUR  \n",
       "8      240000.0   240000.0      RUR  \n",
       "9      150000.0   200000.0      RUR  \n",
       "10      90000.0    90000.0      RUR  \n",
       "11          0.0   174300.0      USD  \n",
       "12          0.0   200000.0      RUR  \n",
       "13     100000.0   100000.0      RUR  \n",
       "14     120000.0   120000.0      RUR  "
      ]
     },
     "execution_count": 48,
     "metadata": {},
     "output_type": "execute_result"
    }
   ],
   "source": [
    "target_df_full.head(15)"
   ]
  },
  {
   "cell_type": "code",
   "execution_count": 49,
   "metadata": {},
   "outputs": [
    {
     "data": {
      "text/html": [
       "<div>\n",
       "<style scoped>\n",
       "    .dataframe tbody tr th:only-of-type {\n",
       "        vertical-align: middle;\n",
       "    }\n",
       "\n",
       "    .dataframe tbody tr th {\n",
       "        vertical-align: top;\n",
       "    }\n",
       "\n",
       "    .dataframe thead th {\n",
       "        text-align: right;\n",
       "    }\n",
       "</style>\n",
       "<table border=\"1\" class=\"dataframe\">\n",
       "  <thead>\n",
       "    <tr style=\"text-align: right;\">\n",
       "      <th></th>\n",
       "      <th>salary_from</th>\n",
       "      <th>salary_to</th>\n",
       "    </tr>\n",
       "  </thead>\n",
       "  <tbody>\n",
       "    <tr>\n",
       "      <th>count</th>\n",
       "      <td>584.000000</td>\n",
       "      <td>584.000000</td>\n",
       "    </tr>\n",
       "    <tr>\n",
       "      <th>mean</th>\n",
       "      <td>74578.441781</td>\n",
       "      <td>114571.301370</td>\n",
       "    </tr>\n",
       "    <tr>\n",
       "      <th>std</th>\n",
       "      <td>59515.591605</td>\n",
       "      <td>74243.451354</td>\n",
       "    </tr>\n",
       "    <tr>\n",
       "      <th>min</th>\n",
       "      <td>0.000000</td>\n",
       "      <td>230.000000</td>\n",
       "    </tr>\n",
       "    <tr>\n",
       "      <th>25%</th>\n",
       "      <td>40000.000000</td>\n",
       "      <td>60000.000000</td>\n",
       "    </tr>\n",
       "    <tr>\n",
       "      <th>50%</th>\n",
       "      <td>70000.000000</td>\n",
       "      <td>90000.000000</td>\n",
       "    </tr>\n",
       "    <tr>\n",
       "      <th>75%</th>\n",
       "      <td>100000.000000</td>\n",
       "      <td>150000.000000</td>\n",
       "    </tr>\n",
       "    <tr>\n",
       "      <th>max</th>\n",
       "      <td>350000.000000</td>\n",
       "      <td>500000.000000</td>\n",
       "    </tr>\n",
       "  </tbody>\n",
       "</table>\n",
       "</div>"
      ],
      "text/plain": [
       "         salary_from      salary_to\n",
       "count     584.000000     584.000000\n",
       "mean    74578.441781  114571.301370\n",
       "std     59515.591605   74243.451354\n",
       "min         0.000000     230.000000\n",
       "25%     40000.000000   60000.000000\n",
       "50%     70000.000000   90000.000000\n",
       "75%    100000.000000  150000.000000\n",
       "max    350000.000000  500000.000000"
      ]
     },
     "execution_count": 49,
     "metadata": {},
     "output_type": "execute_result"
    }
   ],
   "source": [
    "# круговая диаграмма с соотношением вакансий с зарплатами и без зарплаты\n",
    "#target_df_full[~target_df_full[['salary_from']].isnull()]\n",
    "target_df_full[['salary_from','salary_to']].describe()\n",
    "#target_df_full[(target_df_full['salary_from']==0) and (target_df_full['salary_to']==0)]"
   ]
  },
  {
   "cell_type": "code",
   "execution_count": 50,
   "metadata": {},
   "outputs": [
    {
     "data": {
      "text/plain": [
       "id              0.000000\n",
       "name            0.000000\n",
       "area            0.000000\n",
       "salary          0.708583\n",
       "published_at    0.000000\n",
       "employer        0.000000\n",
       "schedule        0.000000\n",
       "level_exp       0.891218\n",
       "experience      0.000000\n",
       "key_skills      0.000000\n",
       "exb_by_year     0.000000\n",
       "salary_from     0.708583\n",
       "salary_to       0.708583\n",
       "currency        0.000000\n",
       "dtype: float64"
      ]
     },
     "execution_count": 50,
     "metadata": {},
     "output_type": "execute_result"
    }
   ],
   "source": [
    "target_df_full.isna().mean()"
   ]
  },
  {
   "cell_type": "code",
   "execution_count": 51,
   "metadata": {},
   "outputs": [],
   "source": [
    "#sk = [{'name': 'Статистический анализ'}, {'name': 'fsdfd'}]"
   ]
  },
  {
   "cell_type": "code",
   "execution_count": 52,
   "metadata": {},
   "outputs": [],
   "source": [
    "\n",
    "def get_skills(cell):\n",
    "    d = []\n",
    "    for el in cell:\n",
    "#        print(el)\n",
    "#        print(el['name'])\n",
    "        d.append(el['name'])\n",
    "    return d\n",
    "        #d.append(cell.name[])"
   ]
  },
  {
   "cell_type": "code",
   "execution_count": 53,
   "metadata": {},
   "outputs": [],
   "source": [
    "#target_df_full['skills'] = \n",
    "target_df_full['skills'] = target_df_full['key_skills'].apply(get_skills)"
   ]
  },
  {
   "cell_type": "code",
   "execution_count": 54,
   "metadata": {},
   "outputs": [
    {
     "data": {
      "text/html": [
       "<div>\n",
       "<style scoped>\n",
       "    .dataframe tbody tr th:only-of-type {\n",
       "        vertical-align: middle;\n",
       "    }\n",
       "\n",
       "    .dataframe tbody tr th {\n",
       "        vertical-align: top;\n",
       "    }\n",
       "\n",
       "    .dataframe thead th {\n",
       "        text-align: right;\n",
       "    }\n",
       "</style>\n",
       "<table border=\"1\" class=\"dataframe\">\n",
       "  <thead>\n",
       "    <tr style=\"text-align: right;\">\n",
       "      <th></th>\n",
       "      <th>id</th>\n",
       "      <th>name</th>\n",
       "      <th>area</th>\n",
       "      <th>salary</th>\n",
       "      <th>published_at</th>\n",
       "      <th>employer</th>\n",
       "      <th>schedule</th>\n",
       "      <th>level_exp</th>\n",
       "      <th>experience</th>\n",
       "      <th>key_skills</th>\n",
       "      <th>exb_by_year</th>\n",
       "      <th>salary_from</th>\n",
       "      <th>salary_to</th>\n",
       "      <th>currency</th>\n",
       "      <th>skills</th>\n",
       "    </tr>\n",
       "  </thead>\n",
       "  <tbody>\n",
       "    <tr>\n",
       "      <th>0</th>\n",
       "      <td>70165043</td>\n",
       "      <td>Аналитик</td>\n",
       "      <td>Москва</td>\n",
       "      <td>{'from': 100000, 'to': 150000, 'currency': 'RU...</td>\n",
       "      <td>2022-09-22T15:15:54+0300</td>\n",
       "      <td>НЬЮЭРАМЕДИА</td>\n",
       "      <td>Полный день</td>\n",
       "      <td>NaN</td>\n",
       "      <td>От 1 года до 3 лет</td>\n",
       "      <td>[{'name': 'SQL'}, {'name': 'Power BI'}, {'name...</td>\n",
       "      <td>Middle</td>\n",
       "      <td>100000.0</td>\n",
       "      <td>150000.0</td>\n",
       "      <td>RUR</td>\n",
       "      <td>[SQL, Power BI, Python, PostgreSQL, Анализ дан...</td>\n",
       "    </tr>\n",
       "    <tr>\n",
       "      <th>1</th>\n",
       "      <td>69360960</td>\n",
       "      <td>Аналитик данных / Data Analyst (управленческая...</td>\n",
       "      <td>Москва</td>\n",
       "      <td>{'from': 150000, 'to': 300000, 'currency': 'RU...</td>\n",
       "      <td>2022-09-25T08:27:37+0300</td>\n",
       "      <td>Carely</td>\n",
       "      <td>Удаленная работа</td>\n",
       "      <td>NaN</td>\n",
       "      <td>От 3 до 6 лет</td>\n",
       "      <td>[{'name': 'SQL'}, {'name': 'Python'}, {'name':...</td>\n",
       "      <td>Senior</td>\n",
       "      <td>150000.0</td>\n",
       "      <td>300000.0</td>\n",
       "      <td>RUR</td>\n",
       "      <td>[SQL, Python, Tableau, Data Analysis, Power BI...</td>\n",
       "    </tr>\n",
       "    <tr>\n",
       "      <th>2</th>\n",
       "      <td>69982142</td>\n",
       "      <td>Аналитик по отчетности</td>\n",
       "      <td>Казань</td>\n",
       "      <td>{'from': 100000, 'to': None, 'currency': 'RUR'...</td>\n",
       "      <td>2022-09-22T16:13:57+0300</td>\n",
       "      <td>IDF Eurasia</td>\n",
       "      <td>Полный день</td>\n",
       "      <td>NaN</td>\n",
       "      <td>От 1 года до 3 лет</td>\n",
       "      <td>[{'name': 'SQL'}, {'name': 'Работа с базами да...</td>\n",
       "      <td>Middle</td>\n",
       "      <td>100000.0</td>\n",
       "      <td>100000.0</td>\n",
       "      <td>RUR</td>\n",
       "      <td>[SQL, Работа с базами данных, Управленческая о...</td>\n",
       "    </tr>\n",
       "    <tr>\n",
       "      <th>3</th>\n",
       "      <td>70167798</td>\n",
       "      <td>Аналитик данных</td>\n",
       "      <td>Санкт-Петербург</td>\n",
       "      <td>{'from': 60000, 'to': None, 'currency': 'RUR',...</td>\n",
       "      <td>2022-09-22T15:52:52+0300</td>\n",
       "      <td>BIZNESKRUCHE</td>\n",
       "      <td>Удаленная работа</td>\n",
       "      <td>NaN</td>\n",
       "      <td>От 1 года до 3 лет</td>\n",
       "      <td>[{'name': 'Google Sheets'}, {'name': 'Power BI...</td>\n",
       "      <td>Middle</td>\n",
       "      <td>60000.0</td>\n",
       "      <td>60000.0</td>\n",
       "      <td>RUR</td>\n",
       "      <td>[Google Sheets, Power BI, SQL, Разработка инст...</td>\n",
       "    </tr>\n",
       "    <tr>\n",
       "      <th>4</th>\n",
       "      <td>70049715</td>\n",
       "      <td>Аналитик данных (SQL)</td>\n",
       "      <td>Краснодар</td>\n",
       "      <td>{'from': 65000, 'to': 70000, 'currency': 'RUR'...</td>\n",
       "      <td>2022-09-23T17:30:52+0300</td>\n",
       "      <td>ПРОФИТКЛИКС</td>\n",
       "      <td>Полный день</td>\n",
       "      <td>NaN</td>\n",
       "      <td>От 1 года до 3 лет</td>\n",
       "      <td>[{'name': 'SQL'}, {'name': 'Анализ данных'}, {...</td>\n",
       "      <td>Middle</td>\n",
       "      <td>65000.0</td>\n",
       "      <td>70000.0</td>\n",
       "      <td>RUR</td>\n",
       "      <td>[SQL, Анализ данных, Ведение отчетности]</td>\n",
       "    </tr>\n",
       "  </tbody>\n",
       "</table>\n",
       "</div>"
      ],
      "text/plain": [
       "         id                                               name  \\\n",
       "0  70165043                                           Аналитик   \n",
       "1  69360960  Аналитик данных / Data Analyst (управленческая...   \n",
       "2  69982142                             Аналитик по отчетности   \n",
       "3  70167798                                    Аналитик данных   \n",
       "4  70049715                              Аналитик данных (SQL)   \n",
       "\n",
       "              area                                             salary  \\\n",
       "0           Москва  {'from': 100000, 'to': 150000, 'currency': 'RU...   \n",
       "1           Москва  {'from': 150000, 'to': 300000, 'currency': 'RU...   \n",
       "2           Казань  {'from': 100000, 'to': None, 'currency': 'RUR'...   \n",
       "3  Санкт-Петербург  {'from': 60000, 'to': None, 'currency': 'RUR',...   \n",
       "4        Краснодар  {'from': 65000, 'to': 70000, 'currency': 'RUR'...   \n",
       "\n",
       "               published_at      employer          schedule level_exp  \\\n",
       "0  2022-09-22T15:15:54+0300   НЬЮЭРАМЕДИА       Полный день       NaN   \n",
       "1  2022-09-25T08:27:37+0300        Carely  Удаленная работа       NaN   \n",
       "2  2022-09-22T16:13:57+0300   IDF Eurasia       Полный день       NaN   \n",
       "3  2022-09-22T15:52:52+0300  BIZNESKRUCHE  Удаленная работа       NaN   \n",
       "4  2022-09-23T17:30:52+0300   ПРОФИТКЛИКС       Полный день       NaN   \n",
       "\n",
       "           experience                                         key_skills  \\\n",
       "0  От 1 года до 3 лет  [{'name': 'SQL'}, {'name': 'Power BI'}, {'name...   \n",
       "1       От 3 до 6 лет  [{'name': 'SQL'}, {'name': 'Python'}, {'name':...   \n",
       "2  От 1 года до 3 лет  [{'name': 'SQL'}, {'name': 'Работа с базами да...   \n",
       "3  От 1 года до 3 лет  [{'name': 'Google Sheets'}, {'name': 'Power BI...   \n",
       "4  От 1 года до 3 лет  [{'name': 'SQL'}, {'name': 'Анализ данных'}, {...   \n",
       "\n",
       "  exb_by_year  salary_from  salary_to currency  \\\n",
       "0      Middle     100000.0   150000.0      RUR   \n",
       "1      Senior     150000.0   300000.0      RUR   \n",
       "2      Middle     100000.0   100000.0      RUR   \n",
       "3      Middle      60000.0    60000.0      RUR   \n",
       "4      Middle      65000.0    70000.0      RUR   \n",
       "\n",
       "                                              skills  \n",
       "0  [SQL, Power BI, Python, PostgreSQL, Анализ дан...  \n",
       "1  [SQL, Python, Tableau, Data Analysis, Power BI...  \n",
       "2  [SQL, Работа с базами данных, Управленческая о...  \n",
       "3  [Google Sheets, Power BI, SQL, Разработка инст...  \n",
       "4           [SQL, Анализ данных, Ведение отчетности]  "
      ]
     },
     "execution_count": 54,
     "metadata": {},
     "output_type": "execute_result"
    }
   ],
   "source": [
    "target_df_full.head()"
   ]
  },
  {
   "cell_type": "code",
   "execution_count": 55,
   "metadata": {},
   "outputs": [
    {
     "data": {
      "text/plain": [
       "schedule\n",
       "Гибкий график         64\n",
       "Полный день         1556\n",
       "Сменный график         6\n",
       "Удаленная работа     378\n",
       "Name: id, dtype: int64"
      ]
     },
     "execution_count": 55,
     "metadata": {},
     "output_type": "execute_result"
    }
   ],
   "source": [
    "# Круговая диаграмма - подготовка данных\n",
    "pie = target_df_full.groupby('schedule')['id'].count()\n",
    "#pie.first()\n",
    "pie"
   ]
  },
  {
   "cell_type": "code",
   "execution_count": 56,
   "metadata": {},
   "outputs": [
    {
     "data": {
      "text/plain": [
       "Index(['Гибкий график', 'Полный день', 'Сменный график', 'Удаленная работа'], dtype='object', name='schedule')"
      ]
     },
     "execution_count": 56,
     "metadata": {},
     "output_type": "execute_result"
    }
   ],
   "source": [
    "pie.index"
   ]
  },
  {
   "cell_type": "code",
   "execution_count": 57,
   "metadata": {
    "scrolled": true
   },
   "outputs": [
    {
     "data": {
      "text/plain": [
       "<AxesSubplot:xlabel='schedule'>"
      ]
     },
     "execution_count": 57,
     "metadata": {},
     "output_type": "execute_result"
    },
    {
     "data": {
      "image/png": "[encoded data removed]",
      "text/plain": [
       "<Figure size 432x288 with 1 Axes>"
      ]
     },
     "metadata": {
      "needs_background": "light"
     },
     "output_type": "display_data"
    }
   ],
   "source": [
    "pie.plot()"
   ]
  },
  {
   "cell_type": "code",
   "execution_count": 58,
   "metadata": {},
   "outputs": [
    {
     "data": {
      "image/png": "[encoded data removed]",
      "text/plain": [
       "<Figure size 432x288 with 1 Axes>"
      ]
     },
     "metadata": {},
     "output_type": "display_data"
    }
   ],
   "source": [
    "# Круговая диаграмма\n",
    "labels = pie.index\n",
    "fig1, ax1 = plt.subplots()\n",
    "ax1.pie(pie, labels=labels, autopct='%1.1f%%') # №, explode = explode)\n",
    "ax1.axis('equal')  \n",
    "plt.show()\n",
    "\n",
    "#вывести заголовок\n"
   ]
  },
  {
   "cell_type": "code",
   "execution_count": 59,
   "metadata": {},
   "outputs": [],
   "source": [
    "# получим список скилов для облака тегов\n",
    "lst = sum(target_df_full['skills'], [])\n",
    "\n",
    "# посмотрим, сколько навыков набралось всего (неуникальных)\n",
    "#list_skills = target_df_full.skills"
   ]
  },
  {
   "cell_type": "code",
   "execution_count": 60,
   "metadata": {},
   "outputs": [
    {
     "name": "stdout",
     "output_type": "stream",
     "text": [
      "Requirement already satisfied: wordcloud in c:\\programdata\\anaconda3\\lib\\site-packages (1.8.2.2)"
     ]
    },
    {
     "name": "stderr",
     "output_type": "stream",
     "text": [
      "WARNING: Ignoring invalid distribution -mpy (c:\\programdata\\anaconda3\\lib\\site-packages)\n",
      "WARNING: Ignoring invalid distribution -umpy (c:\\programdata\\anaconda3\\lib\\site-packages)\n",
      "WARNING: Ignoring invalid distribution -mpy (c:\\programdata\\anaconda3\\lib\\site-packages)\n",
      "WARNING: Ignoring invalid distribution -0mpy (c:\\programdata\\anaconda3\\lib\\site-packages)\n",
      "WARNING: Ignoring invalid distribution - (c:\\programdata\\anaconda3\\lib\\site-packages)\n",
      "WARNING: Ignoring invalid distribution -mpy (c:\\programdata\\anaconda3\\lib\\site-packages)\n",
      "WARNING: Ignoring invalid distribution -umpy (c:\\programdata\\anaconda3\\lib\\site-packages)\n",
      "WARNING: Ignoring invalid distribution -mpy (c:\\programdata\\anaconda3\\lib\\site-packages)\n",
      "WARNING: Ignoring invalid distribution -0mpy (c:\\programdata\\anaconda3\\lib\\site-packages)\n",
      "WARNING: Ignoring invalid distribution - (c:\\programdata\\anaconda3\\lib\\site-packages)\n",
      "WARNING: Ignoring invalid distribution -mpy (c:\\programdata\\anaconda3\\lib\\site-packages)\n",
      "WARNING: Ignoring invalid distribution -umpy (c:\\programdata\\anaconda3\\lib\\site-packages)\n",
      "WARNING: Ignoring invalid distribution -mpy (c:\\programdata\\anaconda3\\lib\\site-packages)\n",
      "WARNING: Ignoring invalid distribution -0mpy (c:\\programdata\\anaconda3\\lib\\site-packages)\n",
      "WARNING: Ignoring invalid distribution - (c:\\programdata\\anaconda3\\lib\\site-packages)\n",
      "WARNING: Ignoring invalid distribution -mpy (c:\\programdata\\anaconda3\\lib\\site-packages)\n",
      "WARNING: Ignoring invalid distribution -umpy (c:\\programdata\\anaconda3\\lib\\site-packages)\n",
      "WARNING: Ignoring invalid distribution -mpy (c:\\programdata\\anaconda3\\lib\\site-packages)\n",
      "WARNING: Ignoring invalid distribution -0mpy (c:\\programdata\\anaconda3\\lib\\site-packages)\n",
      "WARNING: Ignoring invalid distribution - (c:\\programdata\\anaconda3\\lib\\site-packages)\n",
      "WARNING: Ignoring invalid distribution -mpy (c:\\programdata\\anaconda3\\lib\\site-packages)\n",
      "WARNING: Ignoring invalid distribution -umpy (c:\\programdata\\anaconda3\\lib\\site-packages)\n",
      "WARNING: Ignoring invalid distribution -mpy (c:\\programdata\\anaconda3\\lib\\site-packages)\n",
      "WARNING: Ignoring invalid distribution -0mpy (c:\\programdata\\anaconda3\\lib\\site-packages)\n",
      "WARNING: Ignoring invalid distribution - (c:\\programdata\\anaconda3\\lib\\site-packages)\n",
      "WARNING: Ignoring invalid distribution -mpy (c:\\programdata\\anaconda3\\lib\\site-packages)\n",
      "WARNING: Ignoring invalid distribution -umpy (c:\\programdata\\anaconda3\\lib\\site-packages)\n",
      "WARNING: Ignoring invalid distribution -mpy (c:\\programdata\\anaconda3\\lib\\site-packages)\n",
      "WARNING: Ignoring invalid distribution -0mpy (c:\\programdata\\anaconda3\\lib\\site-packages)\n",
      "WARNING: Ignoring invalid distribution - (c:\\programdata\\anaconda3\\lib\\site-packages)\n"
     ]
    },
    {
     "name": "stdout",
     "output_type": "stream",
     "text": [
      "\n",
      "Requirement already satisfied: numpy>=1.6.1 in c:\\programdata\\anaconda3\\lib\\site-packages (from wordcloud) (1.20.3)\n",
      "Requirement already satisfied: matplotlib in c:\\programdata\\anaconda3\\lib\\site-packages (from wordcloud) (3.4.3)\n",
      "Requirement already satisfied: pillow in c:\\programdata\\anaconda3\\lib\\site-packages (from wordcloud) (8.4.0)\n",
      "Requirement already satisfied: python-dateutil>=2.7 in c:\\programdata\\anaconda3\\lib\\site-packages (from matplotlib->wordcloud) (2.8.2)\n",
      "Requirement already satisfied: pyparsing>=2.2.1 in c:\\programdata\\anaconda3\\lib\\site-packages (from matplotlib->wordcloud) (3.0.4)\n",
      "Requirement already satisfied: cycler>=0.10 in c:\\programdata\\anaconda3\\lib\\site-packages (from matplotlib->wordcloud) (0.10.0)\n",
      "Requirement already satisfied: kiwisolver>=1.0.1 in c:\\programdata\\anaconda3\\lib\\site-packages (from matplotlib->wordcloud) (1.3.1)\n",
      "Requirement already satisfied: six in c:\\programdata\\anaconda3\\lib\\site-packages (from cycler>=0.10->matplotlib->wordcloud) (1.16.0)\n"
     ]
    }
   ],
   "source": [
    "!pip install wordcloud"
   ]
  },
  {
   "cell_type": "code",
   "execution_count": 61,
   "metadata": {},
   "outputs": [],
   "source": [
    "from wordcloud import WordCloud"
   ]
  },
  {
   "cell_type": "code",
   "execution_count": 62,
   "metadata": {},
   "outputs": [],
   "source": [
    "# преобразуем словарь в текст\n",
    "s = ' '.join(lst)\n",
    "#''.join('{}{}'.format(key, val) for key, val in lst.items())"
   ]
  },
  {
   "cell_type": "code",
   "execution_count": 63,
   "metadata": {
    "scrolled": true
   },
   "outputs": [
    {
     "name": "stdout",
     "output_type": "stream",
     "text": [
      "Requirement already satisfied: corpus in c:\\programdata\\anaconda3\\lib\\site-packages (0.4.2)\n"
     ]
    },
    {
     "name": "stderr",
     "output_type": "stream",
     "text": [
      "WARNING: Ignoring invalid distribution -mpy (c:\\programdata\\anaconda3\\lib\\site-packages)\n",
      "WARNING: Ignoring invalid distribution -umpy (c:\\programdata\\anaconda3\\lib\\site-packages)\n",
      "WARNING: Ignoring invalid distribution -mpy (c:\\programdata\\anaconda3\\lib\\site-packages)\n",
      "WARNING: Ignoring invalid distribution -0mpy (c:\\programdata\\anaconda3\\lib\\site-packages)\n",
      "WARNING: Ignoring invalid distribution - (c:\\programdata\\anaconda3\\lib\\site-packages)\n",
      "WARNING: Ignoring invalid distribution -mpy (c:\\programdata\\anaconda3\\lib\\site-packages)\n",
      "WARNING: Ignoring invalid distribution -umpy (c:\\programdata\\anaconda3\\lib\\site-packages)\n",
      "WARNING: Ignoring invalid distribution -mpy (c:\\programdata\\anaconda3\\lib\\site-packages)\n",
      "WARNING: Ignoring invalid distribution -0mpy (c:\\programdata\\anaconda3\\lib\\site-packages)\n",
      "WARNING: Ignoring invalid distribution - (c:\\programdata\\anaconda3\\lib\\site-packages)\n",
      "WARNING: Ignoring invalid distribution -mpy (c:\\programdata\\anaconda3\\lib\\site-packages)\n",
      "WARNING: Ignoring invalid distribution -umpy (c:\\programdata\\anaconda3\\lib\\site-packages)\n",
      "WARNING: Ignoring invalid distribution -mpy (c:\\programdata\\anaconda3\\lib\\site-packages)\n",
      "WARNING: Ignoring invalid distribution -0mpy (c:\\programdata\\anaconda3\\lib\\site-packages)\n",
      "WARNING: Ignoring invalid distribution - (c:\\programdata\\anaconda3\\lib\\site-packages)\n",
      "WARNING: Ignoring invalid distribution -mpy (c:\\programdata\\anaconda3\\lib\\site-packages)\n",
      "WARNING: Ignoring invalid distribution -umpy (c:\\programdata\\anaconda3\\lib\\site-packages)\n",
      "WARNING: Ignoring invalid distribution -mpy (c:\\programdata\\anaconda3\\lib\\site-packages)\n",
      "WARNING: Ignoring invalid distribution -0mpy (c:\\programdata\\anaconda3\\lib\\site-packages)\n",
      "WARNING: Ignoring invalid distribution - (c:\\programdata\\anaconda3\\lib\\site-packages)\n",
      "WARNING: Ignoring invalid distribution -mpy (c:\\programdata\\anaconda3\\lib\\site-packages)\n",
      "WARNING: Ignoring invalid distribution -umpy (c:\\programdata\\anaconda3\\lib\\site-packages)\n",
      "WARNING: Ignoring invalid distribution -mpy (c:\\programdata\\anaconda3\\lib\\site-packages)\n",
      "WARNING: Ignoring invalid distribution -0mpy (c:\\programdata\\anaconda3\\lib\\site-packages)\n",
      "WARNING: Ignoring invalid distribution - (c:\\programdata\\anaconda3\\lib\\site-packages)\n",
      "WARNING: Ignoring invalid distribution -mpy (c:\\programdata\\anaconda3\\lib\\site-packages)\n",
      "WARNING: Ignoring invalid distribution -umpy (c:\\programdata\\anaconda3\\lib\\site-packages)\n",
      "WARNING: Ignoring invalid distribution -mpy (c:\\programdata\\anaconda3\\lib\\site-packages)\n",
      "WARNING: Ignoring invalid distribution -0mpy (c:\\programdata\\anaconda3\\lib\\site-packages)\n",
      "WARNING: Ignoring invalid distribution - (c:\\programdata\\anaconda3\\lib\\site-packages)\n"
     ]
    }
   ],
   "source": [
    "!pip install corpus"
   ]
  },
  {
   "cell_type": "code",
   "execution_count": 64,
   "metadata": {},
   "outputs": [],
   "source": [
    "#from nltk.corpus import stopwords\n",
    "# сохраняем список с русскими стоп-cловами в переменную stop_words\n",
    "#stop_words = stopwords.words('russian')"
   ]
  },
  {
   "cell_type": "code",
   "execution_count": 65,
   "metadata": {},
   "outputs": [],
   "source": [
    "stop_words = open('stop-ru.txt', 'r', encoding='utf8')\n",
    "stop_words = stop_words.read()\n",
    "stop_words = stop_words.split('\\n')"
   ]
  },
  {
   "cell_type": "code",
   "execution_count": 66,
   "metadata": {},
   "outputs": [],
   "source": [
    "clear_data=[]\n",
    "for i in lst:\n",
    "    if(i not in stop_words):\n",
    "        clear_data.append(i)"
   ]
  },
  {
   "cell_type": "code",
   "execution_count": 67,
   "metadata": {},
   "outputs": [
    {
     "data": {
      "text/plain": [
       "12108"
      ]
     },
     "execution_count": 67,
     "metadata": {},
     "output_type": "execute_result"
    }
   ],
   "source": [
    "len(clear_data)"
   ]
  },
  {
   "cell_type": "code",
   "execution_count": 68,
   "metadata": {},
   "outputs": [],
   "source": [
    "big_string=''\n",
    "for i in range(len(clear_data)):\n",
    "    big_string+=(clear_data[i]+' ')"
   ]
  },
  {
   "cell_type": "code",
   "execution_count": 69,
   "metadata": {},
   "outputs": [
    {
     "data": {
      "text/plain": [
       "(-0.5, 599.5, 299.5, -0.5)"
      ]
     },
     "execution_count": 69,
     "metadata": {},
     "output_type": "execute_result"
    },
    {
     "data": {
      "image/png": "[encoded data removed]",
      "text/plain": [
       "<Figure size 864x864 with 1 Axes>"
      ]
     },
     "metadata": {
      "needs_background": "light"
     },
     "output_type": "display_data"
    }
   ],
   "source": [
    "# Генерируем облако слов и сохраняем в переменной cloud\n",
    "# cloud = WordCloud(max_words=30).generate(big_string)\n",
    "cloud = WordCloud(width = 600, height = 300, random_state=1, background_color='black', colormap='Set2', collocations=False).generate(big_string)\n",
    "# Выводим облако слов на экран\n",
    "#plt.imshow(cloud)\n",
    "plt.figure(figsize=(12,12))\n",
    "plt.imshow(cloud)\n",
    "#plt.axis('off')\n",
    "# Отключаем отображение осей\n",
    "plt.axis('off')"
   ]
  },
  {
   "cell_type": "code",
   "execution_count": 70,
   "metadata": {},
   "outputs": [],
   "source": [
    "import seaborn as sns"
   ]
  },
  {
   "cell_type": "code",
   "execution_count": 71,
   "metadata": {},
   "outputs": [
    {
     "name": "stderr",
     "output_type": "stream",
     "text": [
      "C:\\ProgramData\\Anaconda3\\lib\\site-packages\\pandas\\core\\indexing.py:1773: SettingWithCopyWarning: \n",
      "A value is trying to be set on a copy of a slice from a DataFrame.\n",
      "Try using .loc[row_indexer,col_indexer] = value instead\n",
      "\n",
      "See the caveats in the documentation: https://pandas.pydata.org/pandas-docs/stable/user_guide/indexing.html#returning-a-view-versus-a-copy\n",
      "  self._setitem_single_column(ilocs[0], value, pi)\n"
     ]
    }
   ],
   "source": [
    "emp_map = {'Нет опыта':'Junior', 'От 1 года до 3 лет':'Middle', 'От 3 до 6 лет':'Senior', 'Более 6 лет': 'Senior'}\n",
    "add_info.loc[:,'exb_by_year'] = add_info['exb_by_year'].map(emp_map)"
   ]
  },
  {
   "cell_type": "code",
   "execution_count": 72,
   "metadata": {},
   "outputs": [],
   "source": [
    "s = target_df_full.groupby('area').size()\n",
    "vac_by_cities = s[s.values>10]"
   ]
  },
  {
   "cell_type": "code",
   "execution_count": 94,
   "metadata": {},
   "outputs": [
    {
     "data": {
      "image/png": "[encoded data removed]",
      "text/plain": [
       "<Figure size 432x288 with 1 Axes>"
      ]
     },
     "metadata": {
      "needs_background": "light"
     },
     "output_type": "display_data"
    }
   ],
   "source": [
    "s = target_df_full.groupby('area').size()\n",
    "vac_by_empl = s[s.values>10].sort_values()\n",
    "emp = vac_by_empl.index\n",
    "val = vac_by_empl.values\n",
    "plt.barh(emp,val)\n",
    "plt.title('Количество вакансий по городам')\n",
    "plt.show()"
   ]
  },
  {
   "cell_type": "code",
   "execution_count": 95,
   "metadata": {
    "scrolled": true
   },
   "outputs": [],
   "source": [
    "#vac_by_cities.plot(x='index', y='values', kind='barh', fontsize=14, figsize=(5,5))\n",
    "\n",
    "# столбиковая диаграмма\n",
    "# подписать \n",
    "# отсортировать!\n",
    "# заголовок\n",
    "# название осей\n"
   ]
  },
  {
   "cell_type": "code",
   "execution_count": 121,
   "metadata": {},
   "outputs": [],
   "source": [
    "sal = target_df_full[~target_df_full['salary'].isnull()]\n",
    "#sal_sorted = sal['salary_to'].sort_values(ascending=False)\n",
    "#sal_sorted.head()"
   ]
  },
  {
   "cell_type": "code",
   "execution_count": 122,
   "metadata": {},
   "outputs": [
    {
     "data": {
      "image/png": "[encoded data removed]",
      "text/plain": [
       "<Figure size 2160x1080 with 1 Axes>"
      ]
     },
     "metadata": {
      "needs_background": "light"
     },
     "output_type": "display_data"
    }
   ],
   "source": [
    "sns.catplot(\n",
    "    y='area', \n",
    "    x='salary_to', \n",
    "    data=sal, \n",
    "    kind='box', \n",
    "    #hue='Promotion',\n",
    "    height=15, \n",
    "    aspect=2);\n",
    "plt.title('Диапазон заработной платы по городам',\n",
    "          size=15, \n",
    "          color='g', \n",
    "          weight='bold');"
   ]
  },
  {
   "cell_type": "code",
   "execution_count": 132,
   "metadata": {},
   "outputs": [],
   "source": [
    "# Предсказание заработной платы линейной регрессией\n",
    "from sklearn.linear_model import LinearRegression\n",
    "from sklearn.model_selection import train_test_split\n",
    "from sklearn import preprocessing"
   ]
  },
  {
   "cell_type": "code",
   "execution_count": 115,
   "metadata": {
    "scrolled": true
   },
   "outputs": [
    {
     "data": {
      "text/plain": [
       "id                 0\n",
       "name               0\n",
       "area               0\n",
       "salary          1420\n",
       "published_at       0\n",
       "employer           0\n",
       "schedule           0\n",
       "level_exp       1786\n",
       "experience         0\n",
       "key_skills         0\n",
       "exb_by_year        0\n",
       "salary_from     1420\n",
       "salary_to       1420\n",
       "currency           0\n",
       "skills             0\n",
       "dtype: int64"
      ]
     },
     "execution_count": 115,
     "metadata": {},
     "output_type": "execute_result"
    }
   ],
   "source": [
    "# Определим количество пустых значений\n",
    "target_df_full.isna().sum()"
   ]
  },
  {
   "cell_type": "code",
   "execution_count": 155,
   "metadata": {},
   "outputs": [
    {
     "data": {
      "text/html": [
       "<div>\n",
       "<style scoped>\n",
       "    .dataframe tbody tr th:only-of-type {\n",
       "        vertical-align: middle;\n",
       "    }\n",
       "\n",
       "    .dataframe tbody tr th {\n",
       "        vertical-align: top;\n",
       "    }\n",
       "\n",
       "    .dataframe thead th {\n",
       "        text-align: right;\n",
       "    }\n",
       "</style>\n",
       "<table border=\"1\" class=\"dataframe\">\n",
       "  <thead>\n",
       "    <tr style=\"text-align: right;\">\n",
       "      <th></th>\n",
       "      <th>id</th>\n",
       "      <th>name</th>\n",
       "      <th>area</th>\n",
       "      <th>salary</th>\n",
       "      <th>published_at</th>\n",
       "      <th>employer</th>\n",
       "      <th>schedule</th>\n",
       "      <th>level_exp</th>\n",
       "      <th>experience</th>\n",
       "      <th>key_skills</th>\n",
       "      <th>exb_by_year</th>\n",
       "      <th>salary_from</th>\n",
       "      <th>salary_to</th>\n",
       "      <th>currency</th>\n",
       "      <th>skills</th>\n",
       "      <th>area_dig</th>\n",
       "      <th>sched_dig</th>\n",
       "      <th>exp_dig</th>\n",
       "      <th>empl_dig</th>\n",
       "    </tr>\n",
       "  </thead>\n",
       "  <tbody>\n",
       "    <tr>\n",
       "      <th>0</th>\n",
       "      <td>70165043</td>\n",
       "      <td>Аналитик</td>\n",
       "      <td>Москва</td>\n",
       "      <td>{'from': 100000, 'to': 150000, 'currency': 'RU...</td>\n",
       "      <td>2022-09-22T15:15:54+0300</td>\n",
       "      <td>НЬЮЭРАМЕДИА</td>\n",
       "      <td>Полный день</td>\n",
       "      <td>NaN</td>\n",
       "      <td>От 1 года до 3 лет</td>\n",
       "      <td>[{'name': 'SQL'}, {'name': 'Power BI'}, {'name...</td>\n",
       "      <td>Middle</td>\n",
       "      <td>100000.0</td>\n",
       "      <td>150000.0</td>\n",
       "      <td>RUR</td>\n",
       "      <td>[SQL, Power BI, Python, PostgreSQL, Анализ дан...</td>\n",
       "      <td>33</td>\n",
       "      <td>1</td>\n",
       "      <td>2</td>\n",
       "      <td>681</td>\n",
       "    </tr>\n",
       "    <tr>\n",
       "      <th>1</th>\n",
       "      <td>69360960</td>\n",
       "      <td>Аналитик данных / Data Analyst (управленческая...</td>\n",
       "      <td>Москва</td>\n",
       "      <td>{'from': 150000, 'to': 300000, 'currency': 'RU...</td>\n",
       "      <td>2022-09-25T08:27:37+0300</td>\n",
       "      <td>Carely</td>\n",
       "      <td>Удаленная работа</td>\n",
       "      <td>NaN</td>\n",
       "      <td>От 3 до 6 лет</td>\n",
       "      <td>[{'name': 'SQL'}, {'name': 'Python'}, {'name':...</td>\n",
       "      <td>Senior</td>\n",
       "      <td>150000.0</td>\n",
       "      <td>300000.0</td>\n",
       "      <td>RUR</td>\n",
       "      <td>[SQL, Python, Tableau, Data Analysis, Power BI...</td>\n",
       "      <td>33</td>\n",
       "      <td>3</td>\n",
       "      <td>3</td>\n",
       "      <td>51</td>\n",
       "    </tr>\n",
       "    <tr>\n",
       "      <th>2</th>\n",
       "      <td>69982142</td>\n",
       "      <td>Аналитик по отчетности</td>\n",
       "      <td>Казань</td>\n",
       "      <td>{'from': 100000, 'to': None, 'currency': 'RUR'...</td>\n",
       "      <td>2022-09-22T16:13:57+0300</td>\n",
       "      <td>IDF Eurasia</td>\n",
       "      <td>Полный день</td>\n",
       "      <td>NaN</td>\n",
       "      <td>От 1 года до 3 лет</td>\n",
       "      <td>[{'name': 'SQL'}, {'name': 'Работа с базами да...</td>\n",
       "      <td>Middle</td>\n",
       "      <td>100000.0</td>\n",
       "      <td>100000.0</td>\n",
       "      <td>RUR</td>\n",
       "      <td>[SQL, Работа с базами данных, Управленческая о...</td>\n",
       "      <td>21</td>\n",
       "      <td>1</td>\n",
       "      <td>2</td>\n",
       "      <td>132</td>\n",
       "    </tr>\n",
       "  </tbody>\n",
       "</table>\n",
       "</div>"
      ],
      "text/plain": [
       "         id                                               name    area  \\\n",
       "0  70165043                                           Аналитик  Москва   \n",
       "1  69360960  Аналитик данных / Data Analyst (управленческая...  Москва   \n",
       "2  69982142                             Аналитик по отчетности  Казань   \n",
       "\n",
       "                                              salary  \\\n",
       "0  {'from': 100000, 'to': 150000, 'currency': 'RU...   \n",
       "1  {'from': 150000, 'to': 300000, 'currency': 'RU...   \n",
       "2  {'from': 100000, 'to': None, 'currency': 'RUR'...   \n",
       "\n",
       "               published_at     employer          schedule level_exp  \\\n",
       "0  2022-09-22T15:15:54+0300  НЬЮЭРАМЕДИА       Полный день       NaN   \n",
       "1  2022-09-25T08:27:37+0300       Carely  Удаленная работа       NaN   \n",
       "2  2022-09-22T16:13:57+0300  IDF Eurasia       Полный день       NaN   \n",
       "\n",
       "           experience                                         key_skills  \\\n",
       "0  От 1 года до 3 лет  [{'name': 'SQL'}, {'name': 'Power BI'}, {'name...   \n",
       "1       От 3 до 6 лет  [{'name': 'SQL'}, {'name': 'Python'}, {'name':...   \n",
       "2  От 1 года до 3 лет  [{'name': 'SQL'}, {'name': 'Работа с базами да...   \n",
       "\n",
       "  exb_by_year  salary_from  salary_to currency  \\\n",
       "0      Middle     100000.0   150000.0      RUR   \n",
       "1      Senior     150000.0   300000.0      RUR   \n",
       "2      Middle     100000.0   100000.0      RUR   \n",
       "\n",
       "                                              skills  area_dig  sched_dig  \\\n",
       "0  [SQL, Power BI, Python, PostgreSQL, Анализ дан...        33          1   \n",
       "1  [SQL, Python, Tableau, Data Analysis, Power BI...        33          3   \n",
       "2  [SQL, Работа с базами данных, Управленческая о...        21          1   \n",
       "\n",
       "   exp_dig  empl_dig  \n",
       "0        2       681  \n",
       "1        3        51  \n",
       "2        2       132  "
      ]
     },
     "execution_count": 155,
     "metadata": {},
     "output_type": "execute_result"
    }
   ],
   "source": [
    "le = preprocessing.LabelEncoder()\n",
    "\n",
    "target_df_full['area_dig'] = le.fit_transform(target_df_full['area'])\n",
    "target_df_full['sched_dig'] = le.fit_transform(target_df_full['schedule'])\n",
    "target_df_full['exp_dig'] = le.fit_transform(target_df_full['experience'])\n",
    "target_df_full['empl_dig'] = le.fit_transform(target_df_full['employer'])\n",
    "\n",
    "#target_df_full['skills_dig'] = le.fit_transform(target_df_full['skills'])\n",
    "\n",
    "target_df_full.head(3)"
   ]
  },
  {
   "cell_type": "code",
   "execution_count": 158,
   "metadata": {},
   "outputs": [
    {
     "data": {
      "text/html": [
       "<div>\n",
       "<style scoped>\n",
       "    .dataframe tbody tr th:only-of-type {\n",
       "        vertical-align: middle;\n",
       "    }\n",
       "\n",
       "    .dataframe tbody tr th {\n",
       "        vertical-align: top;\n",
       "    }\n",
       "\n",
       "    .dataframe thead th {\n",
       "        text-align: right;\n",
       "    }\n",
       "</style>\n",
       "<table border=\"1\" class=\"dataframe\">\n",
       "  <thead>\n",
       "    <tr style=\"text-align: right;\">\n",
       "      <th></th>\n",
       "      <th>salary_to</th>\n",
       "      <th>area_dig</th>\n",
       "      <th>exp_dig</th>\n",
       "      <th>sched_dig</th>\n",
       "      <th>empl_dig</th>\n",
       "    </tr>\n",
       "  </thead>\n",
       "  <tbody>\n",
       "    <tr>\n",
       "      <th>0</th>\n",
       "      <td>150000.0</td>\n",
       "      <td>33</td>\n",
       "      <td>2</td>\n",
       "      <td>1</td>\n",
       "      <td>681</td>\n",
       "    </tr>\n",
       "    <tr>\n",
       "      <th>1</th>\n",
       "      <td>300000.0</td>\n",
       "      <td>33</td>\n",
       "      <td>3</td>\n",
       "      <td>3</td>\n",
       "      <td>51</td>\n",
       "    </tr>\n",
       "    <tr>\n",
       "      <th>2</th>\n",
       "      <td>100000.0</td>\n",
       "      <td>21</td>\n",
       "      <td>2</td>\n",
       "      <td>1</td>\n",
       "      <td>132</td>\n",
       "    </tr>\n",
       "    <tr>\n",
       "      <th>3</th>\n",
       "      <td>60000.0</td>\n",
       "      <td>53</td>\n",
       "      <td>2</td>\n",
       "      <td>3</td>\n",
       "      <td>36</td>\n",
       "    </tr>\n",
       "    <tr>\n",
       "      <th>4</th>\n",
       "      <td>70000.0</td>\n",
       "      <td>25</td>\n",
       "      <td>2</td>\n",
       "      <td>1</td>\n",
       "      <td>717</td>\n",
       "    </tr>\n",
       "  </tbody>\n",
       "</table>\n",
       "</div>"
      ],
      "text/plain": [
       "   salary_to  area_dig  exp_dig  sched_dig  empl_dig\n",
       "0   150000.0        33        2          1       681\n",
       "1   300000.0        33        3          3        51\n",
       "2   100000.0        21        2          1       132\n",
       "3    60000.0        53        2          3        36\n",
       "4    70000.0        25        2          1       717"
      ]
     },
     "execution_count": 158,
     "metadata": {},
     "output_type": "execute_result"
    }
   ],
   "source": [
    "sal_feat = target_df_full[~target_df_full['salary_to'].isna()][['salary_to','area_dig', 'exp_dig', 'sched_dig','empl_dig']]\n",
    "sal_feat.head()"
   ]
  },
  {
   "cell_type": "code",
   "execution_count": 159,
   "metadata": {},
   "outputs": [],
   "source": [
    "X = sal_feat.drop('salary_to', axis = 1)\n",
    "y = sal_feat['salary_to']"
   ]
  },
  {
   "cell_type": "code",
   "execution_count": 160,
   "metadata": {},
   "outputs": [
    {
     "name": "stdout",
     "output_type": "stream",
     "text": [
      "(408, 4) (176, 4)\n"
     ]
    }
   ],
   "source": [
    "# разобьем датасет\n",
    "X_train, X_test, y_train, y_test = train_test_split(X, \n",
    "                                                    y, \n",
    "                                                    test_size=0.30, \n",
    "                                                    shuffle=True, \n",
    "                                                    random_state=16)\n",
    "\n",
    "print(X_train.shape,X_test.shape)"
   ]
  },
  {
   "cell_type": "code",
   "execution_count": 161,
   "metadata": {},
   "outputs": [
    {
     "data": {
      "text/plain": [
       "LinearRegression()"
      ]
     },
     "execution_count": 161,
     "metadata": {},
     "output_type": "execute_result"
    }
   ],
   "source": [
    "model = LinearRegression()\n",
    "\n",
    "model.fit(X_train,y_train)"
   ]
  },
  {
   "cell_type": "code",
   "execution_count": 162,
   "metadata": {},
   "outputs": [],
   "source": [
    "predict = model.predict(X_test)"
   ]
  },
  {
   "cell_type": "code",
   "execution_count": 163,
   "metadata": {},
   "outputs": [
    {
     "data": {
      "text/html": [
       "<div>\n",
       "<style scoped>\n",
       "    .dataframe tbody tr th:only-of-type {\n",
       "        vertical-align: middle;\n",
       "    }\n",
       "\n",
       "    .dataframe tbody tr th {\n",
       "        vertical-align: top;\n",
       "    }\n",
       "\n",
       "    .dataframe thead th {\n",
       "        text-align: right;\n",
       "    }\n",
       "</style>\n",
       "<table border=\"1\" class=\"dataframe\">\n",
       "  <thead>\n",
       "    <tr style=\"text-align: right;\">\n",
       "      <th></th>\n",
       "      <th>real_salary</th>\n",
       "      <th>predict_salary</th>\n",
       "    </tr>\n",
       "  </thead>\n",
       "  <tbody>\n",
       "    <tr>\n",
       "      <th>14</th>\n",
       "      <td>120000.0</td>\n",
       "      <td>108555.984938</td>\n",
       "    </tr>\n",
       "    <tr>\n",
       "      <th>1904</th>\n",
       "      <td>100000.0</td>\n",
       "      <td>145774.995692</td>\n",
       "    </tr>\n",
       "    <tr>\n",
       "      <th>1385</th>\n",
       "      <td>170000.0</td>\n",
       "      <td>66692.057124</td>\n",
       "    </tr>\n",
       "    <tr>\n",
       "      <th>383</th>\n",
       "      <td>140000.0</td>\n",
       "      <td>117842.529457</td>\n",
       "    </tr>\n",
       "    <tr>\n",
       "      <th>13</th>\n",
       "      <td>100000.0</td>\n",
       "      <td>89921.300953</td>\n",
       "    </tr>\n",
       "    <tr>\n",
       "      <th>630</th>\n",
       "      <td>50000.0</td>\n",
       "      <td>60351.588797</td>\n",
       "    </tr>\n",
       "    <tr>\n",
       "      <th>942</th>\n",
       "      <td>45000.0</td>\n",
       "      <td>136487.830108</td>\n",
       "    </tr>\n",
       "    <tr>\n",
       "      <th>616</th>\n",
       "      <td>45000.0</td>\n",
       "      <td>62303.740309</td>\n",
       "    </tr>\n",
       "    <tr>\n",
       "      <th>332</th>\n",
       "      <td>120000.0</td>\n",
       "      <td>180364.035408</td>\n",
       "    </tr>\n",
       "    <tr>\n",
       "      <th>1016</th>\n",
       "      <td>60000.0</td>\n",
       "      <td>120893.107206</td>\n",
       "    </tr>\n",
       "  </tbody>\n",
       "</table>\n",
       "</div>"
      ],
      "text/plain": [
       "      real_salary  predict_salary\n",
       "14       120000.0   108555.984938\n",
       "1904     100000.0   145774.995692\n",
       "1385     170000.0    66692.057124\n",
       "383      140000.0   117842.529457\n",
       "13       100000.0    89921.300953\n",
       "630       50000.0    60351.588797\n",
       "942       45000.0   136487.830108\n",
       "616       45000.0    62303.740309\n",
       "332      120000.0   180364.035408\n",
       "1016      60000.0   120893.107206"
      ]
     },
     "execution_count": 163,
     "metadata": {},
     "output_type": "execute_result"
    }
   ],
   "source": [
    "X_test_copy = X_test.copy()\n",
    "\n",
    "sal_with_predict = X_test_copy\n",
    "sal_with_predict['real_salary'] = y_test\n",
    "sal_with_predict['predict_salary'] = predict\n",
    "\n",
    "sal_with_predict[['real_salary','predict_salary']].head(10)"
   ]
  },
  {
   "cell_type": "code",
   "execution_count": null,
   "metadata": {},
   "outputs": [],
   "source": []
  },
  {
   "cell_type": "code",
   "execution_count": null,
   "metadata": {},
   "outputs": [],
   "source": []
  },
  {
   "cell_type": "code",
   "execution_count": null,
   "metadata": {},
   "outputs": [],
   "source": []
  },
  {
   "cell_type": "code",
   "execution_count": null,
   "metadata": {},
   "outputs": [],
   "source": []
  }
 ],
 "metadata": {
  "kernelspec": {
   "display_name": "Python 3 (ipykernel)",
   "language": "python",
   "name": "python3"
  },
  "language_info": {
   "codemirror_mode": {
    "name": "ipython",
    "version": 3
   },
   "file_extension": ".py",
   "mimetype": "text/x-python",
   "name": "python",
   "nbconvert_exporter": "python",
   "pygments_lexer": "ipython3",
   "version": "3.9.7"
  }
 },
 "nbformat": 4,
 "nbformat_minor": 4
}
