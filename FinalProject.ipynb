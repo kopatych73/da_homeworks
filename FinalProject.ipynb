{
 "cells": [
  {
   "cell_type": "raw",
   "id": "e5d4c96f",
   "metadata": {},
   "source": [
    "Задание для проекта:\n",
    "Используя данные о вакансиях с открытых площадок (hh.ru, rabota.sber.ru, indeed.com, career.habr.com) провести исследование рынка одной или нескольких «цифровых» профессий, например, «Аналитик данных», «Data Scientist», «Data Engineer» и др.\n",
    "\t\n",
    "1.\tСобрать датасет за короткий промежуток времени. \n",
    "2.\tПривести его в порядок:\n",
    "•\tПроанализировать его с точки зрения качества и полноты данных, необходимых для исследования. \n",
    "•\tЕсли не хватает дополнить. \n",
    "•\tЕсли есть дубликаты, аккуратно их убрать. Если есть пропуски, понять их причину и определить, что с ними делать.\n",
    "•\tПривести колонки датасета к определенным типам данных, удобных для работы.\n",
    "3.\tПровести исследование в разрезах уровней опыта: Начинающий, Средний, Продвинутый, Руководитель. \n",
    "Например так:\n",
    "•\tJunior(Начинающий)\n",
    "•\tMiddle(Средний)\n",
    "•\tSenior(Продвинутый)\n",
    "•\tHead/Cheif (Руководитель)\n",
    "\n",
    "Идеи для исследования:\n",
    "•\tКоличество вакансий по регионам/компаниям/формату работы (удаленка/офис/гибрид)\n",
    "•\tЗарплаты и вилки зарплат по регионам/компаниям/формату работы\n",
    "•\tНаиболее востребованные навыки. Соотношение «хард» и «софт» навыков.\n",
    "•\tВзаимосвязи между уровнем оплаты и регионами/навыками/форматами работы\n",
    "•\tВстречаемость определенных слов / фраз в описаниях вакансий, с помощью которых возможно получится оптимизировать резюме для поиска.\n",
    "•\tМожно использовать аналогичный подход, собрать информацию о профилях/резюме на соответствующие позиции и рассмотреть соотношение количества вакансий и резюме (спрос-предложение)\n",
    "•\tСравнить несколько смежных профессий по количеству вакансий, зарплате, навыкам\n",
    "•\tПопробовать построить модель прогнозирующую зарплату для вакансий, у которых она не указана\n",
    "\n",
    "\n",
    "Результаты исследования представить с помощью графиков и таблиц в виде презентации или интерактивного дашборда, со ссылкой на репозиторий с кодом проекта\n"
   ]
  },
  {
   "cell_type": "code",
   "execution_count": 1,
   "id": "56404ced",
   "metadata": {},
   "outputs": [],
   "source": [
    "import requests\n",
    "import json\n",
    "from tqdm.auto import tqdm\n",
    "from collections import defaultdict\n",
    "import pickle\n",
    "import pandas as pd\n",
    "import matplotlib.pyplot as plt\n",
    "%matplotlib inline"
   ]
  },
  {
   "cell_type": "code",
   "execution_count": 3,
   "id": "97141551",
   "metadata": {},
   "outputs": [],
   "source": [
    "sber = '3529'\n",
    "page = 1\n",
    "num_per_page = 100\n",
    "moscow = 1\n",
    "#url = f'https://api.hh.ru/vacancies?employer_id={sber}&page={page}&per_page={num_per_page}&area={moscow}'\n",
    "url = f'https://api.hh.ru/vacancies'"
   ]
  },
  {
   "cell_type": "code",
   "execution_count": 4,
   "id": "db96215c",
   "metadata": {},
   "outputs": [],
   "source": [
    "res = requests.get(url)"
   ]
  },
  {
   "cell_type": "code",
   "execution_count": 6,
   "id": "ea87105a",
   "metadata": {},
   "outputs": [
    {
     "data": {
      "text/plain": [
       "100"
      ]
     },
     "execution_count": 6,
     "metadata": {},
     "output_type": "execute_result"
    }
   ],
   "source": [
    "vacancies = res.json()\n",
    "vnum=vacancies.get('pages')\n",
    "vnum"
   ]
  },
  {
   "cell_type": "code",
   "execution_count": 7,
   "id": "0113ed7d",
   "metadata": {},
   "outputs": [
    {
     "data": {
      "application/vnd.jupyter.widget-view+json": {
       "model_id": "830ff57c177b496681e77df328f04821",
       "version_major": 2,
       "version_minor": 0
      },
      "text/plain": [
       "  0%|          | 0/100 [00:00<?, ?it/s]"
      ]
     },
     "metadata": {},
     "output_type": "display_data"
    }
   ],
   "source": [
    "all_vacancies_id=[]\n",
    "for i in tqdm(range(vnum)):\n",
    "    #url = f'https://api.hh.ru/vacancies?employer_id={sber}&page={page}&per_page={num_per_page}&area={moscow}'\n",
    "    url = f'https://api.hh.ru/vacancies'\n",
    "    res = requests.get(url)\n",
    "    vacancies = res.json()\n",
    "    vacancy_ids = [el.get('id') for el in vacancies.get('items')]\n",
    "    all_vacancies_id.extend(vacancy_ids)"
   ]
  },
  {
   "cell_type": "code",
   "execution_count": 9,
   "id": "5640332e",
   "metadata": {},
   "outputs": [
    {
     "data": {
      "text/plain": [
       "2000"
      ]
     },
     "execution_count": 9,
     "metadata": {},
     "output_type": "execute_result"
    }
   ],
   "source": [
    "len(all_vacancies_id)"
   ]
  },
  {
   "cell_type": "code",
   "execution_count": 10,
   "id": "0796ee19",
   "metadata": {},
   "outputs": [
    {
     "data": {
      "application/vnd.jupyter.widget-view+json": {
       "model_id": "e270efd8ebfa46fcadba94500a47ebdd",
       "version_major": 2,
       "version_minor": 0
      },
      "text/plain": [
       "  0%|          | 0/2000 [00:00<?, ?it/s]"
      ]
     },
     "metadata": {},
     "output_type": "display_data"
    }
   ],
   "source": [
    "vacs=[]\n",
    "for vac_id in tqdm(all_vacancies_id):\n",
    "    url = f'https://api.hh.ru/vacancies/{vac_id}'\n",
    "    res = requests.get(url)\n",
    "    vacs.append(res.json())"
   ]
  },
  {
   "cell_type": "code",
   "execution_count": null,
   "id": "a40b8987",
   "metadata": {},
   "outputs": [],
   "source": [
    "vacs"
   ]
  },
  {
   "cell_type": "code",
   "execution_count": 11,
   "id": "79a118c1",
   "metadata": {},
   "outputs": [],
   "source": [
    "df = pd.DataFrame(pd.json_normalize(vacs))"
   ]
  },
  {
   "cell_type": "code",
   "execution_count": 24,
   "id": "c0688336",
   "metadata": {},
   "outputs": [
    {
     "data": {
      "text/plain": [
       "0                                Календарь-менеджер\n",
       "1                              Менеджер по продажам\n",
       "2     Менеджер продаж/ Специалист по продажам услуг\n",
       "3                          Сотрудник ресторана KFC.\n",
       "4    Продавец-консультант в \"Большой Гостиный двор\"\n",
       "Name: name, dtype: object"
      ]
     },
     "execution_count": 24,
     "metadata": {},
     "output_type": "execute_result"
    }
   ],
   "source": [
    "df['name'].head(5)"
   ]
  },
  {
   "cell_type": "code",
   "execution_count": 15,
   "id": "a63ad140",
   "metadata": {},
   "outputs": [
    {
     "name": "stdout",
     "output_type": "stream",
     "text": [
      "<class 'pandas.core.frame.DataFrame'>\n",
      "RangeIndex: 2000 entries, 0 to 1999\n",
      "Data columns (total 81 columns):\n",
      " #   Column                        Non-Null Count  Dtype  \n",
      "---  ------                        --------------  -----  \n",
      " 0   id                            2000 non-null   object \n",
      " 1   premium                       2000 non-null   bool   \n",
      " 2   relations                     2000 non-null   object \n",
      " 3   name                          2000 non-null   object \n",
      " 4   insider_interview             0 non-null      object \n",
      " 5   response_letter_required      2000 non-null   bool   \n",
      " 6   address                       0 non-null      float64\n",
      " 7   allow_messages                2000 non-null   bool   \n",
      " 8   department                    0 non-null      object \n",
      " 9   contacts                      0 non-null      object \n",
      " 10  description                   2000 non-null   object \n",
      " 11  branded_description           100 non-null    object \n",
      " 12  vacancy_constructor_template  0 non-null      object \n",
      " 13  key_skills                    2000 non-null   object \n",
      " 14  accept_handicapped            2000 non-null   bool   \n",
      " 15  accept_kids                   2000 non-null   bool   \n",
      " 16  archived                      2000 non-null   bool   \n",
      " 17  response_url                  0 non-null      object \n",
      " 18  specializations               2000 non-null   object \n",
      " 19  professional_roles            2000 non-null   object \n",
      " 20  code                          0 non-null      object \n",
      " 21  hidden                        2000 non-null   bool   \n",
      " 22  quick_responses_allowed       2000 non-null   bool   \n",
      " 23  driver_license_types          2000 non-null   object \n",
      " 24  accept_incomplete_resumes     2000 non-null   bool   \n",
      " 25  published_at                  2000 non-null   object \n",
      " 26  created_at                    2000 non-null   object \n",
      " 27  initial_created_at            2000 non-null   object \n",
      " 28  negotiations_url              0 non-null      object \n",
      " 29  suitable_resumes_url          0 non-null      object \n",
      " 30  apply_alternate_url           2000 non-null   object \n",
      " 31  has_test                      2000 non-null   bool   \n",
      " 32  test                          0 non-null      object \n",
      " 33  alternate_url                 2000 non-null   object \n",
      " 34  working_days                  2000 non-null   object \n",
      " 35  working_time_intervals        2000 non-null   object \n",
      " 36  working_time_modes            2000 non-null   object \n",
      " 37  accept_temporary              2000 non-null   bool   \n",
      " 38  languages                     2000 non-null   object \n",
      " 39  billing_type.id               2000 non-null   object \n",
      " 40  billing_type.name             2000 non-null   object \n",
      " 41  area.id                       2000 non-null   object \n",
      " 42  area.name                     2000 non-null   object \n",
      " 43  area.url                      2000 non-null   object \n",
      " 44  salary.from                   1900 non-null   float64\n",
      " 45  salary.to                     1100 non-null   float64\n",
      " 46  salary.currency               2000 non-null   object \n",
      " 47  salary.gross                  2000 non-null   bool   \n",
      " 48  type.id                       2000 non-null   object \n",
      " 49  type.name                     2000 non-null   object \n",
      " 50  experience.id                 2000 non-null   object \n",
      " 51  experience.name               2000 non-null   object \n",
      " 52  schedule.id                   2000 non-null   object \n",
      " 53  schedule.name                 2000 non-null   object \n",
      " 54  employment.id                 2000 non-null   object \n",
      " 55  employment.name               2000 non-null   object \n",
      " 56  employer.id                   2000 non-null   object \n",
      " 57  employer.name                 2000 non-null   object \n",
      " 58  employer.url                  2000 non-null   object \n",
      " 59  employer.alternate_url        2000 non-null   object \n",
      " 60  employer.logo_urls.240        1600 non-null   object \n",
      " 61  employer.logo_urls.90         1600 non-null   object \n",
      " 62  employer.logo_urls.original   1600 non-null   object \n",
      " 63  employer.vacancies_url        2000 non-null   object \n",
      " 64  employer.trusted              2000 non-null   bool   \n",
      " 65  address.city                  600 non-null    object \n",
      " 66  address.street                600 non-null    object \n",
      " 67  address.building              600 non-null    object \n",
      " 68  address.description           0 non-null      float64\n",
      " 69  address.lat                   600 non-null    float64\n",
      " 70  address.lng                   600 non-null    float64\n",
      " 71  address.raw                   600 non-null    object \n",
      " 72  address.metro.station_name    300 non-null    object \n",
      " 73  address.metro.line_name       300 non-null    object \n",
      " 74  address.metro.station_id      300 non-null    object \n",
      " 75  address.metro.line_id         300 non-null    object \n",
      " 76  address.metro.lat             300 non-null    float64\n",
      " 77  address.metro.lng             300 non-null    float64\n",
      " 78  address.metro_stations        700 non-null    object \n",
      " 79  address.metro                 0 non-null      float64\n",
      " 80  employer.logo_urls            0 non-null      float64\n",
      "dtypes: bool(13), float64(10), object(58)\n",
      "memory usage: 1.1+ MB\n"
     ]
    }
   ],
   "source": [
    "df.info()"
   ]
  }
 ],
 "metadata": {
  "kernelspec": {
   "display_name": "Python 3 (ipykernel)",
   "language": "python",
   "name": "python3"
  },
  "language_info": {
   "codemirror_mode": {
    "name": "ipython",
    "version": 3
   },
   "file_extension": ".py",
   "mimetype": "text/x-python",
   "name": "python",
   "nbconvert_exporter": "python",
   "pygments_lexer": "ipython3",
   "version": "3.9.7"
  }
 },
 "nbformat": 4,
 "nbformat_minor": 5
}
