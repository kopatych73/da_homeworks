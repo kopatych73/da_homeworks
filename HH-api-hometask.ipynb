{
 "cells": [
  {
   "cell_type": "markdown",
   "metadata": {
    "pycharm": {
     "name": "#%% md\n"
    }
   },
   "source": [
    "# Задание\n",
    "* Скачать все вакансии СБЕРа с ХХ (у апи есть ограничение в 2000, а также captcha подумайте как их можно обойти)\n",
    "* Извлеките все описания этих вакансий\n",
    "* Создайте аналогичный vacancy DataFrame только добавьте поле skills\n",
    "* Переведите даты публикаций в datetime\n",
    "* Постройте график опубликованных вакансий по датам\n",
    "* Переведите даты в дни недели, и определите день недели, в который больше всего публикуют вакансий\n",
    "* Найдите те вакансии с использованием python, которые вам интересны\n",
    "* Определите по полю skills какие навыки больше всего востребованы для этих вакансий\n",
    "* Постройте график наиболее востребованных навыков для аналитика данных"
   ]
  },
  {
   "cell_type": "markdown",
   "metadata": {
    "pycharm": {
     "name": "#%% md\n"
    }
   },
   "source": [
    "https://github.com/hhru/api"
   ]
  },
  {
   "cell_type": "code",
   "execution_count": 2,
   "metadata": {
    "pycharm": {
     "name": "#%%\n"
    }
   },
   "outputs": [],
   "source": [
    "import requests\n",
    "import json\n",
    "from tqdm.auto import tqdm\n",
    "from collections import defaultdict\n",
    "import pickle\n",
    "import pandas as pd"
   ]
  },
  {
   "cell_type": "code",
   "execution_count": 63,
   "metadata": {
    "pycharm": {
     "name": "#%%\n"
    }
   },
   "outputs": [],
   "source": [
    "sber = '3529'\n",
    "page = 1\n",
    "num_per_page = 100\n",
    "moscow = 1\n",
    "url = f'https://api.hh.ru/vacancies?employer_id={sber}&page={page}&per_page={num_per_page}&area={moscow}'"
   ]
  },
  {
   "cell_type": "code",
   "execution_count": 64,
   "metadata": {
    "pycharm": {
     "name": "#%%\n"
    }
   },
   "outputs": [],
   "source": [
    "res = requests.get(url)"
   ]
  },
  {
   "cell_type": "code",
   "execution_count": 6,
   "metadata": {
    "pycharm": {
     "name": "#%%\n"
    }
   },
   "outputs": [],
   "source": []
  },
  {
   "cell_type": "code",
   "execution_count": 66,
   "metadata": {
    "pycharm": {
     "name": "#%%\n"
    }
   },
   "outputs": [],
   "source": [
    "vacs = res.json()"
   ]
  },
  {
   "cell_type": "code",
   "execution_count": 68,
   "metadata": {},
   "outputs": [
    {
     "data": {
      "text/html": [
       "<div>\n",
       "<style scoped>\n",
       "    .dataframe tbody tr th:only-of-type {\n",
       "        vertical-align: middle;\n",
       "    }\n",
       "\n",
       "    .dataframe tbody tr th {\n",
       "        vertical-align: top;\n",
       "    }\n",
       "\n",
       "    .dataframe thead th {\n",
       "        text-align: right;\n",
       "    }\n",
       "</style>\n",
       "<table border=\"1\" class=\"dataframe\">\n",
       "  <thead>\n",
       "    <tr style=\"text-align: right;\">\n",
       "      <th></th>\n",
       "      <th>items</th>\n",
       "      <th>found</th>\n",
       "      <th>pages</th>\n",
       "      <th>per_page</th>\n",
       "      <th>page</th>\n",
       "      <th>clusters</th>\n",
       "      <th>arguments</th>\n",
       "      <th>alternate_url</th>\n",
       "    </tr>\n",
       "  </thead>\n",
       "  <tbody>\n",
       "    <tr>\n",
       "      <th>0</th>\n",
       "      <td>[{'id': '66589225', 'premium': False, 'name': ...</td>\n",
       "      <td>1284</td>\n",
       "      <td>13</td>\n",
       "      <td>100</td>\n",
       "      <td>1</td>\n",
       "      <td>None</td>\n",
       "      <td>None</td>\n",
       "      <td>https://hh.ru/search/vacancy?area=1&amp;control_fl...</td>\n",
       "    </tr>\n",
       "  </tbody>\n",
       "</table>\n",
       "</div>"
      ],
      "text/plain": [
       "                                               items  found  pages  per_page  \\\n",
       "0  [{'id': '66589225', 'premium': False, 'name': ...   1284     13       100   \n",
       "\n",
       "   page clusters arguments                                      alternate_url  \n",
       "0     1     None      None  https://hh.ru/search/vacancy?area=1&control_fl...  "
      ]
     },
     "execution_count": 68,
     "metadata": {},
     "output_type": "execute_result"
    }
   ],
   "source": [
    "pd.json_normalize(vacs)"
   ]
  },
  {
   "cell_type": "code",
   "execution_count": 43,
   "metadata": {
    "pycharm": {
     "name": "#%%\n"
    }
   },
   "outputs": [
    {
     "data": {
      "text/plain": [
       "13"
      ]
     },
     "execution_count": 43,
     "metadata": {},
     "output_type": "execute_result"
    }
   ],
   "source": [
    "\n",
    "vacancies = res.json()\n",
    "num_pages = vacancies.get('pages')\n",
    "num_pages"
   ]
  },
  {
   "cell_type": "code",
   "execution_count": 59,
   "metadata": {},
   "outputs": [
    {
     "name": "stderr",
     "output_type": "stream",
     "text": [
      "C:\\Users\\vg207\\AppData\\Local\\Temp/ipykernel_40624/880532438.py:1: FutureWarning: pandas.io.json.json_normalize is deprecated, use pandas.json_normalize instead\n",
      "  pd.io.json.json_normalize(vacancies)\n"
     ]
    },
    {
     "data": {
      "text/html": [
       "<div>\n",
       "<style scoped>\n",
       "    .dataframe tbody tr th:only-of-type {\n",
       "        vertical-align: middle;\n",
       "    }\n",
       "\n",
       "    .dataframe tbody tr th {\n",
       "        vertical-align: top;\n",
       "    }\n",
       "\n",
       "    .dataframe thead th {\n",
       "        text-align: right;\n",
       "    }\n",
       "</style>\n",
       "<table border=\"1\" class=\"dataframe\">\n",
       "  <thead>\n",
       "    <tr style=\"text-align: right;\">\n",
       "      <th></th>\n",
       "      <th>items</th>\n",
       "      <th>found</th>\n",
       "      <th>pages</th>\n",
       "      <th>per_page</th>\n",
       "      <th>page</th>\n",
       "      <th>clusters</th>\n",
       "      <th>arguments</th>\n",
       "      <th>alternate_url</th>\n",
       "    </tr>\n",
       "  </thead>\n",
       "  <tbody>\n",
       "    <tr>\n",
       "      <th>0</th>\n",
       "      <td>[{'id': '67622907', 'premium': False, 'name': ...</td>\n",
       "      <td>1284</td>\n",
       "      <td>13</td>\n",
       "      <td>100</td>\n",
       "      <td>12</td>\n",
       "      <td>None</td>\n",
       "      <td>None</td>\n",
       "      <td>https://hh.ru/search/vacancy?area=1&amp;control_fl...</td>\n",
       "    </tr>\n",
       "  </tbody>\n",
       "</table>\n",
       "</div>"
      ],
      "text/plain": [
       "                                               items  found  pages  per_page  \\\n",
       "0  [{'id': '67622907', 'premium': False, 'name': ...   1284     13       100   \n",
       "\n",
       "   page clusters arguments                                      alternate_url  \n",
       "0    12     None      None  https://hh.ru/search/vacancy?area=1&control_fl...  "
      ]
     },
     "execution_count": 59,
     "metadata": {},
     "output_type": "execute_result"
    }
   ],
   "source": [
    "pd.io.json.json_normalize(vacancies)\n",
    "#vacancies.json()\n",
    "#pd.DataFrame(vacancies)"
   ]
  },
  {
   "cell_type": "code",
   "execution_count": 61,
   "metadata": {},
   "outputs": [
    {
     "ename": "AttributeError",
     "evalue": "'str' object has no attribute 'get'",
     "output_type": "error",
     "traceback": [
      "\u001b[1;31m---------------------------------------------------------------------------\u001b[0m",
      "\u001b[1;31mAttributeError\u001b[0m                            Traceback (most recent call last)",
      "\u001b[1;32m~\\AppData\\Local\\Temp/ipykernel_40624/2286286126.py\u001b[0m in \u001b[0;36m<module>\u001b[1;34m\u001b[0m\n\u001b[0;32m      1\u001b[0m \u001b[0mfactions_with_id\u001b[0m \u001b[1;33m=\u001b[0m \u001b[0mvacancies\u001b[0m\u001b[1;33m\u001b[0m\u001b[1;33m\u001b[0m\u001b[0m\n\u001b[0;32m      2\u001b[0m \u001b[1;32mfor\u001b[0m \u001b[0mi\u001b[0m \u001b[1;32min\u001b[0m \u001b[0mfactions_with_id\u001b[0m\u001b[1;33m:\u001b[0m\u001b[1;33m\u001b[0m\u001b[1;33m\u001b[0m\u001b[0m\n\u001b[1;32m----> 3\u001b[1;33m     \u001b[0mis_factions\u001b[0m \u001b[1;33m=\u001b[0m \u001b[0mi\u001b[0m\u001b[1;33m.\u001b[0m\u001b[0mget\u001b[0m\u001b[1;33m(\u001b[0m\u001b[1;34m'items'\u001b[0m\u001b[1;33m)\u001b[0m\u001b[1;33m\u001b[0m\u001b[1;33m\u001b[0m\u001b[0m\n\u001b[0m\u001b[0;32m      4\u001b[0m     \u001b[1;31m#if not is_factions:\u001b[0m\u001b[1;33m\u001b[0m\u001b[1;33m\u001b[0m\u001b[0m\n\u001b[0;32m      5\u001b[0m     \u001b[1;31m#    factions_with_id.remove(i)\u001b[0m\u001b[1;33m\u001b[0m\u001b[1;33m\u001b[0m\u001b[0m\n",
      "\u001b[1;31mAttributeError\u001b[0m: 'str' object has no attribute 'get'"
     ]
    }
   ],
   "source": [
    "factions_with_id = vacancies\n",
    "for i in factions_with_id:\n",
    "    is_factions = i.get('items')\n",
    "    #if not is_factions:\n",
    "    #    factions_with_id.remove(i)"
   ]
  },
  {
   "cell_type": "code",
   "execution_count": 44,
   "metadata": {
    "pycharm": {
     "name": "#%%\n"
    }
   },
   "outputs": [],
   "source": [
    "v = vacancies.get('items')"
   ]
  },
  {
   "cell_type": "code",
   "execution_count": 62,
   "metadata": {},
   "outputs": [
    {
     "ename": "ValueError",
     "evalue": "Invalid file path or buffer object type: <class 'dict'>",
     "output_type": "error",
     "traceback": [
      "\u001b[1;31m---------------------------------------------------------------------------\u001b[0m",
      "\u001b[1;31mValueError\u001b[0m                                Traceback (most recent call last)",
      "\u001b[1;32m~\\AppData\\Local\\Temp/ipykernel_40624/2007103284.py\u001b[0m in \u001b[0;36m<module>\u001b[1;34m\u001b[0m\n\u001b[1;32m----> 1\u001b[1;33m \u001b[0mpd\u001b[0m\u001b[1;33m.\u001b[0m\u001b[0mread_json\u001b[0m\u001b[1;33m(\u001b[0m\u001b[0mvacancies\u001b[0m\u001b[1;33m)\u001b[0m\u001b[1;33m\u001b[0m\u001b[1;33m\u001b[0m\u001b[0m\n\u001b[0m",
      "\u001b[1;32mC:\\ProgramData\\Anaconda3\\lib\\site-packages\\pandas\\util\\_decorators.py\u001b[0m in \u001b[0;36mwrapper\u001b[1;34m(*args, **kwargs)\u001b[0m\n\u001b[0;32m    205\u001b[0m                 \u001b[1;32melse\u001b[0m\u001b[1;33m:\u001b[0m\u001b[1;33m\u001b[0m\u001b[1;33m\u001b[0m\u001b[0m\n\u001b[0;32m    206\u001b[0m                     \u001b[0mkwargs\u001b[0m\u001b[1;33m[\u001b[0m\u001b[0mnew_arg_name\u001b[0m\u001b[1;33m]\u001b[0m \u001b[1;33m=\u001b[0m \u001b[0mnew_arg_value\u001b[0m\u001b[1;33m\u001b[0m\u001b[1;33m\u001b[0m\u001b[0m\n\u001b[1;32m--> 207\u001b[1;33m             \u001b[1;32mreturn\u001b[0m \u001b[0mfunc\u001b[0m\u001b[1;33m(\u001b[0m\u001b[1;33m*\u001b[0m\u001b[0margs\u001b[0m\u001b[1;33m,\u001b[0m \u001b[1;33m**\u001b[0m\u001b[0mkwargs\u001b[0m\u001b[1;33m)\u001b[0m\u001b[1;33m\u001b[0m\u001b[1;33m\u001b[0m\u001b[0m\n\u001b[0m\u001b[0;32m    208\u001b[0m \u001b[1;33m\u001b[0m\u001b[0m\n\u001b[0;32m    209\u001b[0m         \u001b[1;32mreturn\u001b[0m \u001b[0mcast\u001b[0m\u001b[1;33m(\u001b[0m\u001b[0mF\u001b[0m\u001b[1;33m,\u001b[0m \u001b[0mwrapper\u001b[0m\u001b[1;33m)\u001b[0m\u001b[1;33m\u001b[0m\u001b[1;33m\u001b[0m\u001b[0m\n",
      "\u001b[1;32mC:\\ProgramData\\Anaconda3\\lib\\site-packages\\pandas\\util\\_decorators.py\u001b[0m in \u001b[0;36mwrapper\u001b[1;34m(*args, **kwargs)\u001b[0m\n\u001b[0;32m    309\u001b[0m                     \u001b[0mstacklevel\u001b[0m\u001b[1;33m=\u001b[0m\u001b[0mstacklevel\u001b[0m\u001b[1;33m,\u001b[0m\u001b[1;33m\u001b[0m\u001b[1;33m\u001b[0m\u001b[0m\n\u001b[0;32m    310\u001b[0m                 )\n\u001b[1;32m--> 311\u001b[1;33m             \u001b[1;32mreturn\u001b[0m \u001b[0mfunc\u001b[0m\u001b[1;33m(\u001b[0m\u001b[1;33m*\u001b[0m\u001b[0margs\u001b[0m\u001b[1;33m,\u001b[0m \u001b[1;33m**\u001b[0m\u001b[0mkwargs\u001b[0m\u001b[1;33m)\u001b[0m\u001b[1;33m\u001b[0m\u001b[1;33m\u001b[0m\u001b[0m\n\u001b[0m\u001b[0;32m    312\u001b[0m \u001b[1;33m\u001b[0m\u001b[0m\n\u001b[0;32m    313\u001b[0m         \u001b[1;32mreturn\u001b[0m \u001b[0mwrapper\u001b[0m\u001b[1;33m\u001b[0m\u001b[1;33m\u001b[0m\u001b[0m\n",
      "\u001b[1;32mC:\\ProgramData\\Anaconda3\\lib\\site-packages\\pandas\\io\\json\\_json.py\u001b[0m in \u001b[0;36mread_json\u001b[1;34m(path_or_buf, orient, typ, dtype, convert_axes, convert_dates, keep_default_dates, numpy, precise_float, date_unit, encoding, encoding_errors, lines, chunksize, compression, nrows, storage_options)\u001b[0m\n\u001b[0;32m    588\u001b[0m         \u001b[0mconvert_axes\u001b[0m \u001b[1;33m=\u001b[0m \u001b[1;32mTrue\u001b[0m\u001b[1;33m\u001b[0m\u001b[1;33m\u001b[0m\u001b[0m\n\u001b[0;32m    589\u001b[0m \u001b[1;33m\u001b[0m\u001b[0m\n\u001b[1;32m--> 590\u001b[1;33m     json_reader = JsonReader(\n\u001b[0m\u001b[0;32m    591\u001b[0m         \u001b[0mpath_or_buf\u001b[0m\u001b[1;33m,\u001b[0m\u001b[1;33m\u001b[0m\u001b[1;33m\u001b[0m\u001b[0m\n\u001b[0;32m    592\u001b[0m         \u001b[0morient\u001b[0m\u001b[1;33m=\u001b[0m\u001b[0morient\u001b[0m\u001b[1;33m,\u001b[0m\u001b[1;33m\u001b[0m\u001b[1;33m\u001b[0m\u001b[0m\n",
      "\u001b[1;32mC:\\ProgramData\\Anaconda3\\lib\\site-packages\\pandas\\io\\json\\_json.py\u001b[0m in \u001b[0;36m__init__\u001b[1;34m(self, filepath_or_buffer, orient, typ, dtype, convert_axes, convert_dates, keep_default_dates, numpy, precise_float, date_unit, encoding, lines, chunksize, compression, nrows, storage_options, encoding_errors)\u001b[0m\n\u001b[0;32m    673\u001b[0m                 \u001b[1;32mraise\u001b[0m \u001b[0mValueError\u001b[0m\u001b[1;33m(\u001b[0m\u001b[1;34m\"nrows can only be passed if lines=True\"\u001b[0m\u001b[1;33m)\u001b[0m\u001b[1;33m\u001b[0m\u001b[1;33m\u001b[0m\u001b[0m\n\u001b[0;32m    674\u001b[0m \u001b[1;33m\u001b[0m\u001b[0m\n\u001b[1;32m--> 675\u001b[1;33m         \u001b[0mdata\u001b[0m \u001b[1;33m=\u001b[0m \u001b[0mself\u001b[0m\u001b[1;33m.\u001b[0m\u001b[0m_get_data_from_filepath\u001b[0m\u001b[1;33m(\u001b[0m\u001b[0mfilepath_or_buffer\u001b[0m\u001b[1;33m)\u001b[0m\u001b[1;33m\u001b[0m\u001b[1;33m\u001b[0m\u001b[0m\n\u001b[0m\u001b[0;32m    676\u001b[0m         \u001b[0mself\u001b[0m\u001b[1;33m.\u001b[0m\u001b[0mdata\u001b[0m \u001b[1;33m=\u001b[0m \u001b[0mself\u001b[0m\u001b[1;33m.\u001b[0m\u001b[0m_preprocess_data\u001b[0m\u001b[1;33m(\u001b[0m\u001b[0mdata\u001b[0m\u001b[1;33m)\u001b[0m\u001b[1;33m\u001b[0m\u001b[1;33m\u001b[0m\u001b[0m\n\u001b[0;32m    677\u001b[0m \u001b[1;33m\u001b[0m\u001b[0m\n",
      "\u001b[1;32mC:\\ProgramData\\Anaconda3\\lib\\site-packages\\pandas\\io\\json\\_json.py\u001b[0m in \u001b[0;36m_get_data_from_filepath\u001b[1;34m(self, filepath_or_buffer)\u001b[0m\n\u001b[0;32m    710\u001b[0m             \u001b[1;32mor\u001b[0m \u001b[0mfile_exists\u001b[0m\u001b[1;33m(\u001b[0m\u001b[0mfilepath_or_buffer\u001b[0m\u001b[1;33m)\u001b[0m\u001b[1;33m\u001b[0m\u001b[1;33m\u001b[0m\u001b[0m\n\u001b[0;32m    711\u001b[0m         ):\n\u001b[1;32m--> 712\u001b[1;33m             self.handles = get_handle(\n\u001b[0m\u001b[0;32m    713\u001b[0m                 \u001b[0mfilepath_or_buffer\u001b[0m\u001b[1;33m,\u001b[0m\u001b[1;33m\u001b[0m\u001b[1;33m\u001b[0m\u001b[0m\n\u001b[0;32m    714\u001b[0m                 \u001b[1;34m\"r\"\u001b[0m\u001b[1;33m,\u001b[0m\u001b[1;33m\u001b[0m\u001b[1;33m\u001b[0m\u001b[0m\n",
      "\u001b[1;32mC:\\ProgramData\\Anaconda3\\lib\\site-packages\\pandas\\io\\common.py\u001b[0m in \u001b[0;36mget_handle\u001b[1;34m(path_or_buf, mode, encoding, compression, memory_map, is_text, errors, storage_options)\u001b[0m\n\u001b[0;32m    607\u001b[0m \u001b[1;33m\u001b[0m\u001b[0m\n\u001b[0;32m    608\u001b[0m     \u001b[1;31m# open URLs\u001b[0m\u001b[1;33m\u001b[0m\u001b[1;33m\u001b[0m\u001b[0m\n\u001b[1;32m--> 609\u001b[1;33m     ioargs = _get_filepath_or_buffer(\n\u001b[0m\u001b[0;32m    610\u001b[0m         \u001b[0mpath_or_buf\u001b[0m\u001b[1;33m,\u001b[0m\u001b[1;33m\u001b[0m\u001b[1;33m\u001b[0m\u001b[0m\n\u001b[0;32m    611\u001b[0m         \u001b[0mencoding\u001b[0m\u001b[1;33m=\u001b[0m\u001b[0mencoding\u001b[0m\u001b[1;33m,\u001b[0m\u001b[1;33m\u001b[0m\u001b[1;33m\u001b[0m\u001b[0m\n",
      "\u001b[1;32mC:\\ProgramData\\Anaconda3\\lib\\site-packages\\pandas\\io\\common.py\u001b[0m in \u001b[0;36m_get_filepath_or_buffer\u001b[1;34m(filepath_or_buffer, encoding, compression, mode, storage_options)\u001b[0m\n\u001b[0;32m    394\u001b[0m     \u001b[1;32mif\u001b[0m \u001b[1;32mnot\u001b[0m \u001b[0mis_file_like\u001b[0m\u001b[1;33m(\u001b[0m\u001b[0mfilepath_or_buffer\u001b[0m\u001b[1;33m)\u001b[0m\u001b[1;33m:\u001b[0m\u001b[1;33m\u001b[0m\u001b[1;33m\u001b[0m\u001b[0m\n\u001b[0;32m    395\u001b[0m         \u001b[0mmsg\u001b[0m \u001b[1;33m=\u001b[0m \u001b[1;34mf\"Invalid file path or buffer object type: {type(filepath_or_buffer)}\"\u001b[0m\u001b[1;33m\u001b[0m\u001b[1;33m\u001b[0m\u001b[0m\n\u001b[1;32m--> 396\u001b[1;33m         \u001b[1;32mraise\u001b[0m \u001b[0mValueError\u001b[0m\u001b[1;33m(\u001b[0m\u001b[0mmsg\u001b[0m\u001b[1;33m)\u001b[0m\u001b[1;33m\u001b[0m\u001b[1;33m\u001b[0m\u001b[0m\n\u001b[0m\u001b[0;32m    397\u001b[0m \u001b[1;33m\u001b[0m\u001b[0m\n\u001b[0;32m    398\u001b[0m     return IOArgs(\n",
      "\u001b[1;31mValueError\u001b[0m: Invalid file path or buffer object type: <class 'dict'>"
     ]
    }
   ],
   "source": [
    "pd.read_json(vacancies)"
   ]
  },
  {
   "cell_type": "code",
   "execution_count": 18,
   "metadata": {
    "pycharm": {
     "name": "#%%\n"
    }
   },
   "outputs": [],
   "source": [
    "# v[0].get('')"
   ]
  },
  {
   "cell_type": "code",
   "execution_count": 45,
   "metadata": {
    "pycharm": {
     "name": "#%%\n"
    }
   },
   "outputs": [
    {
     "data": {
      "text/plain": [
       "dict_keys(['items', 'found', 'pages', 'per_page', 'page', 'clusters', 'arguments', 'alternate_url'])"
      ]
     },
     "execution_count": 45,
     "metadata": {},
     "output_type": "execute_result"
    }
   ],
   "source": [
    "vacancies.keys()"
   ]
  },
  {
   "cell_type": "code",
   "execution_count": 69,
   "metadata": {
    "pycharm": {
     "name": "#%%\n"
    }
   },
   "outputs": [],
   "source": [
    "vacancies = res.json()\n",
    "num_pages = vacancies.get('pages')\n",
    "vacancy_ids = [el.get('id') for el in vacancies.get('items')]"
   ]
  },
  {
   "cell_type": "code",
   "execution_count": 70,
   "metadata": {
    "pycharm": {
     "name": "#%%\n"
    }
   },
   "outputs": [
    {
     "data": {
      "text/plain": [
       "dict_keys(['items', 'found', 'pages', 'per_page', 'page', 'clusters', 'arguments', 'alternate_url'])"
      ]
     },
     "execution_count": 70,
     "metadata": {},
     "output_type": "execute_result"
    }
   ],
   "source": [
    "vacancies.keys()"
   ]
  },
  {
   "cell_type": "code",
   "execution_count": 72,
   "metadata": {
    "pycharm": {
     "name": "#%%\n"
    }
   },
   "outputs": [],
   "source": [
    "vnum  = vacancies.get('items')"
   ]
  },
  {
   "cell_type": "code",
   "execution_count": 79,
   "metadata": {
    "scrolled": true
   },
   "outputs": [
    {
     "data": {
      "text/html": [
       "<div>\n",
       "<style scoped>\n",
       "    .dataframe tbody tr th:only-of-type {\n",
       "        vertical-align: middle;\n",
       "    }\n",
       "\n",
       "    .dataframe tbody tr th {\n",
       "        vertical-align: top;\n",
       "    }\n",
       "\n",
       "    .dataframe thead th {\n",
       "        text-align: right;\n",
       "    }\n",
       "</style>\n",
       "<table border=\"1\" class=\"dataframe\">\n",
       "  <thead>\n",
       "    <tr style=\"text-align: right;\">\n",
       "      <th></th>\n",
       "      <th>id</th>\n",
       "      <th>premium</th>\n",
       "      <th>name</th>\n",
       "      <th>department</th>\n",
       "      <th>has_test</th>\n",
       "      <th>response_letter_required</th>\n",
       "      <th>area</th>\n",
       "      <th>salary</th>\n",
       "      <th>type</th>\n",
       "      <th>address</th>\n",
       "      <th>...</th>\n",
       "      <th>alternate_url</th>\n",
       "      <th>relations</th>\n",
       "      <th>employer</th>\n",
       "      <th>snippet</th>\n",
       "      <th>contacts</th>\n",
       "      <th>schedule</th>\n",
       "      <th>working_days</th>\n",
       "      <th>working_time_intervals</th>\n",
       "      <th>working_time_modes</th>\n",
       "      <th>accept_temporary</th>\n",
       "    </tr>\n",
       "  </thead>\n",
       "  <tbody>\n",
       "    <tr>\n",
       "      <th>0</th>\n",
       "      <td>66589225</td>\n",
       "      <td>False</td>\n",
       "      <td>Тестировщик</td>\n",
       "      <td>{'id': '3529-3529-it', 'name': 'Сбер. IT'}</td>\n",
       "      <td>False</td>\n",
       "      <td>False</td>\n",
       "      <td>{'id': '1', 'name': 'Москва', 'url': 'https://...</td>\n",
       "      <td>None</td>\n",
       "      <td>{'id': 'open', 'name': 'Открытая'}</td>\n",
       "      <td>None</td>\n",
       "      <td>...</td>\n",
       "      <td>https://hh.ru/vacancy/66589225</td>\n",
       "      <td>[]</td>\n",
       "      <td>{'id': '3529', 'name': 'СБЕР', 'url': 'https:/...</td>\n",
       "      <td>{'requirement': 'Готовить данные для локальног...</td>\n",
       "      <td>None</td>\n",
       "      <td>{'id': 'fullDay', 'name': 'Полный день'}</td>\n",
       "      <td>[]</td>\n",
       "      <td>[]</td>\n",
       "      <td>[]</td>\n",
       "      <td>False</td>\n",
       "    </tr>\n",
       "    <tr>\n",
       "      <th>1</th>\n",
       "      <td>66068064</td>\n",
       "      <td>False</td>\n",
       "      <td>Разработчик C++ (Рекламная платформа)</td>\n",
       "      <td>{'id': '3529-3529-it', 'name': 'Сбер. IT'}</td>\n",
       "      <td>False</td>\n",
       "      <td>False</td>\n",
       "      <td>{'id': '1', 'name': 'Москва', 'url': 'https://...</td>\n",
       "      <td>None</td>\n",
       "      <td>{'id': 'open', 'name': 'Открытая'}</td>\n",
       "      <td>{'city': 'Москва', 'street': 'Оружейный переул...</td>\n",
       "      <td>...</td>\n",
       "      <td>https://hh.ru/vacancy/66068064</td>\n",
       "      <td>[]</td>\n",
       "      <td>{'id': '3529', 'name': 'СБЕР', 'url': 'https:/...</td>\n",
       "      <td>{'requirement': 'Высокий уровень владения совр...</td>\n",
       "      <td>None</td>\n",
       "      <td>{'id': 'fullDay', 'name': 'Полный день'}</td>\n",
       "      <td>[]</td>\n",
       "      <td>[]</td>\n",
       "      <td>[]</td>\n",
       "      <td>False</td>\n",
       "    </tr>\n",
       "    <tr>\n",
       "      <th>2</th>\n",
       "      <td>67297641</td>\n",
       "      <td>False</td>\n",
       "      <td>QA engineer</td>\n",
       "      <td>{'id': '3529-3529-it', 'name': 'Сбер. IT'}</td>\n",
       "      <td>False</td>\n",
       "      <td>False</td>\n",
       "      <td>{'id': '1', 'name': 'Москва', 'url': 'https://...</td>\n",
       "      <td>None</td>\n",
       "      <td>{'id': 'open', 'name': 'Открытая'}</td>\n",
       "      <td>None</td>\n",
       "      <td>...</td>\n",
       "      <td>https://hh.ru/vacancy/67297641</td>\n",
       "      <td>[]</td>\n",
       "      <td>{'id': '3529', 'name': 'СБЕР', 'url': 'https:/...</td>\n",
       "      <td>{'requirement': 'Опыт в ручном тестировании от...</td>\n",
       "      <td>None</td>\n",
       "      <td>{'id': 'fullDay', 'name': 'Полный день'}</td>\n",
       "      <td>[]</td>\n",
       "      <td>[]</td>\n",
       "      <td>[]</td>\n",
       "      <td>False</td>\n",
       "    </tr>\n",
       "    <tr>\n",
       "      <th>3</th>\n",
       "      <td>67006080</td>\n",
       "      <td>False</td>\n",
       "      <td>Инженер по работе с договорами коммунальных услуг</td>\n",
       "      <td>{'id': '3529-3529-prof', 'name': 'Сбер для экс...</td>\n",
       "      <td>False</td>\n",
       "      <td>False</td>\n",
       "      <td>{'id': '1', 'name': 'Москва', 'url': 'https://...</td>\n",
       "      <td>None</td>\n",
       "      <td>{'id': 'open', 'name': 'Открытая'}</td>\n",
       "      <td>None</td>\n",
       "      <td>...</td>\n",
       "      <td>https://hh.ru/vacancy/67006080</td>\n",
       "      <td>[]</td>\n",
       "      <td>{'id': '3529', 'name': 'СБЕР', 'url': 'https:/...</td>\n",
       "      <td>{'requirement': 'Общий стаж работы по направле...</td>\n",
       "      <td>None</td>\n",
       "      <td>{'id': 'fullDay', 'name': 'Полный день'}</td>\n",
       "      <td>[]</td>\n",
       "      <td>[]</td>\n",
       "      <td>[]</td>\n",
       "      <td>False</td>\n",
       "    </tr>\n",
       "    <tr>\n",
       "      <th>4</th>\n",
       "      <td>66953690</td>\n",
       "      <td>False</td>\n",
       "      <td>QA engineer (Сбербизнес)</td>\n",
       "      <td>{'id': '3529-3529-prof', 'name': 'Сбер для экс...</td>\n",
       "      <td>False</td>\n",
       "      <td>False</td>\n",
       "      <td>{'id': '1', 'name': 'Москва', 'url': 'https://...</td>\n",
       "      <td>None</td>\n",
       "      <td>{'id': 'open', 'name': 'Открытая'}</td>\n",
       "      <td>{'city': 'Москва', 'street': 'Кутузовский прос...</td>\n",
       "      <td>...</td>\n",
       "      <td>https://hh.ru/vacancy/66953690</td>\n",
       "      <td>[]</td>\n",
       "      <td>{'id': '3529', 'name': 'СБЕР', 'url': 'https:/...</td>\n",
       "      <td>{'requirement': 'Понимание процесса QA и его р...</td>\n",
       "      <td>None</td>\n",
       "      <td>{'id': 'fullDay', 'name': 'Полный день'}</td>\n",
       "      <td>[]</td>\n",
       "      <td>[]</td>\n",
       "      <td>[]</td>\n",
       "      <td>False</td>\n",
       "    </tr>\n",
       "    <tr>\n",
       "      <th>...</th>\n",
       "      <td>...</td>\n",
       "      <td>...</td>\n",
       "      <td>...</td>\n",
       "      <td>...</td>\n",
       "      <td>...</td>\n",
       "      <td>...</td>\n",
       "      <td>...</td>\n",
       "      <td>...</td>\n",
       "      <td>...</td>\n",
       "      <td>...</td>\n",
       "      <td>...</td>\n",
       "      <td>...</td>\n",
       "      <td>...</td>\n",
       "      <td>...</td>\n",
       "      <td>...</td>\n",
       "      <td>...</td>\n",
       "      <td>...</td>\n",
       "      <td>...</td>\n",
       "      <td>...</td>\n",
       "      <td>...</td>\n",
       "      <td>...</td>\n",
       "    </tr>\n",
       "    <tr>\n",
       "      <th>95</th>\n",
       "      <td>67752294</td>\n",
       "      <td>False</td>\n",
       "      <td>Аналитик SQL</td>\n",
       "      <td>{'id': '3529-3529-it', 'name': 'Сбер. IT'}</td>\n",
       "      <td>False</td>\n",
       "      <td>False</td>\n",
       "      <td>{'id': '1', 'name': 'Москва', 'url': 'https://...</td>\n",
       "      <td>None</td>\n",
       "      <td>{'id': 'open', 'name': 'Открытая'}</td>\n",
       "      <td>None</td>\n",
       "      <td>...</td>\n",
       "      <td>https://hh.ru/vacancy/67752294</td>\n",
       "      <td>[]</td>\n",
       "      <td>{'id': '3529', 'name': 'СБЕР', 'url': 'https:/...</td>\n",
       "      <td>{'requirement': 'Умение проверять гипотезы с и...</td>\n",
       "      <td>None</td>\n",
       "      <td>{'id': 'fullDay', 'name': 'Полный день'}</td>\n",
       "      <td>[]</td>\n",
       "      <td>[]</td>\n",
       "      <td>[]</td>\n",
       "      <td>False</td>\n",
       "    </tr>\n",
       "    <tr>\n",
       "      <th>96</th>\n",
       "      <td>66826570</td>\n",
       "      <td>False</td>\n",
       "      <td>Ручной тестировщик (расчеты и платежи)</td>\n",
       "      <td>{'id': '3529-3529-it', 'name': 'Сбер. IT'}</td>\n",
       "      <td>False</td>\n",
       "      <td>False</td>\n",
       "      <td>{'id': '1', 'name': 'Москва', 'url': 'https://...</td>\n",
       "      <td>None</td>\n",
       "      <td>{'id': 'open', 'name': 'Открытая'}</td>\n",
       "      <td>{'city': 'Москва', 'street': 'Кутузовский прос...</td>\n",
       "      <td>...</td>\n",
       "      <td>https://hh.ru/vacancy/66826570</td>\n",
       "      <td>[]</td>\n",
       "      <td>{'id': '3529', 'name': 'СБЕР', 'url': 'https:/...</td>\n",
       "      <td>{'requirement': 'Опыт ручного функционального ...</td>\n",
       "      <td>None</td>\n",
       "      <td>{'id': 'fullDay', 'name': 'Полный день'}</td>\n",
       "      <td>[]</td>\n",
       "      <td>[]</td>\n",
       "      <td>[]</td>\n",
       "      <td>False</td>\n",
       "    </tr>\n",
       "    <tr>\n",
       "      <th>97</th>\n",
       "      <td>67575658</td>\n",
       "      <td>False</td>\n",
       "      <td>Трекер продуктового офиса</td>\n",
       "      <td>{'id': '3529-3529-agile', 'name': 'Сбер. Agile'}</td>\n",
       "      <td>False</td>\n",
       "      <td>False</td>\n",
       "      <td>{'id': '1', 'name': 'Москва', 'url': 'https://...</td>\n",
       "      <td>None</td>\n",
       "      <td>{'id': 'open', 'name': 'Открытая'}</td>\n",
       "      <td>None</td>\n",
       "      <td>...</td>\n",
       "      <td>https://hh.ru/vacancy/67575658</td>\n",
       "      <td>[]</td>\n",
       "      <td>{'id': '3529', 'name': 'СБЕР', 'url': 'https:/...</td>\n",
       "      <td>{'requirement': 'Управлял не менее чем 2я цифр...</td>\n",
       "      <td>None</td>\n",
       "      <td>{'id': 'fullDay', 'name': 'Полный день'}</td>\n",
       "      <td>[]</td>\n",
       "      <td>[]</td>\n",
       "      <td>[]</td>\n",
       "      <td>False</td>\n",
       "    </tr>\n",
       "    <tr>\n",
       "      <th>98</th>\n",
       "      <td>66933327</td>\n",
       "      <td>False</td>\n",
       "      <td>Data Engineer / Data Analyst (SberData)</td>\n",
       "      <td>{'id': '3529-3529-it', 'name': 'Сбер. IT'}</td>\n",
       "      <td>False</td>\n",
       "      <td>False</td>\n",
       "      <td>{'id': '1', 'name': 'Москва', 'url': 'https://...</td>\n",
       "      <td>None</td>\n",
       "      <td>{'id': 'open', 'name': 'Открытая'}</td>\n",
       "      <td>{'city': 'Москва', 'street': 'Кутузовский прос...</td>\n",
       "      <td>...</td>\n",
       "      <td>https://hh.ru/vacancy/66933327</td>\n",
       "      <td>[]</td>\n",
       "      <td>{'id': '3529', 'name': 'СБЕР', 'url': 'https:/...</td>\n",
       "      <td>{'requirement': 'Навыки работы с Git или друго...</td>\n",
       "      <td>None</td>\n",
       "      <td>{'id': 'fullDay', 'name': 'Полный день'}</td>\n",
       "      <td>[]</td>\n",
       "      <td>[]</td>\n",
       "      <td>[]</td>\n",
       "      <td>False</td>\n",
       "    </tr>\n",
       "    <tr>\n",
       "      <th>99</th>\n",
       "      <td>67394533</td>\n",
       "      <td>False</td>\n",
       "      <td>Специалист по нагрузочному тестированию</td>\n",
       "      <td>{'id': '3529-3529-prof', 'name': 'Сбер для экс...</td>\n",
       "      <td>False</td>\n",
       "      <td>False</td>\n",
       "      <td>{'id': '1', 'name': 'Москва', 'url': 'https://...</td>\n",
       "      <td>None</td>\n",
       "      <td>{'id': 'open', 'name': 'Открытая'}</td>\n",
       "      <td>None</td>\n",
       "      <td>...</td>\n",
       "      <td>https://hh.ru/vacancy/67394533</td>\n",
       "      <td>[]</td>\n",
       "      <td>{'id': '3529', 'name': 'СБЕР', 'url': 'https:/...</td>\n",
       "      <td>{'requirement': 'Опыт проведения нагрузочного ...</td>\n",
       "      <td>None</td>\n",
       "      <td>{'id': 'fullDay', 'name': 'Полный день'}</td>\n",
       "      <td>[]</td>\n",
       "      <td>[]</td>\n",
       "      <td>[]</td>\n",
       "      <td>False</td>\n",
       "    </tr>\n",
       "  </tbody>\n",
       "</table>\n",
       "<p>100 rows × 29 columns</p>\n",
       "</div>"
      ],
      "text/plain": [
       "          id  premium                                               name  \\\n",
       "0   66589225    False                                        Тестировщик   \n",
       "1   66068064    False              Разработчик C++ (Рекламная платформа)   \n",
       "2   67297641    False                                        QA engineer   \n",
       "3   67006080    False  Инженер по работе с договорами коммунальных услуг   \n",
       "4   66953690    False                           QA engineer (Сбербизнес)   \n",
       "..       ...      ...                                                ...   \n",
       "95  67752294    False                                       Аналитик SQL   \n",
       "96  66826570    False             Ручной тестировщик (расчеты и платежи)   \n",
       "97  67575658    False                          Трекер продуктового офиса   \n",
       "98  66933327    False            Data Engineer / Data Analyst (SberData)   \n",
       "99  67394533    False            Специалист по нагрузочному тестированию   \n",
       "\n",
       "                                           department  has_test  \\\n",
       "0          {'id': '3529-3529-it', 'name': 'Сбер. IT'}     False   \n",
       "1          {'id': '3529-3529-it', 'name': 'Сбер. IT'}     False   \n",
       "2          {'id': '3529-3529-it', 'name': 'Сбер. IT'}     False   \n",
       "3   {'id': '3529-3529-prof', 'name': 'Сбер для экс...     False   \n",
       "4   {'id': '3529-3529-prof', 'name': 'Сбер для экс...     False   \n",
       "..                                                ...       ...   \n",
       "95         {'id': '3529-3529-it', 'name': 'Сбер. IT'}     False   \n",
       "96         {'id': '3529-3529-it', 'name': 'Сбер. IT'}     False   \n",
       "97   {'id': '3529-3529-agile', 'name': 'Сбер. Agile'}     False   \n",
       "98         {'id': '3529-3529-it', 'name': 'Сбер. IT'}     False   \n",
       "99  {'id': '3529-3529-prof', 'name': 'Сбер для экс...     False   \n",
       "\n",
       "    response_letter_required  \\\n",
       "0                      False   \n",
       "1                      False   \n",
       "2                      False   \n",
       "3                      False   \n",
       "4                      False   \n",
       "..                       ...   \n",
       "95                     False   \n",
       "96                     False   \n",
       "97                     False   \n",
       "98                     False   \n",
       "99                     False   \n",
       "\n",
       "                                                 area salary  \\\n",
       "0   {'id': '1', 'name': 'Москва', 'url': 'https://...   None   \n",
       "1   {'id': '1', 'name': 'Москва', 'url': 'https://...   None   \n",
       "2   {'id': '1', 'name': 'Москва', 'url': 'https://...   None   \n",
       "3   {'id': '1', 'name': 'Москва', 'url': 'https://...   None   \n",
       "4   {'id': '1', 'name': 'Москва', 'url': 'https://...   None   \n",
       "..                                                ...    ...   \n",
       "95  {'id': '1', 'name': 'Москва', 'url': 'https://...   None   \n",
       "96  {'id': '1', 'name': 'Москва', 'url': 'https://...   None   \n",
       "97  {'id': '1', 'name': 'Москва', 'url': 'https://...   None   \n",
       "98  {'id': '1', 'name': 'Москва', 'url': 'https://...   None   \n",
       "99  {'id': '1', 'name': 'Москва', 'url': 'https://...   None   \n",
       "\n",
       "                                  type  \\\n",
       "0   {'id': 'open', 'name': 'Открытая'}   \n",
       "1   {'id': 'open', 'name': 'Открытая'}   \n",
       "2   {'id': 'open', 'name': 'Открытая'}   \n",
       "3   {'id': 'open', 'name': 'Открытая'}   \n",
       "4   {'id': 'open', 'name': 'Открытая'}   \n",
       "..                                 ...   \n",
       "95  {'id': 'open', 'name': 'Открытая'}   \n",
       "96  {'id': 'open', 'name': 'Открытая'}   \n",
       "97  {'id': 'open', 'name': 'Открытая'}   \n",
       "98  {'id': 'open', 'name': 'Открытая'}   \n",
       "99  {'id': 'open', 'name': 'Открытая'}   \n",
       "\n",
       "                                              address  ...  \\\n",
       "0                                                None  ...   \n",
       "1   {'city': 'Москва', 'street': 'Оружейный переул...  ...   \n",
       "2                                                None  ...   \n",
       "3                                                None  ...   \n",
       "4   {'city': 'Москва', 'street': 'Кутузовский прос...  ...   \n",
       "..                                                ...  ...   \n",
       "95                                               None  ...   \n",
       "96  {'city': 'Москва', 'street': 'Кутузовский прос...  ...   \n",
       "97                                               None  ...   \n",
       "98  {'city': 'Москва', 'street': 'Кутузовский прос...  ...   \n",
       "99                                               None  ...   \n",
       "\n",
       "                     alternate_url relations  \\\n",
       "0   https://hh.ru/vacancy/66589225        []   \n",
       "1   https://hh.ru/vacancy/66068064        []   \n",
       "2   https://hh.ru/vacancy/67297641        []   \n",
       "3   https://hh.ru/vacancy/67006080        []   \n",
       "4   https://hh.ru/vacancy/66953690        []   \n",
       "..                             ...       ...   \n",
       "95  https://hh.ru/vacancy/67752294        []   \n",
       "96  https://hh.ru/vacancy/66826570        []   \n",
       "97  https://hh.ru/vacancy/67575658        []   \n",
       "98  https://hh.ru/vacancy/66933327        []   \n",
       "99  https://hh.ru/vacancy/67394533        []   \n",
       "\n",
       "                                             employer  \\\n",
       "0   {'id': '3529', 'name': 'СБЕР', 'url': 'https:/...   \n",
       "1   {'id': '3529', 'name': 'СБЕР', 'url': 'https:/...   \n",
       "2   {'id': '3529', 'name': 'СБЕР', 'url': 'https:/...   \n",
       "3   {'id': '3529', 'name': 'СБЕР', 'url': 'https:/...   \n",
       "4   {'id': '3529', 'name': 'СБЕР', 'url': 'https:/...   \n",
       "..                                                ...   \n",
       "95  {'id': '3529', 'name': 'СБЕР', 'url': 'https:/...   \n",
       "96  {'id': '3529', 'name': 'СБЕР', 'url': 'https:/...   \n",
       "97  {'id': '3529', 'name': 'СБЕР', 'url': 'https:/...   \n",
       "98  {'id': '3529', 'name': 'СБЕР', 'url': 'https:/...   \n",
       "99  {'id': '3529', 'name': 'СБЕР', 'url': 'https:/...   \n",
       "\n",
       "                                              snippet  contacts  \\\n",
       "0   {'requirement': 'Готовить данные для локальног...      None   \n",
       "1   {'requirement': 'Высокий уровень владения совр...      None   \n",
       "2   {'requirement': 'Опыт в ручном тестировании от...      None   \n",
       "3   {'requirement': 'Общий стаж работы по направле...      None   \n",
       "4   {'requirement': 'Понимание процесса QA и его р...      None   \n",
       "..                                                ...       ...   \n",
       "95  {'requirement': 'Умение проверять гипотезы с и...      None   \n",
       "96  {'requirement': 'Опыт ручного функционального ...      None   \n",
       "97  {'requirement': 'Управлял не менее чем 2я цифр...      None   \n",
       "98  {'requirement': 'Навыки работы с Git или друго...      None   \n",
       "99  {'requirement': 'Опыт проведения нагрузочного ...      None   \n",
       "\n",
       "                                    schedule working_days  \\\n",
       "0   {'id': 'fullDay', 'name': 'Полный день'}           []   \n",
       "1   {'id': 'fullDay', 'name': 'Полный день'}           []   \n",
       "2   {'id': 'fullDay', 'name': 'Полный день'}           []   \n",
       "3   {'id': 'fullDay', 'name': 'Полный день'}           []   \n",
       "4   {'id': 'fullDay', 'name': 'Полный день'}           []   \n",
       "..                                       ...          ...   \n",
       "95  {'id': 'fullDay', 'name': 'Полный день'}           []   \n",
       "96  {'id': 'fullDay', 'name': 'Полный день'}           []   \n",
       "97  {'id': 'fullDay', 'name': 'Полный день'}           []   \n",
       "98  {'id': 'fullDay', 'name': 'Полный день'}           []   \n",
       "99  {'id': 'fullDay', 'name': 'Полный день'}           []   \n",
       "\n",
       "   working_time_intervals working_time_modes accept_temporary  \n",
       "0                      []                 []            False  \n",
       "1                      []                 []            False  \n",
       "2                      []                 []            False  \n",
       "3                      []                 []            False  \n",
       "4                      []                 []            False  \n",
       "..                    ...                ...              ...  \n",
       "95                     []                 []            False  \n",
       "96                     []                 []            False  \n",
       "97                     []                 []            False  \n",
       "98                     []                 []            False  \n",
       "99                     []                 []            False  \n",
       "\n",
       "[100 rows x 29 columns]"
      ]
     },
     "execution_count": 79,
     "metadata": {},
     "output_type": "execute_result"
    }
   ],
   "source": [
    "df = pd.DataFrame(vnum)\n",
    "df"
   ]
  },
  {
   "cell_type": "code",
   "execution_count": 81,
   "metadata": {},
   "outputs": [],
   "source": [
    "sn = pd.DataFrame(df['snippet'])"
   ]
  },
  {
   "cell_type": "code",
   "execution_count": 82,
   "metadata": {},
   "outputs": [
    {
     "data": {
      "text/html": [
       "<div>\n",
       "<style scoped>\n",
       "    .dataframe tbody tr th:only-of-type {\n",
       "        vertical-align: middle;\n",
       "    }\n",
       "\n",
       "    .dataframe tbody tr th {\n",
       "        vertical-align: top;\n",
       "    }\n",
       "\n",
       "    .dataframe thead th {\n",
       "        text-align: right;\n",
       "    }\n",
       "</style>\n",
       "<table border=\"1\" class=\"dataframe\">\n",
       "  <thead>\n",
       "    <tr style=\"text-align: right;\">\n",
       "      <th></th>\n",
       "      <th>snippet</th>\n",
       "    </tr>\n",
       "  </thead>\n",
       "  <tbody>\n",
       "    <tr>\n",
       "      <th>0</th>\n",
       "      <td>{'requirement': 'Готовить данные для локальног...</td>\n",
       "    </tr>\n",
       "    <tr>\n",
       "      <th>1</th>\n",
       "      <td>{'requirement': 'Высокий уровень владения совр...</td>\n",
       "    </tr>\n",
       "    <tr>\n",
       "      <th>2</th>\n",
       "      <td>{'requirement': 'Опыт в ручном тестировании от...</td>\n",
       "    </tr>\n",
       "    <tr>\n",
       "      <th>3</th>\n",
       "      <td>{'requirement': 'Общий стаж работы по направле...</td>\n",
       "    </tr>\n",
       "    <tr>\n",
       "      <th>4</th>\n",
       "      <td>{'requirement': 'Понимание процесса QA и его р...</td>\n",
       "    </tr>\n",
       "    <tr>\n",
       "      <th>...</th>\n",
       "      <td>...</td>\n",
       "    </tr>\n",
       "    <tr>\n",
       "      <th>95</th>\n",
       "      <td>{'requirement': 'Умение проверять гипотезы с и...</td>\n",
       "    </tr>\n",
       "    <tr>\n",
       "      <th>96</th>\n",
       "      <td>{'requirement': 'Опыт ручного функционального ...</td>\n",
       "    </tr>\n",
       "    <tr>\n",
       "      <th>97</th>\n",
       "      <td>{'requirement': 'Управлял не менее чем 2я цифр...</td>\n",
       "    </tr>\n",
       "    <tr>\n",
       "      <th>98</th>\n",
       "      <td>{'requirement': 'Навыки работы с Git или друго...</td>\n",
       "    </tr>\n",
       "    <tr>\n",
       "      <th>99</th>\n",
       "      <td>{'requirement': 'Опыт проведения нагрузочного ...</td>\n",
       "    </tr>\n",
       "  </tbody>\n",
       "</table>\n",
       "<p>100 rows × 1 columns</p>\n",
       "</div>"
      ],
      "text/plain": [
       "                                              snippet\n",
       "0   {'requirement': 'Готовить данные для локальног...\n",
       "1   {'requirement': 'Высокий уровень владения совр...\n",
       "2   {'requirement': 'Опыт в ручном тестировании от...\n",
       "3   {'requirement': 'Общий стаж работы по направле...\n",
       "4   {'requirement': 'Понимание процесса QA и его р...\n",
       "..                                                ...\n",
       "95  {'requirement': 'Умение проверять гипотезы с и...\n",
       "96  {'requirement': 'Опыт ручного функционального ...\n",
       "97  {'requirement': 'Управлял не менее чем 2я цифр...\n",
       "98  {'requirement': 'Навыки работы с Git или друго...\n",
       "99  {'requirement': 'Опыт проведения нагрузочного ...\n",
       "\n",
       "[100 rows x 1 columns]"
      ]
     },
     "execution_count": 82,
     "metadata": {},
     "output_type": "execute_result"
    }
   ],
   "source": [
    "sn"
   ]
  },
  {
   "cell_type": "code",
   "execution_count": 49,
   "metadata": {
    "pycharm": {
     "name": "#%%\n"
    }
   },
   "outputs": [
    {
     "data": {
      "application/vnd.jupyter.widget-view+json": {
       "model_id": "c590887b11fb4b829783d256eb3c8a6d",
       "version_major": 2,
       "version_minor": 0
      },
      "text/plain": [
       "  0%|          | 0/13 [00:00<?, ?it/s]"
      ]
     },
     "metadata": {},
     "output_type": "display_data"
    }
   ],
   "source": [
    "all_vacancy_ids= []\n",
    "for i in tqdm(range(vnum)):\n",
    "    url = f'https://api.hh.ru/vacancies?employer_id={sber}&page={i}&per_page={num_per_page}&area={moscow}'\n",
    "    res = requests.get(url)\n",
    "    vacancies = res.json()\n",
    "    vacancy_ids = [el.get('id') for el in vacancies.get('items')]\n",
    "    all_vacancy_ids.extend(vacancy_ids)"
   ]
  },
  {
   "cell_type": "code",
   "execution_count": 51,
   "metadata": {
    "pycharm": {
     "name": "#%%\n"
    }
   },
   "outputs": [
    {
     "data": {
      "text/plain": [
       "1284"
      ]
     },
     "execution_count": 51,
     "metadata": {},
     "output_type": "execute_result"
    }
   ],
   "source": [
    "len(all_vacancy_ids)\n",
    "#https://api.hh.ru/vacancies/66634517"
   ]
  },
  {
   "cell_type": "code",
   "execution_count": 52,
   "metadata": {
    "pycharm": {
     "name": "#%%\n"
    }
   },
   "outputs": [],
   "source": [
    "\n",
    "url = f'https://api.hh.ru/vacancies/{all_vacancy_ids[0]}'\n"
   ]
  },
  {
   "cell_type": "code",
   "execution_count": 53,
   "metadata": {
    "pycharm": {
     "name": "#%%\n"
    }
   },
   "outputs": [],
   "source": [
    "res = requests.get(url)"
   ]
  },
  {
   "cell_type": "code",
   "execution_count": 54,
   "metadata": {
    "pycharm": {
     "name": "#%%\n"
    }
   },
   "outputs": [
    {
     "data": {
      "text/plain": [
       "[{'name': 'Активные продажи'},\n",
       " {'name': 'Проведение презентаций'},\n",
       " {'name': 'Привлечение клиентов'},\n",
       " {'name': 'Навыки продаж'}]"
      ]
     },
     "execution_count": 54,
     "metadata": {},
     "output_type": "execute_result"
    }
   ],
   "source": [
    "res.json().get('key_skills')"
   ]
  },
  {
   "cell_type": "code",
   "execution_count": null,
   "metadata": {
    "pycharm": {
     "name": "#%%\n"
    }
   },
   "outputs": [],
   "source": []
  }
 ],
 "metadata": {
  "kernelspec": {
   "display_name": "Python 3 (ipykernel)",
   "language": "python",
   "name": "python3"
  },
  "language_info": {
   "codemirror_mode": {
    "name": "ipython",
    "version": 3
   },
   "file_extension": ".py",
   "mimetype": "text/x-python",
   "name": "python",
   "nbconvert_exporter": "python",
   "pygments_lexer": "ipython3",
   "version": "3.9.7"
  }
 },
 "nbformat": 4,
 "nbformat_minor": 4
}
