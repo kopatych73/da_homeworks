{
 "cells": [
  {
   "cell_type": "code",
   "execution_count": 55,
   "metadata": {
    "pycharm": {
     "name": "#%%\n"
    }
   },
   "outputs": [],
   "source": [
    "import requests\n",
    "import json\n",
    "from tqdm.auto import tqdm\n",
    "from collections import defaultdict\n",
    "import pickle\n",
    "import pandas as pd\n",
    "import matplotlib.pyplot as plt"
   ]
  },
  {
   "cell_type": "code",
   "execution_count": 54,
   "metadata": {
    "pycharm": {
     "name": "#%%\n"
    }
   },
   "outputs": [],
   "source": [
    "page = 1\n",
    "num_per_page = 100\n",
    "area = 113\n",
    "job=['Аналитик данных']\n",
    "url = f'https://api.hh.ru/vacancies?text={job}&page={page}&per_page={num_per_page}&area={area}'\n",
    "url = f'https://api.hh.ru/vacancies?text={job}&page={page}&per_page={num_per_page}&area={area}'"
   ]
  },
  {
   "cell_type": "code",
   "execution_count": 56,
   "metadata": {
    "pycharm": {
     "name": "#%%\n"
    }
   },
   "outputs": [],
   "source": [
    "res = requests.get(url)"
   ]
  },
  {
   "cell_type": "code",
   "execution_count": 57,
   "metadata": {
    "pycharm": {
     "name": "#%%\n"
    }
   },
   "outputs": [
    {
     "data": {
      "text/plain": [
       "20"
      ]
     },
     "execution_count": 57,
     "metadata": {},
     "output_type": "execute_result"
    }
   ],
   "source": [
    "vacancies = res.json()\n",
    "num_pages = vacancies.get('pages')\n",
    "num_pages"
   ]
  },
  {
   "cell_type": "code",
   "execution_count": 58,
   "metadata": {
    "pycharm": {
     "name": "#%%\n"
    }
   },
   "outputs": [],
   "source": [
    "v = vacancies.get('items')"
   ]
  },
  {
   "cell_type": "code",
   "execution_count": 59,
   "metadata": {
    "pycharm": {
     "name": "#%%\n"
    }
   },
   "outputs": [
    {
     "data": {
      "text/plain": [
       "dict_keys(['items', 'found', 'pages', 'per_page', 'page', 'clusters', 'arguments', 'alternate_url'])"
      ]
     },
     "execution_count": 59,
     "metadata": {},
     "output_type": "execute_result"
    }
   ],
   "source": [
    "vacancies.keys()"
   ]
  },
  {
   "cell_type": "code",
   "execution_count": 60,
   "metadata": {
    "pycharm": {
     "name": "#%%\n"
    }
   },
   "outputs": [],
   "source": [
    "vacancies = res.json()\n",
    "num_pages = vacancies.get('pages')\n",
    "vacancy_ids = [el.get('id') for el in vacancies.get('items')]"
   ]
  },
  {
   "cell_type": "code",
   "execution_count": 61,
   "metadata": {
    "pycharm": {
     "name": "#%%\n"
    }
   },
   "outputs": [
    {
     "data": {
      "text/plain": [
       "dict_keys(['items', 'found', 'pages', 'per_page', 'page', 'clusters', 'arguments', 'alternate_url'])"
      ]
     },
     "execution_count": 61,
     "metadata": {},
     "output_type": "execute_result"
    }
   ],
   "source": [
    "vacancies.keys()"
   ]
  },
  {
   "cell_type": "code",
   "execution_count": 62,
   "metadata": {
    "pycharm": {
     "name": "#%%\n"
    }
   },
   "outputs": [],
   "source": [
    "vnum  = vacancies.get('pages')"
   ]
  },
  {
   "cell_type": "code",
   "execution_count": 13,
   "metadata": {
    "pycharm": {
     "name": "#%%\n"
    }
   },
   "outputs": [
    {
     "data": {
      "application/vnd.jupyter.widget-view+json": {
       "model_id": "bdc59c202b56486691a42883c269e3fd",
       "version_major": 2,
       "version_minor": 0
      },
      "text/plain": [
       "  0%|          | 0/20 [00:00<?, ?it/s]"
      ]
     },
     "metadata": {},
     "output_type": "display_data"
    }
   ],
   "source": [
    "all_vacancy_ids= []\n",
    "all_vacancy_items= []\n",
    "for i in tqdm(range(vnum)):\n",
    "    url = f'https://api.hh.ru/vacancies?text={job}&page={i}&per_page={num_per_page}&area={area}'\n",
    "    res = requests.get(url)\n",
    "    vacancies = res.json()\n",
    "    vacancy_items = res.json().get('items')\n",
    "    vacancy_ids = [el.get('id') for el in vacancies.get('items')]\n",
    "    all_vacancy_ids.extend(vacancy_ids)\n",
    "    all_vacancy_items.extend(vacancy_items)"
   ]
  },
  {
   "cell_type": "code",
   "execution_count": 14,
   "metadata": {},
   "outputs": [],
   "source": [
    "# сохраним json в файл\n",
    "with open('vacancy_items.json', 'w', encoding='utf-8') as f:\n",
    "    json.dump(vacancy_items, f, ensure_ascii=False, indent=4)\n",
    "with open('vacancies.json', 'w', encoding='utf-8') as f:\n",
    "    json.dump(vacancies, f, ensure_ascii=False, indent=4)"
   ]
  },
  {
   "cell_type": "code",
   "execution_count": 63,
   "metadata": {},
   "outputs": [],
   "source": [
    "# читаем json из файла\n",
    "with open('vacancy_items.json', encoding='utf-8') as f:\n",
    "    vacancy_items = json.load(f)\n",
    "with open('vacancies.json', encoding='utf-8') as f:\n",
    "    vacancies = json.load(f)"
   ]
  },
  {
   "cell_type": "code",
   "execution_count": 64,
   "metadata": {
    "pycharm": {
     "name": "#%%\n"
    }
   },
   "outputs": [],
   "source": [
    "df = pd.DataFrame(all_vacancy_items)"
   ]
  },
  {
   "cell_type": "code",
   "execution_count": 65,
   "metadata": {},
   "outputs": [
    {
     "data": {
      "text/plain": [
       "(2000, 29)"
      ]
     },
     "execution_count": 65,
     "metadata": {},
     "output_type": "execute_result"
    }
   ],
   "source": [
    "df.shape"
   ]
  },
  {
   "cell_type": "code",
   "execution_count": 66,
   "metadata": {},
   "outputs": [
    {
     "name": "stdout",
     "output_type": "stream",
     "text": [
      "<class 'pandas.core.frame.DataFrame'>\n",
      "RangeIndex: 2000 entries, 0 to 1999\n",
      "Data columns (total 29 columns):\n",
      " #   Column                    Non-Null Count  Dtype \n",
      "---  ------                    --------------  ----- \n",
      " 0   id                        2000 non-null   object\n",
      " 1   premium                   2000 non-null   bool  \n",
      " 2   name                      2000 non-null   object\n",
      " 3   department                329 non-null    object\n",
      " 4   has_test                  2000 non-null   bool  \n",
      " 5   response_letter_required  2000 non-null   bool  \n",
      " 6   area                      2000 non-null   object\n",
      " 7   salary                    552 non-null    object\n",
      " 8   type                      2000 non-null   object\n",
      " 9   address                   1118 non-null   object\n",
      " 10  response_url              0 non-null      object\n",
      " 11  sort_point_distance       0 non-null      object\n",
      " 12  published_at              2000 non-null   object\n",
      " 13  created_at                2000 non-null   object\n",
      " 14  archived                  2000 non-null   bool  \n",
      " 15  apply_alternate_url       2000 non-null   object\n",
      " 16  insider_interview         39 non-null     object\n",
      " 17  url                       2000 non-null   object\n",
      " 18  adv_response_url          2000 non-null   object\n",
      " 19  alternate_url             2000 non-null   object\n",
      " 20  relations                 2000 non-null   object\n",
      " 21  employer                  2000 non-null   object\n",
      " 22  snippet                   2000 non-null   object\n",
      " 23  contacts                  0 non-null      object\n",
      " 24  schedule                  2000 non-null   object\n",
      " 25  working_days              2000 non-null   object\n",
      " 26  working_time_intervals    2000 non-null   object\n",
      " 27  working_time_modes        2000 non-null   object\n",
      " 28  accept_temporary          2000 non-null   bool  \n",
      "dtypes: bool(5), object(24)\n",
      "memory usage: 384.9+ KB\n"
     ]
    }
   ],
   "source": [
    "df.info()"
   ]
  },
  {
   "cell_type": "code",
   "execution_count": 67,
   "metadata": {
    "scrolled": true
   },
   "outputs": [
    {
     "data": {
      "text/html": [
       "<div>\n",
       "<style scoped>\n",
       "    .dataframe tbody tr th:only-of-type {\n",
       "        vertical-align: middle;\n",
       "    }\n",
       "\n",
       "    .dataframe tbody tr th {\n",
       "        vertical-align: top;\n",
       "    }\n",
       "\n",
       "    .dataframe thead th {\n",
       "        text-align: right;\n",
       "    }\n",
       "</style>\n",
       "<table border=\"1\" class=\"dataframe\">\n",
       "  <thead>\n",
       "    <tr style=\"text-align: right;\">\n",
       "      <th></th>\n",
       "      <th>id</th>\n",
       "      <th>premium</th>\n",
       "      <th>name</th>\n",
       "      <th>department</th>\n",
       "      <th>has_test</th>\n",
       "      <th>response_letter_required</th>\n",
       "      <th>area</th>\n",
       "      <th>salary</th>\n",
       "      <th>type</th>\n",
       "      <th>address</th>\n",
       "      <th>...</th>\n",
       "      <th>alternate_url</th>\n",
       "      <th>relations</th>\n",
       "      <th>employer</th>\n",
       "      <th>snippet</th>\n",
       "      <th>contacts</th>\n",
       "      <th>schedule</th>\n",
       "      <th>working_days</th>\n",
       "      <th>working_time_intervals</th>\n",
       "      <th>working_time_modes</th>\n",
       "      <th>accept_temporary</th>\n",
       "    </tr>\n",
       "  </thead>\n",
       "  <tbody>\n",
       "    <tr>\n",
       "      <th>0</th>\n",
       "      <td>70029179</td>\n",
       "      <td>False</td>\n",
       "      <td>Бизнес аналитик/Data аналитик</td>\n",
       "      <td>None</td>\n",
       "      <td>False</td>\n",
       "      <td>False</td>\n",
       "      <td>{'id': '1', 'name': 'Москва', 'url': 'https://...</td>\n",
       "      <td>{'from': 150000, 'to': 170000, 'currency': 'RU...</td>\n",
       "      <td>{'id': 'open', 'name': 'Открытая'}</td>\n",
       "      <td>None</td>\n",
       "      <td>...</td>\n",
       "      <td>https://hh.ru/vacancy/70029179</td>\n",
       "      <td>[]</td>\n",
       "      <td>{'id': '1424', 'name': 'Odgers Berndtson', 'ur...</td>\n",
       "      <td>{'requirement': 'Опыт работы с Tableau/Power B...</td>\n",
       "      <td>None</td>\n",
       "      <td>{'id': 'fullDay', 'name': 'Полный день'}</td>\n",
       "      <td>[]</td>\n",
       "      <td>[]</td>\n",
       "      <td>[]</td>\n",
       "      <td>False</td>\n",
       "    </tr>\n",
       "    <tr>\n",
       "      <th>1</th>\n",
       "      <td>69360960</td>\n",
       "      <td>False</td>\n",
       "      <td>Аналитик данных / Data Analyst (управленческая...</td>\n",
       "      <td>None</td>\n",
       "      <td>False</td>\n",
       "      <td>False</td>\n",
       "      <td>{'id': '1', 'name': 'Москва', 'url': 'https://...</td>\n",
       "      <td>{'from': 150000, 'to': 300000, 'currency': 'RU...</td>\n",
       "      <td>{'id': 'open', 'name': 'Открытая'}</td>\n",
       "      <td>{'city': 'Москва', 'street': 'Большая Тульская...</td>\n",
       "      <td>...</td>\n",
       "      <td>https://hh.ru/vacancy/69360960</td>\n",
       "      <td>[]</td>\n",
       "      <td>{'id': '2464267', 'name': 'Carely', 'url': 'ht...</td>\n",
       "      <td>{'requirement': 'Структурированно описывать би...</td>\n",
       "      <td>None</td>\n",
       "      <td>{'id': 'remote', 'name': 'Удаленная работа'}</td>\n",
       "      <td>[]</td>\n",
       "      <td>[]</td>\n",
       "      <td>[]</td>\n",
       "      <td>False</td>\n",
       "    </tr>\n",
       "    <tr>\n",
       "      <th>2</th>\n",
       "      <td>70165043</td>\n",
       "      <td>False</td>\n",
       "      <td>Аналитик</td>\n",
       "      <td>None</td>\n",
       "      <td>False</td>\n",
       "      <td>False</td>\n",
       "      <td>{'id': '1', 'name': 'Москва', 'url': 'https://...</td>\n",
       "      <td>{'from': 100000, 'to': 150000, 'currency': 'RU...</td>\n",
       "      <td>{'id': 'open', 'name': 'Открытая'}</td>\n",
       "      <td>{'city': 'Москва', 'street': 'Пресненская набе...</td>\n",
       "      <td>...</td>\n",
       "      <td>https://hh.ru/vacancy/70165043</td>\n",
       "      <td>[]</td>\n",
       "      <td>{'id': '5021275', 'name': 'НЬЮЭРАМЕДИА', 'url'...</td>\n",
       "      <td>{'requirement': 'Мыслить в цифрах. Успешный оп...</td>\n",
       "      <td>None</td>\n",
       "      <td>{'id': 'fullDay', 'name': 'Полный день'}</td>\n",
       "      <td>[]</td>\n",
       "      <td>[]</td>\n",
       "      <td>[]</td>\n",
       "      <td>False</td>\n",
       "    </tr>\n",
       "    <tr>\n",
       "      <th>3</th>\n",
       "      <td>69982142</td>\n",
       "      <td>False</td>\n",
       "      <td>Аналитик по отчетности</td>\n",
       "      <td>None</td>\n",
       "      <td>False</td>\n",
       "      <td>False</td>\n",
       "      <td>{'id': '88', 'name': 'Казань', 'url': 'https:/...</td>\n",
       "      <td>{'from': 100000, 'to': None, 'currency': 'RUR'...</td>\n",
       "      <td>{'id': 'open', 'name': 'Открытая'}</td>\n",
       "      <td>{'city': 'Казань', 'street': 'проспект Победы'...</td>\n",
       "      <td>...</td>\n",
       "      <td>https://hh.ru/vacancy/69982142</td>\n",
       "      <td>[]</td>\n",
       "      <td>{'id': '1191643', 'name': 'IDF Eurasia', 'url'...</td>\n",
       "      <td>{'requirement': 'Хорошее знание Excel (сводные...</td>\n",
       "      <td>None</td>\n",
       "      <td>{'id': 'fullDay', 'name': 'Полный день'}</td>\n",
       "      <td>[]</td>\n",
       "      <td>[]</td>\n",
       "      <td>[]</td>\n",
       "      <td>False</td>\n",
       "    </tr>\n",
       "    <tr>\n",
       "      <th>4</th>\n",
       "      <td>70049715</td>\n",
       "      <td>False</td>\n",
       "      <td>Аналитик данных (SQL)</td>\n",
       "      <td>None</td>\n",
       "      <td>False</td>\n",
       "      <td>False</td>\n",
       "      <td>{'id': '53', 'name': 'Краснодар', 'url': 'http...</td>\n",
       "      <td>{'from': 70000, 'to': None, 'currency': 'RUR',...</td>\n",
       "      <td>{'id': 'open', 'name': 'Открытая'}</td>\n",
       "      <td>{'city': 'Краснодар', 'street': 'улица Красных...</td>\n",
       "      <td>...</td>\n",
       "      <td>https://hh.ru/vacancy/70049715</td>\n",
       "      <td>[]</td>\n",
       "      <td>{'id': '2813915', 'name': 'ПРОФИТКЛИКС', 'url'...</td>\n",
       "      <td>{'requirement': 'Умение работать с БД и SQL за...</td>\n",
       "      <td>None</td>\n",
       "      <td>{'id': 'fullDay', 'name': 'Полный день'}</td>\n",
       "      <td>[]</td>\n",
       "      <td>[]</td>\n",
       "      <td>[]</td>\n",
       "      <td>False</td>\n",
       "    </tr>\n",
       "  </tbody>\n",
       "</table>\n",
       "<p>5 rows × 29 columns</p>\n",
       "</div>"
      ],
      "text/plain": [
       "         id  premium                                               name  \\\n",
       "0  70029179    False                      Бизнес аналитик/Data аналитик   \n",
       "1  69360960    False  Аналитик данных / Data Analyst (управленческая...   \n",
       "2  70165043    False                                           Аналитик   \n",
       "3  69982142    False                             Аналитик по отчетности   \n",
       "4  70049715    False                              Аналитик данных (SQL)   \n",
       "\n",
       "  department  has_test  response_letter_required  \\\n",
       "0       None     False                     False   \n",
       "1       None     False                     False   \n",
       "2       None     False                     False   \n",
       "3       None     False                     False   \n",
       "4       None     False                     False   \n",
       "\n",
       "                                                area  \\\n",
       "0  {'id': '1', 'name': 'Москва', 'url': 'https://...   \n",
       "1  {'id': '1', 'name': 'Москва', 'url': 'https://...   \n",
       "2  {'id': '1', 'name': 'Москва', 'url': 'https://...   \n",
       "3  {'id': '88', 'name': 'Казань', 'url': 'https:/...   \n",
       "4  {'id': '53', 'name': 'Краснодар', 'url': 'http...   \n",
       "\n",
       "                                              salary  \\\n",
       "0  {'from': 150000, 'to': 170000, 'currency': 'RU...   \n",
       "1  {'from': 150000, 'to': 300000, 'currency': 'RU...   \n",
       "2  {'from': 100000, 'to': 150000, 'currency': 'RU...   \n",
       "3  {'from': 100000, 'to': None, 'currency': 'RUR'...   \n",
       "4  {'from': 70000, 'to': None, 'currency': 'RUR',...   \n",
       "\n",
       "                                 type  \\\n",
       "0  {'id': 'open', 'name': 'Открытая'}   \n",
       "1  {'id': 'open', 'name': 'Открытая'}   \n",
       "2  {'id': 'open', 'name': 'Открытая'}   \n",
       "3  {'id': 'open', 'name': 'Открытая'}   \n",
       "4  {'id': 'open', 'name': 'Открытая'}   \n",
       "\n",
       "                                             address  ...  \\\n",
       "0                                               None  ...   \n",
       "1  {'city': 'Москва', 'street': 'Большая Тульская...  ...   \n",
       "2  {'city': 'Москва', 'street': 'Пресненская набе...  ...   \n",
       "3  {'city': 'Казань', 'street': 'проспект Победы'...  ...   \n",
       "4  {'city': 'Краснодар', 'street': 'улица Красных...  ...   \n",
       "\n",
       "                    alternate_url relations  \\\n",
       "0  https://hh.ru/vacancy/70029179        []   \n",
       "1  https://hh.ru/vacancy/69360960        []   \n",
       "2  https://hh.ru/vacancy/70165043        []   \n",
       "3  https://hh.ru/vacancy/69982142        []   \n",
       "4  https://hh.ru/vacancy/70049715        []   \n",
       "\n",
       "                                            employer  \\\n",
       "0  {'id': '1424', 'name': 'Odgers Berndtson', 'ur...   \n",
       "1  {'id': '2464267', 'name': 'Carely', 'url': 'ht...   \n",
       "2  {'id': '5021275', 'name': 'НЬЮЭРАМЕДИА', 'url'...   \n",
       "3  {'id': '1191643', 'name': 'IDF Eurasia', 'url'...   \n",
       "4  {'id': '2813915', 'name': 'ПРОФИТКЛИКС', 'url'...   \n",
       "\n",
       "                                             snippet  contacts  \\\n",
       "0  {'requirement': 'Опыт работы с Tableau/Power B...      None   \n",
       "1  {'requirement': 'Структурированно описывать би...      None   \n",
       "2  {'requirement': 'Мыслить в цифрах. Успешный оп...      None   \n",
       "3  {'requirement': 'Хорошее знание Excel (сводные...      None   \n",
       "4  {'requirement': 'Умение работать с БД и SQL за...      None   \n",
       "\n",
       "                                       schedule working_days  \\\n",
       "0      {'id': 'fullDay', 'name': 'Полный день'}           []   \n",
       "1  {'id': 'remote', 'name': 'Удаленная работа'}           []   \n",
       "2      {'id': 'fullDay', 'name': 'Полный день'}           []   \n",
       "3      {'id': 'fullDay', 'name': 'Полный день'}           []   \n",
       "4      {'id': 'fullDay', 'name': 'Полный день'}           []   \n",
       "\n",
       "  working_time_intervals working_time_modes accept_temporary  \n",
       "0                     []                 []            False  \n",
       "1                     []                 []            False  \n",
       "2                     []                 []            False  \n",
       "3                     []                 []            False  \n",
       "4                     []                 []            False  \n",
       "\n",
       "[5 rows x 29 columns]"
      ]
     },
     "execution_count": 67,
     "metadata": {},
     "output_type": "execute_result"
    }
   ],
   "source": [
    "df.head()"
   ]
  },
  {
   "cell_type": "code",
   "execution_count": 89,
   "metadata": {},
   "outputs": [],
   "source": [
    "# функция для извлечения поля name из объекта json\n",
    "def get_name(cell):\n",
    "    return cell['name']   "
   ]
  },
  {
   "cell_type": "code",
   "execution_count": 90,
   "metadata": {},
   "outputs": [
    {
     "data": {
      "text/plain": [
       "(2000, 7)"
      ]
     },
     "execution_count": 90,
     "metadata": {},
     "output_type": "execute_result"
    }
   ],
   "source": [
    "target_df = df[['id', 'name', 'area', 'salary','published_at','employer', 'schedule']]\n",
    "target_df.shape"
   ]
  },
  {
   "cell_type": "raw",
   "metadata": {},
   "source": [
    "# получим дополнительныые поля\n",
    "vak_url = 'https://api.hh.ru/vacancies/{}'\n",
    "\n",
    "var = []\n",
    "for i in tqdm(all_vacancy_ids):\n",
    "    var.append(requests.get(vak_url.format(i)).json())"
   ]
  },
  {
   "cell_type": "code",
   "execution_count": null,
   "metadata": {},
   "outputs": [],
   "source": [
    "# сохраним json в файл\n",
    "with open('var.json', 'w', encoding='utf-8') as f:\n",
    "    json.dump(var, f, ensure_ascii=False, indent=4)"
   ]
  },
  {
   "cell_type": "code",
   "execution_count": 92,
   "metadata": {},
   "outputs": [],
   "source": [
    "with open('var.json', encoding='utf-8') as f:\n",
    "    var = json.load(f)"
   ]
  },
  {
   "cell_type": "code",
   "execution_count": 93,
   "metadata": {},
   "outputs": [],
   "source": [
    "additional = pd.DataFrame(var) "
   ]
  },
  {
   "cell_type": "code",
   "execution_count": 94,
   "metadata": {},
   "outputs": [
    {
     "data": {
      "text/plain": [
       "(16421, 49)"
      ]
     },
     "execution_count": 94,
     "metadata": {},
     "output_type": "execute_result"
    }
   ],
   "source": [
    "additional.shape"
   ]
  },
  {
   "cell_type": "code",
   "execution_count": 95,
   "metadata": {},
   "outputs": [
    {
     "data": {
      "text/html": [
       "<div>\n",
       "<style scoped>\n",
       "    .dataframe tbody tr th:only-of-type {\n",
       "        vertical-align: middle;\n",
       "    }\n",
       "\n",
       "    .dataframe tbody tr th {\n",
       "        vertical-align: top;\n",
       "    }\n",
       "\n",
       "    .dataframe thead th {\n",
       "        text-align: right;\n",
       "    }\n",
       "</style>\n",
       "<table border=\"1\" class=\"dataframe\">\n",
       "  <thead>\n",
       "    <tr style=\"text-align: right;\">\n",
       "      <th></th>\n",
       "      <th>id</th>\n",
       "      <th>premium</th>\n",
       "      <th>billing_type</th>\n",
       "      <th>relations</th>\n",
       "      <th>name</th>\n",
       "      <th>insider_interview</th>\n",
       "      <th>response_letter_required</th>\n",
       "      <th>area</th>\n",
       "      <th>salary</th>\n",
       "      <th>type</th>\n",
       "      <th>...</th>\n",
       "      <th>has_test</th>\n",
       "      <th>test</th>\n",
       "      <th>alternate_url</th>\n",
       "      <th>working_days</th>\n",
       "      <th>working_time_intervals</th>\n",
       "      <th>working_time_modes</th>\n",
       "      <th>accept_temporary</th>\n",
       "      <th>languages</th>\n",
       "      <th>errors</th>\n",
       "      <th>request_id</th>\n",
       "    </tr>\n",
       "  </thead>\n",
       "  <tbody>\n",
       "    <tr>\n",
       "      <th>0</th>\n",
       "      <td>69360960</td>\n",
       "      <td>False</td>\n",
       "      <td>{'id': 'standard_plus', 'name': 'Стандарт плюс'}</td>\n",
       "      <td>[]</td>\n",
       "      <td>Аналитик данных / Data Analyst (управленческая...</td>\n",
       "      <td>None</td>\n",
       "      <td>False</td>\n",
       "      <td>{'id': '1', 'name': 'Москва', 'url': 'https://...</td>\n",
       "      <td>{'from': 150000, 'to': 300000, 'currency': 'RU...</td>\n",
       "      <td>{'id': 'open', 'name': 'Открытая'}</td>\n",
       "      <td>...</td>\n",
       "      <td>False</td>\n",
       "      <td>None</td>\n",
       "      <td>https://hh.ru/vacancy/69360960</td>\n",
       "      <td>[]</td>\n",
       "      <td>[]</td>\n",
       "      <td>[]</td>\n",
       "      <td>False</td>\n",
       "      <td>[{'id': 'eng', 'name': 'Английский', 'level': ...</td>\n",
       "      <td>NaN</td>\n",
       "      <td>NaN</td>\n",
       "    </tr>\n",
       "    <tr>\n",
       "      <th>1</th>\n",
       "      <td>69982142</td>\n",
       "      <td>False</td>\n",
       "      <td>{'id': 'standard_plus', 'name': 'Стандарт плюс'}</td>\n",
       "      <td>[]</td>\n",
       "      <td>Аналитик по отчетности</td>\n",
       "      <td>None</td>\n",
       "      <td>False</td>\n",
       "      <td>{'id': '88', 'name': 'Казань', 'url': 'https:/...</td>\n",
       "      <td>{'from': 100000, 'to': None, 'currency': 'RUR'...</td>\n",
       "      <td>{'id': 'open', 'name': 'Открытая'}</td>\n",
       "      <td>...</td>\n",
       "      <td>False</td>\n",
       "      <td>None</td>\n",
       "      <td>https://hh.ru/vacancy/69982142</td>\n",
       "      <td>[]</td>\n",
       "      <td>[]</td>\n",
       "      <td>[]</td>\n",
       "      <td>False</td>\n",
       "      <td>[]</td>\n",
       "      <td>NaN</td>\n",
       "      <td>NaN</td>\n",
       "    </tr>\n",
       "    <tr>\n",
       "      <th>2</th>\n",
       "      <td>70167798</td>\n",
       "      <td>False</td>\n",
       "      <td>{'id': 'standard_plus', 'name': 'Стандарт плюс'}</td>\n",
       "      <td>[]</td>\n",
       "      <td>Аналитик данных</td>\n",
       "      <td>None</td>\n",
       "      <td>False</td>\n",
       "      <td>{'id': '2', 'name': 'Санкт-Петербург', 'url': ...</td>\n",
       "      <td>{'from': 60000, 'to': None, 'currency': 'RUR',...</td>\n",
       "      <td>{'id': 'open', 'name': 'Открытая'}</td>\n",
       "      <td>...</td>\n",
       "      <td>False</td>\n",
       "      <td>None</td>\n",
       "      <td>https://hh.ru/vacancy/70167798</td>\n",
       "      <td>[]</td>\n",
       "      <td>[]</td>\n",
       "      <td>[]</td>\n",
       "      <td>True</td>\n",
       "      <td>[]</td>\n",
       "      <td>NaN</td>\n",
       "      <td>NaN</td>\n",
       "    </tr>\n",
       "    <tr>\n",
       "      <th>3</th>\n",
       "      <td>69647954</td>\n",
       "      <td>False</td>\n",
       "      <td>{'id': 'standard_plus', 'name': 'Стандарт плюс'}</td>\n",
       "      <td>[]</td>\n",
       "      <td>Аналитик данных / Data Analyst</td>\n",
       "      <td>None</td>\n",
       "      <td>False</td>\n",
       "      <td>{'id': '1', 'name': 'Москва', 'url': 'https://...</td>\n",
       "      <td>{'from': 60000, 'to': 90000, 'currency': 'RUR'...</td>\n",
       "      <td>{'id': 'open', 'name': 'Открытая'}</td>\n",
       "      <td>...</td>\n",
       "      <td>True</td>\n",
       "      <td>{'required': True}</td>\n",
       "      <td>https://hh.ru/vacancy/69647954</td>\n",
       "      <td>[]</td>\n",
       "      <td>[]</td>\n",
       "      <td>[]</td>\n",
       "      <td>False</td>\n",
       "      <td>[]</td>\n",
       "      <td>NaN</td>\n",
       "      <td>NaN</td>\n",
       "    </tr>\n",
       "    <tr>\n",
       "      <th>4</th>\n",
       "      <td>70049715</td>\n",
       "      <td>False</td>\n",
       "      <td>{'id': 'standard_plus', 'name': 'Стандарт плюс'}</td>\n",
       "      <td>[]</td>\n",
       "      <td>Аналитик данных (SQL)</td>\n",
       "      <td>None</td>\n",
       "      <td>False</td>\n",
       "      <td>{'id': '53', 'name': 'Краснодар', 'url': 'http...</td>\n",
       "      <td>{'from': 65000, 'to': 70000, 'currency': 'RUR'...</td>\n",
       "      <td>{'id': 'open', 'name': 'Открытая'}</td>\n",
       "      <td>...</td>\n",
       "      <td>False</td>\n",
       "      <td>None</td>\n",
       "      <td>https://hh.ru/vacancy/70049715</td>\n",
       "      <td>[]</td>\n",
       "      <td>[]</td>\n",
       "      <td>[]</td>\n",
       "      <td>False</td>\n",
       "      <td>[]</td>\n",
       "      <td>NaN</td>\n",
       "      <td>NaN</td>\n",
       "    </tr>\n",
       "  </tbody>\n",
       "</table>\n",
       "<p>5 rows × 49 columns</p>\n",
       "</div>"
      ],
      "text/plain": [
       "         id premium                                      billing_type  \\\n",
       "0  69360960   False  {'id': 'standard_plus', 'name': 'Стандарт плюс'}   \n",
       "1  69982142   False  {'id': 'standard_plus', 'name': 'Стандарт плюс'}   \n",
       "2  70167798   False  {'id': 'standard_plus', 'name': 'Стандарт плюс'}   \n",
       "3  69647954   False  {'id': 'standard_plus', 'name': 'Стандарт плюс'}   \n",
       "4  70049715   False  {'id': 'standard_plus', 'name': 'Стандарт плюс'}   \n",
       "\n",
       "  relations                                               name  \\\n",
       "0        []  Аналитик данных / Data Analyst (управленческая...   \n",
       "1        []                             Аналитик по отчетности   \n",
       "2        []                                    Аналитик данных   \n",
       "3        []                     Аналитик данных / Data Analyst   \n",
       "4        []                              Аналитик данных (SQL)   \n",
       "\n",
       "  insider_interview response_letter_required  \\\n",
       "0              None                    False   \n",
       "1              None                    False   \n",
       "2              None                    False   \n",
       "3              None                    False   \n",
       "4              None                    False   \n",
       "\n",
       "                                                area  \\\n",
       "0  {'id': '1', 'name': 'Москва', 'url': 'https://...   \n",
       "1  {'id': '88', 'name': 'Казань', 'url': 'https:/...   \n",
       "2  {'id': '2', 'name': 'Санкт-Петербург', 'url': ...   \n",
       "3  {'id': '1', 'name': 'Москва', 'url': 'https://...   \n",
       "4  {'id': '53', 'name': 'Краснодар', 'url': 'http...   \n",
       "\n",
       "                                              salary  \\\n",
       "0  {'from': 150000, 'to': 300000, 'currency': 'RU...   \n",
       "1  {'from': 100000, 'to': None, 'currency': 'RUR'...   \n",
       "2  {'from': 60000, 'to': None, 'currency': 'RUR',...   \n",
       "3  {'from': 60000, 'to': 90000, 'currency': 'RUR'...   \n",
       "4  {'from': 65000, 'to': 70000, 'currency': 'RUR'...   \n",
       "\n",
       "                                 type  ... has_test                test  \\\n",
       "0  {'id': 'open', 'name': 'Открытая'}  ...    False                None   \n",
       "1  {'id': 'open', 'name': 'Открытая'}  ...    False                None   \n",
       "2  {'id': 'open', 'name': 'Открытая'}  ...    False                None   \n",
       "3  {'id': 'open', 'name': 'Открытая'}  ...     True  {'required': True}   \n",
       "4  {'id': 'open', 'name': 'Открытая'}  ...    False                None   \n",
       "\n",
       "                    alternate_url working_days working_time_intervals  \\\n",
       "0  https://hh.ru/vacancy/69360960           []                     []   \n",
       "1  https://hh.ru/vacancy/69982142           []                     []   \n",
       "2  https://hh.ru/vacancy/70167798           []                     []   \n",
       "3  https://hh.ru/vacancy/69647954           []                     []   \n",
       "4  https://hh.ru/vacancy/70049715           []                     []   \n",
       "\n",
       "  working_time_modes  accept_temporary  \\\n",
       "0                 []             False   \n",
       "1                 []             False   \n",
       "2                 []              True   \n",
       "3                 []             False   \n",
       "4                 []             False   \n",
       "\n",
       "                                           languages errors request_id  \n",
       "0  [{'id': 'eng', 'name': 'Английский', 'level': ...    NaN        NaN  \n",
       "1                                                 []    NaN        NaN  \n",
       "2                                                 []    NaN        NaN  \n",
       "3                                                 []    NaN        NaN  \n",
       "4                                                 []    NaN        NaN  \n",
       "\n",
       "[5 rows x 49 columns]"
      ]
     },
     "execution_count": 95,
     "metadata": {},
     "output_type": "execute_result"
    }
   ],
   "source": [
    "additional.head()"
   ]
  },
  {
   "cell_type": "code",
   "execution_count": 96,
   "metadata": {
    "scrolled": true
   },
   "outputs": [
    {
     "name": "stdout",
     "output_type": "stream",
     "text": [
      "<class 'pandas.core.frame.DataFrame'>\n",
      "RangeIndex: 16421 entries, 0 to 16420\n",
      "Data columns (total 49 columns):\n",
      " #   Column                        Non-Null Count  Dtype  \n",
      "---  ------                        --------------  -----  \n",
      " 0   id                            4002 non-null   object \n",
      " 1   premium                       4002 non-null   object \n",
      " 2   billing_type                  4002 non-null   object \n",
      " 3   relations                     4002 non-null   object \n",
      " 4   name                          4002 non-null   object \n",
      " 5   insider_interview             58 non-null     object \n",
      " 6   response_letter_required      4002 non-null   object \n",
      " 7   area                          4002 non-null   object \n",
      " 8   salary                        1481 non-null   object \n",
      " 9   type                          4002 non-null   object \n",
      " 10  address                       2403 non-null   object \n",
      " 11  allow_messages                4002 non-null   object \n",
      " 12  experience                    4002 non-null   object \n",
      " 13  schedule                      4002 non-null   object \n",
      " 14  employment                    4002 non-null   object \n",
      " 15  department                    570 non-null    object \n",
      " 16  contacts                      0 non-null      float64\n",
      " 17  description                   4002 non-null   object \n",
      " 18  branded_description           1461 non-null   object \n",
      " 19  vacancy_constructor_template  25 non-null     object \n",
      " 20  key_skills                    4002 non-null   object \n",
      " 21  accept_handicapped            4002 non-null   object \n",
      " 22  accept_kids                   4002 non-null   object \n",
      " 23  archived                      4002 non-null   object \n",
      " 24  response_url                  0 non-null      float64\n",
      " 25  specializations               4002 non-null   object \n",
      " 26  professional_roles            4002 non-null   object \n",
      " 27  code                          25 non-null     object \n",
      " 28  hidden                        4002 non-null   object \n",
      " 29  quick_responses_allowed       4002 non-null   object \n",
      " 30  driver_license_types          4002 non-null   object \n",
      " 31  accept_incomplete_resumes     4002 non-null   object \n",
      " 32  employer                      4002 non-null   object \n",
      " 33  published_at                  4002 non-null   object \n",
      " 34  created_at                    4002 non-null   object \n",
      " 35  initial_created_at            4002 non-null   object \n",
      " 36  negotiations_url              0 non-null      float64\n",
      " 37  suitable_resumes_url          0 non-null      float64\n",
      " 38  apply_alternate_url           4002 non-null   object \n",
      " 39  has_test                      4002 non-null   object \n",
      " 40  test                          116 non-null    object \n",
      " 41  alternate_url                 4002 non-null   object \n",
      " 42  working_days                  4002 non-null   object \n",
      " 43  working_time_intervals        4002 non-null   object \n",
      " 44  working_time_modes            4002 non-null   object \n",
      " 45  accept_temporary              4002 non-null   object \n",
      " 46  languages                     4002 non-null   object \n",
      " 47  errors                        12419 non-null  object \n",
      " 48  request_id                    12419 non-null  object \n",
      "dtypes: float64(4), object(45)\n",
      "memory usage: 6.1+ MB\n"
     ]
    }
   ],
   "source": [
    "additional.info()"
   ]
  },
  {
   "cell_type": "code",
   "execution_count": 97,
   "metadata": {},
   "outputs": [
    {
     "data": {
      "text/html": [
       "<div>\n",
       "<style scoped>\n",
       "    .dataframe tbody tr th:only-of-type {\n",
       "        vertical-align: middle;\n",
       "    }\n",
       "\n",
       "    .dataframe tbody tr th {\n",
       "        vertical-align: top;\n",
       "    }\n",
       "\n",
       "    .dataframe thead th {\n",
       "        text-align: right;\n",
       "    }\n",
       "</style>\n",
       "<table border=\"1\" class=\"dataframe\">\n",
       "  <thead>\n",
       "    <tr style=\"text-align: right;\">\n",
       "      <th></th>\n",
       "      <th>id</th>\n",
       "      <th>name</th>\n",
       "      <th>area</th>\n",
       "      <th>salary</th>\n",
       "      <th>published_at</th>\n",
       "      <th>employer</th>\n",
       "      <th>schedule</th>\n",
       "    </tr>\n",
       "  </thead>\n",
       "  <tbody>\n",
       "    <tr>\n",
       "      <th>0</th>\n",
       "      <td>70029179</td>\n",
       "      <td>Бизнес аналитик/Data аналитик</td>\n",
       "      <td>{'id': '1', 'name': 'Москва', 'url': 'https://...</td>\n",
       "      <td>{'from': 150000, 'to': 170000, 'currency': 'RU...</td>\n",
       "      <td>2022-09-26T13:23:36+0300</td>\n",
       "      <td>{'id': '1424', 'name': 'Odgers Berndtson', 'ur...</td>\n",
       "      <td>{'id': 'fullDay', 'name': 'Полный день'}</td>\n",
       "    </tr>\n",
       "    <tr>\n",
       "      <th>1</th>\n",
       "      <td>69360960</td>\n",
       "      <td>Аналитик данных / Data Analyst (управленческая...</td>\n",
       "      <td>{'id': '1', 'name': 'Москва', 'url': 'https://...</td>\n",
       "      <td>{'from': 150000, 'to': 300000, 'currency': 'RU...</td>\n",
       "      <td>2022-09-25T08:27:37+0300</td>\n",
       "      <td>{'id': '2464267', 'name': 'Carely', 'url': 'ht...</td>\n",
       "      <td>{'id': 'remote', 'name': 'Удаленная работа'}</td>\n",
       "    </tr>\n",
       "    <tr>\n",
       "      <th>2</th>\n",
       "      <td>70165043</td>\n",
       "      <td>Аналитик</td>\n",
       "      <td>{'id': '1', 'name': 'Москва', 'url': 'https://...</td>\n",
       "      <td>{'from': 100000, 'to': 150000, 'currency': 'RU...</td>\n",
       "      <td>2022-09-25T15:15:54+0300</td>\n",
       "      <td>{'id': '5021275', 'name': 'НЬЮЭРАМЕДИА', 'url'...</td>\n",
       "      <td>{'id': 'fullDay', 'name': 'Полный день'}</td>\n",
       "    </tr>\n",
       "    <tr>\n",
       "      <th>3</th>\n",
       "      <td>69982142</td>\n",
       "      <td>Аналитик по отчетности</td>\n",
       "      <td>{'id': '88', 'name': 'Казань', 'url': 'https:/...</td>\n",
       "      <td>{'from': 100000, 'to': None, 'currency': 'RUR'...</td>\n",
       "      <td>2022-09-25T16:13:57+0300</td>\n",
       "      <td>{'id': '1191643', 'name': 'IDF Eurasia', 'url'...</td>\n",
       "      <td>{'id': 'fullDay', 'name': 'Полный день'}</td>\n",
       "    </tr>\n",
       "    <tr>\n",
       "      <th>4</th>\n",
       "      <td>70049715</td>\n",
       "      <td>Аналитик данных (SQL)</td>\n",
       "      <td>{'id': '53', 'name': 'Краснодар', 'url': 'http...</td>\n",
       "      <td>{'from': 70000, 'to': None, 'currency': 'RUR',...</td>\n",
       "      <td>2022-09-26T17:30:52+0300</td>\n",
       "      <td>{'id': '2813915', 'name': 'ПРОФИТКЛИКС', 'url'...</td>\n",
       "      <td>{'id': 'fullDay', 'name': 'Полный день'}</td>\n",
       "    </tr>\n",
       "  </tbody>\n",
       "</table>\n",
       "</div>"
      ],
      "text/plain": [
       "         id                                               name  \\\n",
       "0  70029179                      Бизнес аналитик/Data аналитик   \n",
       "1  69360960  Аналитик данных / Data Analyst (управленческая...   \n",
       "2  70165043                                           Аналитик   \n",
       "3  69982142                             Аналитик по отчетности   \n",
       "4  70049715                              Аналитик данных (SQL)   \n",
       "\n",
       "                                                area  \\\n",
       "0  {'id': '1', 'name': 'Москва', 'url': 'https://...   \n",
       "1  {'id': '1', 'name': 'Москва', 'url': 'https://...   \n",
       "2  {'id': '1', 'name': 'Москва', 'url': 'https://...   \n",
       "3  {'id': '88', 'name': 'Казань', 'url': 'https:/...   \n",
       "4  {'id': '53', 'name': 'Краснодар', 'url': 'http...   \n",
       "\n",
       "                                              salary  \\\n",
       "0  {'from': 150000, 'to': 170000, 'currency': 'RU...   \n",
       "1  {'from': 150000, 'to': 300000, 'currency': 'RU...   \n",
       "2  {'from': 100000, 'to': 150000, 'currency': 'RU...   \n",
       "3  {'from': 100000, 'to': None, 'currency': 'RUR'...   \n",
       "4  {'from': 70000, 'to': None, 'currency': 'RUR',...   \n",
       "\n",
       "               published_at  \\\n",
       "0  2022-09-26T13:23:36+0300   \n",
       "1  2022-09-25T08:27:37+0300   \n",
       "2  2022-09-25T15:15:54+0300   \n",
       "3  2022-09-25T16:13:57+0300   \n",
       "4  2022-09-26T17:30:52+0300   \n",
       "\n",
       "                                            employer  \\\n",
       "0  {'id': '1424', 'name': 'Odgers Berndtson', 'ur...   \n",
       "1  {'id': '2464267', 'name': 'Carely', 'url': 'ht...   \n",
       "2  {'id': '5021275', 'name': 'НЬЮЭРАМЕДИА', 'url'...   \n",
       "3  {'id': '1191643', 'name': 'IDF Eurasia', 'url'...   \n",
       "4  {'id': '2813915', 'name': 'ПРОФИТКЛИКС', 'url'...   \n",
       "\n",
       "                                       schedule  \n",
       "0      {'id': 'fullDay', 'name': 'Полный день'}  \n",
       "1  {'id': 'remote', 'name': 'Удаленная работа'}  \n",
       "2      {'id': 'fullDay', 'name': 'Полный день'}  \n",
       "3      {'id': 'fullDay', 'name': 'Полный день'}  \n",
       "4      {'id': 'fullDay', 'name': 'Полный день'}  "
      ]
     },
     "execution_count": 97,
     "metadata": {},
     "output_type": "execute_result"
    }
   ],
   "source": [
    "target_df.head()"
   ]
  },
  {
   "cell_type": "code",
   "execution_count": 98,
   "metadata": {},
   "outputs": [
    {
     "name": "stderr",
     "output_type": "stream",
     "text": [
      "C:\\ProgramData\\Anaconda3\\lib\\site-packages\\pandas\\core\\indexing.py:1684: SettingWithCopyWarning: \n",
      "A value is trying to be set on a copy of a slice from a DataFrame.\n",
      "Try using .loc[row_indexer,col_indexer] = value instead\n",
      "\n",
      "See the caveats in the documentation: https://pandas.pydata.org/pandas-docs/stable/user_guide/indexing.html#returning-a-view-versus-a-copy\n",
      "  self.obj[key] = infer_fill_value(value)\n",
      "C:\\ProgramData\\Anaconda3\\lib\\site-packages\\pandas\\core\\indexing.py:1817: SettingWithCopyWarning: \n",
      "A value is trying to be set on a copy of a slice from a DataFrame.\n",
      "Try using .loc[row_indexer,col_indexer] = value instead\n",
      "\n",
      "See the caveats in the documentation: https://pandas.pydata.org/pandas-docs/stable/user_guide/indexing.html#returning-a-view-versus-a-copy\n",
      "  self._setitem_single_column(loc, value, pi)\n"
     ]
    }
   ],
   "source": [
    "# заполняем уровни опыта\n",
    "target_df.loc[target_df['name'].str.contains('Senior'), 'level_exp'] = 'Senior'\n",
    "target_df.loc[target_df['name'].str.contains('Junior'), 'level_exp'] = 'Junior'\n",
    "target_df.loc[target_df['name'].str.contains('Младший'), 'level_exp'] = 'Junior'\n",
    "target_df.loc[target_df['name'].str.contains('Ведущий'), 'level_exp'] = 'Middle'\n",
    "target_df.loc[target_df['name'].str.contains('Middle'), 'level_exp'] = 'Middle'\n",
    "target_df.loc[target_df['name'].str.contains('Chief'), 'level_exp'] = 'Head'\n",
    "target_df.loc[target_df['name'].str.contains('Head'), 'level_exp'] = 'Head'\n"
   ]
  },
  {
   "cell_type": "code",
   "execution_count": 99,
   "metadata": {
    "scrolled": true
   },
   "outputs": [
    {
     "name": "stderr",
     "output_type": "stream",
     "text": [
      "C:\\ProgramData\\Anaconda3\\lib\\site-packages\\pandas\\core\\indexing.py:1773: SettingWithCopyWarning: \n",
      "A value is trying to be set on a copy of a slice from a DataFrame.\n",
      "Try using .loc[row_indexer,col_indexer] = value instead\n",
      "\n",
      "See the caveats in the documentation: https://pandas.pydata.org/pandas-docs/stable/user_guide/indexing.html#returning-a-view-versus-a-copy\n",
      "  self._setitem_single_column(ilocs[0], value, pi)\n"
     ]
    }
   ],
   "source": [
    "# преобразуем словари\n",
    "target_df.loc[:,'area'] = target_df['area'].apply(get_name)\n",
    "target_df.loc[:,'employer'] = target_df['employer'].apply(get_name)\n",
    "target_df.loc[:,'schedule'] = target_df['schedule'].apply(get_name)"
   ]
  },
  {
   "cell_type": "code",
   "execution_count": 100,
   "metadata": {
    "scrolled": true
   },
   "outputs": [
    {
     "data": {
      "text/html": [
       "<div>\n",
       "<style scoped>\n",
       "    .dataframe tbody tr th:only-of-type {\n",
       "        vertical-align: middle;\n",
       "    }\n",
       "\n",
       "    .dataframe tbody tr th {\n",
       "        vertical-align: top;\n",
       "    }\n",
       "\n",
       "    .dataframe thead th {\n",
       "        text-align: right;\n",
       "    }\n",
       "</style>\n",
       "<table border=\"1\" class=\"dataframe\">\n",
       "  <thead>\n",
       "    <tr style=\"text-align: right;\">\n",
       "      <th></th>\n",
       "      <th>id</th>\n",
       "      <th>name</th>\n",
       "      <th>area</th>\n",
       "      <th>salary</th>\n",
       "      <th>published_at</th>\n",
       "      <th>employer</th>\n",
       "      <th>schedule</th>\n",
       "      <th>level_exp</th>\n",
       "    </tr>\n",
       "  </thead>\n",
       "  <tbody>\n",
       "    <tr>\n",
       "      <th>0</th>\n",
       "      <td>70029179</td>\n",
       "      <td>Бизнес аналитик/Data аналитик</td>\n",
       "      <td>Москва</td>\n",
       "      <td>{'from': 150000, 'to': 170000, 'currency': 'RU...</td>\n",
       "      <td>2022-09-26T13:23:36+0300</td>\n",
       "      <td>Odgers Berndtson</td>\n",
       "      <td>Полный день</td>\n",
       "      <td>NaN</td>\n",
       "    </tr>\n",
       "    <tr>\n",
       "      <th>1</th>\n",
       "      <td>69360960</td>\n",
       "      <td>Аналитик данных / Data Analyst (управленческая...</td>\n",
       "      <td>Москва</td>\n",
       "      <td>{'from': 150000, 'to': 300000, 'currency': 'RU...</td>\n",
       "      <td>2022-09-25T08:27:37+0300</td>\n",
       "      <td>Carely</td>\n",
       "      <td>Удаленная работа</td>\n",
       "      <td>NaN</td>\n",
       "    </tr>\n",
       "    <tr>\n",
       "      <th>2</th>\n",
       "      <td>70165043</td>\n",
       "      <td>Аналитик</td>\n",
       "      <td>Москва</td>\n",
       "      <td>{'from': 100000, 'to': 150000, 'currency': 'RU...</td>\n",
       "      <td>2022-09-25T15:15:54+0300</td>\n",
       "      <td>НЬЮЭРАМЕДИА</td>\n",
       "      <td>Полный день</td>\n",
       "      <td>NaN</td>\n",
       "    </tr>\n",
       "    <tr>\n",
       "      <th>3</th>\n",
       "      <td>69982142</td>\n",
       "      <td>Аналитик по отчетности</td>\n",
       "      <td>Казань</td>\n",
       "      <td>{'from': 100000, 'to': None, 'currency': 'RUR'...</td>\n",
       "      <td>2022-09-25T16:13:57+0300</td>\n",
       "      <td>IDF Eurasia</td>\n",
       "      <td>Полный день</td>\n",
       "      <td>NaN</td>\n",
       "    </tr>\n",
       "    <tr>\n",
       "      <th>4</th>\n",
       "      <td>70049715</td>\n",
       "      <td>Аналитик данных (SQL)</td>\n",
       "      <td>Краснодар</td>\n",
       "      <td>{'from': 70000, 'to': None, 'currency': 'RUR',...</td>\n",
       "      <td>2022-09-26T17:30:52+0300</td>\n",
       "      <td>ПРОФИТКЛИКС</td>\n",
       "      <td>Полный день</td>\n",
       "      <td>NaN</td>\n",
       "    </tr>\n",
       "  </tbody>\n",
       "</table>\n",
       "</div>"
      ],
      "text/plain": [
       "         id                                               name       area  \\\n",
       "0  70029179                      Бизнес аналитик/Data аналитик     Москва   \n",
       "1  69360960  Аналитик данных / Data Analyst (управленческая...     Москва   \n",
       "2  70165043                                           Аналитик     Москва   \n",
       "3  69982142                             Аналитик по отчетности     Казань   \n",
       "4  70049715                              Аналитик данных (SQL)  Краснодар   \n",
       "\n",
       "                                              salary  \\\n",
       "0  {'from': 150000, 'to': 170000, 'currency': 'RU...   \n",
       "1  {'from': 150000, 'to': 300000, 'currency': 'RU...   \n",
       "2  {'from': 100000, 'to': 150000, 'currency': 'RU...   \n",
       "3  {'from': 100000, 'to': None, 'currency': 'RUR'...   \n",
       "4  {'from': 70000, 'to': None, 'currency': 'RUR',...   \n",
       "\n",
       "               published_at          employer          schedule level_exp  \n",
       "0  2022-09-26T13:23:36+0300  Odgers Berndtson       Полный день       NaN  \n",
       "1  2022-09-25T08:27:37+0300            Carely  Удаленная работа       NaN  \n",
       "2  2022-09-25T15:15:54+0300       НЬЮЭРАМЕДИА       Полный день       NaN  \n",
       "3  2022-09-25T16:13:57+0300       IDF Eurasia       Полный день       NaN  \n",
       "4  2022-09-26T17:30:52+0300       ПРОФИТКЛИКС       Полный день       NaN  "
      ]
     },
     "execution_count": 100,
     "metadata": {},
     "output_type": "execute_result"
    }
   ],
   "source": [
    "# Промежуточный результат преобразований\n",
    "target_df.head()"
   ]
  },
  {
   "cell_type": "code",
   "execution_count": 172,
   "metadata": {
    "scrolled": false
   },
   "outputs": [
    {
     "data": {
      "image/png": "[encoded data removed]",
      "text/plain": [
       "<Figure size 432x288 with 1 Axes>"
      ]
     },
     "metadata": {
      "needs_background": "light"
     },
     "output_type": "display_data"
    }
   ],
   "source": [
    "# выведем наибольший спрос от работодателей\n",
    "\n",
    "#target_df.groupby('employer')['id'].count()\n",
    "s = target_df.groupby('employer').size()\n",
    "vac_by_empl = s[s.values>10].sort_values()\n",
    "emp = vac_by_empl.index\n",
    "val = vac_by_empl.values\n",
    "plt.barh(emp,val)\n",
    "\n",
    "plt.xlabel = 'Работодатели'\n",
    "plt.ylabel = 'Вакансии'\n",
    "plt.title('Количество вакансий от работодателей')\n",
    "plt.show()"
   ]
  },
  {
   "cell_type": "code",
   "execution_count": 103,
   "metadata": {},
   "outputs": [],
   "source": [
    "add_without_exp = additional[~additional['experience'].isnull()]"
   ]
  },
  {
   "cell_type": "code",
   "execution_count": 104,
   "metadata": {},
   "outputs": [
    {
     "name": "stderr",
     "output_type": "stream",
     "text": [
      "C:\\Users\\vg207\\AppData\\Local\\Temp/ipykernel_14936/3073032027.py:3: SettingWithCopyWarning: \n",
      "A value is trying to be set on a copy of a slice from a DataFrame.\n",
      "Try using .loc[row_indexer,col_indexer] = value instead\n",
      "\n",
      "See the caveats in the documentation: https://pandas.pydata.org/pandas-docs/stable/user_guide/indexing.html#returning-a-view-versus-a-copy\n",
      "  add_info['exb_by_year'] = add_info['experience'].apply(get_name)\n",
      "C:\\ProgramData\\Anaconda3\\lib\\site-packages\\pandas\\core\\indexing.py:1773: SettingWithCopyWarning: \n",
      "A value is trying to be set on a copy of a slice from a DataFrame.\n",
      "Try using .loc[row_indexer,col_indexer] = value instead\n",
      "\n",
      "See the caveats in the documentation: https://pandas.pydata.org/pandas-docs/stable/user_guide/indexing.html#returning-a-view-versus-a-copy\n",
      "  self._setitem_single_column(ilocs[0], value, pi)\n"
     ]
    }
   ],
   "source": [
    "# попытка заполнить недостающие данные\n",
    "add_info = add_without_exp[['id', 'experience','key_skills']]\n",
    "add_info['exb_by_year'] = add_info['experience'].apply(get_name)\n",
    "add_info.loc[:,'experience'] = add_info['experience'].apply(get_name)\n",
    "#add_info.drop('experience', axis=1, inplace=True)"
   ]
  },
  {
   "cell_type": "code",
   "execution_count": 106,
   "metadata": {},
   "outputs": [],
   "source": [
    "emp_map = {'Нет опыта':'Junior', 'От 1 года до 3 лет':'Middle', 'От 3 до 6 лет':'Senior', 'Более 6 лет': 'Senior'}\n",
    "add_info.loc[:,'exb_by_year'] = add_info['exb_by_year'].map(emp_map)"
   ]
  },
  {
   "cell_type": "code",
   "execution_count": 107,
   "metadata": {},
   "outputs": [],
   "source": [
    "target_df_full = pd.merge(target_df, add_info, on='id', how='left')   "
   ]
  },
  {
   "cell_type": "code",
   "execution_count": 108,
   "metadata": {},
   "outputs": [
    {
     "data": {
      "text/html": [
       "<div>\n",
       "<style scoped>\n",
       "    .dataframe tbody tr th:only-of-type {\n",
       "        vertical-align: middle;\n",
       "    }\n",
       "\n",
       "    .dataframe tbody tr th {\n",
       "        vertical-align: top;\n",
       "    }\n",
       "\n",
       "    .dataframe thead th {\n",
       "        text-align: right;\n",
       "    }\n",
       "</style>\n",
       "<table border=\"1\" class=\"dataframe\">\n",
       "  <thead>\n",
       "    <tr style=\"text-align: right;\">\n",
       "      <th></th>\n",
       "      <th>id</th>\n",
       "      <th>name</th>\n",
       "      <th>area</th>\n",
       "      <th>salary</th>\n",
       "      <th>published_at</th>\n",
       "      <th>employer</th>\n",
       "      <th>schedule</th>\n",
       "      <th>level_exp</th>\n",
       "      <th>experience</th>\n",
       "      <th>key_skills</th>\n",
       "      <th>exb_by_year</th>\n",
       "    </tr>\n",
       "  </thead>\n",
       "  <tbody>\n",
       "    <tr>\n",
       "      <th>0</th>\n",
       "      <td>70029179</td>\n",
       "      <td>Бизнес аналитик/Data аналитик</td>\n",
       "      <td>Москва</td>\n",
       "      <td>{'from': 150000, 'to': 170000, 'currency': 'RU...</td>\n",
       "      <td>2022-09-26T13:23:36+0300</td>\n",
       "      <td>Odgers Berndtson</td>\n",
       "      <td>Полный день</td>\n",
       "      <td>NaN</td>\n",
       "      <td>Нет опыта</td>\n",
       "      <td>[{'name': 'Tableau'}, {'name': 'SQL'}, {'name'...</td>\n",
       "      <td>NaN</td>\n",
       "    </tr>\n",
       "    <tr>\n",
       "      <th>1</th>\n",
       "      <td>70029179</td>\n",
       "      <td>Бизнес аналитик/Data аналитик</td>\n",
       "      <td>Москва</td>\n",
       "      <td>{'from': 150000, 'to': 170000, 'currency': 'RU...</td>\n",
       "      <td>2022-09-26T13:23:36+0300</td>\n",
       "      <td>Odgers Berndtson</td>\n",
       "      <td>Полный день</td>\n",
       "      <td>NaN</td>\n",
       "      <td>Нет опыта</td>\n",
       "      <td>[{'name': 'Tableau'}, {'name': 'SQL'}, {'name'...</td>\n",
       "      <td>NaN</td>\n",
       "    </tr>\n",
       "    <tr>\n",
       "      <th>2</th>\n",
       "      <td>69360960</td>\n",
       "      <td>Аналитик данных / Data Analyst (управленческая...</td>\n",
       "      <td>Москва</td>\n",
       "      <td>{'from': 150000, 'to': 300000, 'currency': 'RU...</td>\n",
       "      <td>2022-09-25T08:27:37+0300</td>\n",
       "      <td>Carely</td>\n",
       "      <td>Удаленная работа</td>\n",
       "      <td>NaN</td>\n",
       "      <td>От 3 до 6 лет</td>\n",
       "      <td>[{'name': 'SQL'}, {'name': 'Python'}, {'name':...</td>\n",
       "      <td>NaN</td>\n",
       "    </tr>\n",
       "    <tr>\n",
       "      <th>3</th>\n",
       "      <td>69360960</td>\n",
       "      <td>Аналитик данных / Data Analyst (управленческая...</td>\n",
       "      <td>Москва</td>\n",
       "      <td>{'from': 150000, 'to': 300000, 'currency': 'RU...</td>\n",
       "      <td>2022-09-25T08:27:37+0300</td>\n",
       "      <td>Carely</td>\n",
       "      <td>Удаленная работа</td>\n",
       "      <td>NaN</td>\n",
       "      <td>От 3 до 6 лет</td>\n",
       "      <td>[{'name': 'SQL'}, {'name': 'Python'}, {'name':...</td>\n",
       "      <td>NaN</td>\n",
       "    </tr>\n",
       "    <tr>\n",
       "      <th>4</th>\n",
       "      <td>69360960</td>\n",
       "      <td>Аналитик данных / Data Analyst (управленческая...</td>\n",
       "      <td>Москва</td>\n",
       "      <td>{'from': 150000, 'to': 300000, 'currency': 'RU...</td>\n",
       "      <td>2022-09-25T08:27:37+0300</td>\n",
       "      <td>Carely</td>\n",
       "      <td>Удаленная работа</td>\n",
       "      <td>NaN</td>\n",
       "      <td>От 3 до 6 лет</td>\n",
       "      <td>[{'name': 'SQL'}, {'name': 'Python'}, {'name':...</td>\n",
       "      <td>NaN</td>\n",
       "    </tr>\n",
       "  </tbody>\n",
       "</table>\n",
       "</div>"
      ],
      "text/plain": [
       "         id                                               name    area  \\\n",
       "0  70029179                      Бизнес аналитик/Data аналитик  Москва   \n",
       "1  70029179                      Бизнес аналитик/Data аналитик  Москва   \n",
       "2  69360960  Аналитик данных / Data Analyst (управленческая...  Москва   \n",
       "3  69360960  Аналитик данных / Data Analyst (управленческая...  Москва   \n",
       "4  69360960  Аналитик данных / Data Analyst (управленческая...  Москва   \n",
       "\n",
       "                                              salary  \\\n",
       "0  {'from': 150000, 'to': 170000, 'currency': 'RU...   \n",
       "1  {'from': 150000, 'to': 170000, 'currency': 'RU...   \n",
       "2  {'from': 150000, 'to': 300000, 'currency': 'RU...   \n",
       "3  {'from': 150000, 'to': 300000, 'currency': 'RU...   \n",
       "4  {'from': 150000, 'to': 300000, 'currency': 'RU...   \n",
       "\n",
       "               published_at          employer          schedule level_exp  \\\n",
       "0  2022-09-26T13:23:36+0300  Odgers Berndtson       Полный день       NaN   \n",
       "1  2022-09-26T13:23:36+0300  Odgers Berndtson       Полный день       NaN   \n",
       "2  2022-09-25T08:27:37+0300            Carely  Удаленная работа       NaN   \n",
       "3  2022-09-25T08:27:37+0300            Carely  Удаленная работа       NaN   \n",
       "4  2022-09-25T08:27:37+0300            Carely  Удаленная работа       NaN   \n",
       "\n",
       "      experience                                         key_skills  \\\n",
       "0      Нет опыта  [{'name': 'Tableau'}, {'name': 'SQL'}, {'name'...   \n",
       "1      Нет опыта  [{'name': 'Tableau'}, {'name': 'SQL'}, {'name'...   \n",
       "2  От 3 до 6 лет  [{'name': 'SQL'}, {'name': 'Python'}, {'name':...   \n",
       "3  От 3 до 6 лет  [{'name': 'SQL'}, {'name': 'Python'}, {'name':...   \n",
       "4  От 3 до 6 лет  [{'name': 'SQL'}, {'name': 'Python'}, {'name':...   \n",
       "\n",
       "  exb_by_year  \n",
       "0         NaN  \n",
       "1         NaN  \n",
       "2         NaN  \n",
       "3         NaN  \n",
       "4         NaN  "
      ]
     },
     "execution_count": 108,
     "metadata": {},
     "output_type": "execute_result"
    }
   ],
   "source": [
    "target_df_full.head()"
   ]
  },
  {
   "cell_type": "code",
   "execution_count": 109,
   "metadata": {},
   "outputs": [
    {
     "data": {
      "text/html": [
       "<div>\n",
       "<style scoped>\n",
       "    .dataframe tbody tr th:only-of-type {\n",
       "        vertical-align: middle;\n",
       "    }\n",
       "\n",
       "    .dataframe tbody tr th {\n",
       "        vertical-align: top;\n",
       "    }\n",
       "\n",
       "    .dataframe thead th {\n",
       "        text-align: right;\n",
       "    }\n",
       "</style>\n",
       "<table border=\"1\" class=\"dataframe\">\n",
       "  <thead>\n",
       "    <tr style=\"text-align: right;\">\n",
       "      <th></th>\n",
       "      <th>salary</th>\n",
       "    </tr>\n",
       "  </thead>\n",
       "  <tbody>\n",
       "    <tr>\n",
       "      <th>count</th>\n",
       "      <td>832</td>\n",
       "    </tr>\n",
       "    <tr>\n",
       "      <th>unique</th>\n",
       "      <td>262</td>\n",
       "    </tr>\n",
       "    <tr>\n",
       "      <th>top</th>\n",
       "      <td>{'from': 100000, 'to': None, 'currency': 'RUR'...</td>\n",
       "    </tr>\n",
       "    <tr>\n",
       "      <th>freq</th>\n",
       "      <td>36</td>\n",
       "    </tr>\n",
       "  </tbody>\n",
       "</table>\n",
       "</div>"
      ],
      "text/plain": [
       "                                                   salary\n",
       "count                                                 832\n",
       "unique                                                262\n",
       "top     {'from': 100000, 'to': None, 'currency': 'RUR'...\n",
       "freq                                                   36"
      ]
     },
     "execution_count": 109,
     "metadata": {},
     "output_type": "execute_result"
    }
   ],
   "source": [
    "target_df_full[['salary']].describe()"
   ]
  },
  {
   "cell_type": "code",
   "execution_count": 110,
   "metadata": {},
   "outputs": [
    {
     "data": {
      "image/png": "[encoded data removed]",
      "text/plain": [
       "<Figure size 432x288 with 1 Axes>"
      ]
     },
     "metadata": {},
     "output_type": "display_data"
    }
   ],
   "source": [
    "# соотношение вакансий с запрашиваемым уровнем опыта\n",
    "exp = target_df_full.groupby('experience').size()\n",
    "labels = exp.index\n",
    "sizes = exp.values\n",
    "fig, ax = plt.subplots()\n",
    "wedge_properties = {\"width\":0.9}\n",
    "ax.pie(sizes, labels=labels, autopct='%.1f%%', wedgeprops=wedge_properties, startangle=30, radius = 1.7)\n",
    "fig.suptitle('Соотношение вакансий с запрашиваемым уровнем опыта', x=0.55, y=1.1)\n",
    "plt.show()"
   ]
  },
  {
   "cell_type": "code",
   "execution_count": 111,
   "metadata": {},
   "outputs": [],
   "source": [
    "def get_curr(cell):\n",
    "    if cell is None:\n",
    "        return 'RUR'\n",
    "    else:\n",
    "        return cell['currency']"
   ]
  },
  {
   "cell_type": "code",
   "execution_count": 112,
   "metadata": {},
   "outputs": [],
   "source": [
    "def get_salary(cell):\n",
    "    EUR = 56.48\n",
    "    USD = 58.1\n",
    "    if cell is None:\n",
    "        return None\n",
    "    else:\n",
    "        from_sal = cell['from']\n",
    "        to_sal = cell['to']\n",
    "        if to_sal is None:\n",
    "            if get_curr(cell) == 'RUR':\n",
    "                salary = from_sal\n",
    "            elif get_curr(cell) == 'EUR':\n",
    "                salary = from_sal*EUR\n",
    "            elif get_curr(cell) == 'USD':\n",
    "                salary = from_sal*USD\n",
    "        else:\n",
    "            salary = to_sal\n",
    "            if get_curr(cell) == 'RUR':\n",
    "                salary = to_sal\n",
    "            elif get_curr(cell) == 'EUR':\n",
    "                salary = to_sal*EUR\n",
    "            elif get_curr(cell) == 'USD':\n",
    "                salary = to_sal*USD\n",
    "            \n",
    "        return salary\n",
    "\n",
    "def get_salary_from(cell):\n",
    "    EUR = 56.48\n",
    "    USD = 58.1\n",
    "    if cell is None:\n",
    "        return None\n",
    "    else:\n",
    "        from_sal = cell['from']\n",
    "        to_sal = cell['to']\n",
    "        if from_sal is None:\n",
    "            salary=0\n",
    "        else:\n",
    "            if get_curr(cell) == 'RUR':\n",
    "                salary = from_sal\n",
    "            elif get_curr(cell) == 'EUR':\n",
    "                salary = from_sal*EUR\n",
    "            elif get_curr(cell) == 'USD':\n",
    "                salary = from_sal*USD\n",
    "    return salary\n",
    "    \n",
    "    \n",
    "    "
   ]
  },
  {
   "cell_type": "code",
   "execution_count": 113,
   "metadata": {},
   "outputs": [
    {
     "data": {
      "text/plain": [
       "564.8"
      ]
     },
     "execution_count": 113,
     "metadata": {},
     "output_type": "execute_result"
    }
   ],
   "source": [
    "d = {'from': 10 , 'to': None, 'currency': 'EUR'}\n",
    "get_salary(d)\n",
    "#get_salary_from(d)"
   ]
  },
  {
   "cell_type": "code",
   "execution_count": 114,
   "metadata": {},
   "outputs": [],
   "source": [
    "salary_by_city = target_df_full[['area','salary']]"
   ]
  },
  {
   "cell_type": "code",
   "execution_count": 115,
   "metadata": {},
   "outputs": [
    {
     "name": "stdout",
     "output_type": "stream",
     "text": [
      "salary    1949\n",
      "dtype: int64\n"
     ]
    }
   ],
   "source": [
    "salary_is_null = salary_by_city[['salary']].isnull().sum()\n",
    "print(salary_is_null)\n",
    "d = salary_by_city['area'].count()\n",
    "n = salary_by_city['salary'].count()"
   ]
  },
  {
   "cell_type": "code",
   "execution_count": 116,
   "metadata": {},
   "outputs": [
    {
     "data": {
      "image/png": "[encoded data removed]",
      "text/plain": [
       "<Figure size 432x288 with 1 Axes>"
      ]
     },
     "metadata": {},
     "output_type": "display_data"
    }
   ],
   "source": [
    "labels = ['Указана з/п','Не указана з/п']\n",
    "sizes = [n, d-n]\n",
    "fig, ax = plt.subplots()\n",
    "wedge_properties = {\"width\":0.9}\n",
    "ax.pie(sizes, labels=labels, autopct='%.1f%%', wedgeprops=wedge_properties, startangle=30, radius = 1.7)\n",
    "fig.suptitle('Соотношение вакансий с указанной заработной платой', x=0.55, y=1.2)\n",
    "plt.show()"
   ]
  },
  {
   "cell_type": "code",
   "execution_count": 117,
   "metadata": {},
   "outputs": [],
   "source": [
    "target_df_full.loc[:,'salary_from'] = target_df_full['salary'].apply(get_salary_from)\n",
    "target_df_full.loc[:,'salary_to'] = target_df_full['salary'].apply(get_salary)\n",
    "target_df_full.loc[:,'currency'] = target_df_full['salary'].apply(get_curr)"
   ]
  },
  {
   "cell_type": "code",
   "execution_count": 118,
   "metadata": {},
   "outputs": [],
   "source": [
    "eur = 56.48\n",
    "usd = 58.1"
   ]
  },
  {
   "cell_type": "code",
   "execution_count": 119,
   "metadata": {
    "scrolled": true
   },
   "outputs": [
    {
     "data": {
      "text/plain": [
       "array(['RUR', 'USD', 'EUR'], dtype=object)"
      ]
     },
     "execution_count": 119,
     "metadata": {},
     "output_type": "execute_result"
    }
   ],
   "source": [
    "target_df_full['currency'].unique()"
   ]
  },
  {
   "cell_type": "code",
   "execution_count": 120,
   "metadata": {},
   "outputs": [],
   "source": [
    "#target_df_full.drop('salary', inplace=True, axis = 1)"
   ]
  },
  {
   "cell_type": "code",
   "execution_count": 121,
   "metadata": {
    "scrolled": true
   },
   "outputs": [
    {
     "data": {
      "text/html": [
       "<div>\n",
       "<style scoped>\n",
       "    .dataframe tbody tr th:only-of-type {\n",
       "        vertical-align: middle;\n",
       "    }\n",
       "\n",
       "    .dataframe tbody tr th {\n",
       "        vertical-align: top;\n",
       "    }\n",
       "\n",
       "    .dataframe thead th {\n",
       "        text-align: right;\n",
       "    }\n",
       "</style>\n",
       "<table border=\"1\" class=\"dataframe\">\n",
       "  <thead>\n",
       "    <tr style=\"text-align: right;\">\n",
       "      <th></th>\n",
       "      <th>id</th>\n",
       "      <th>name</th>\n",
       "      <th>area</th>\n",
       "      <th>salary</th>\n",
       "      <th>published_at</th>\n",
       "      <th>employer</th>\n",
       "      <th>schedule</th>\n",
       "      <th>level_exp</th>\n",
       "      <th>experience</th>\n",
       "      <th>key_skills</th>\n",
       "      <th>exb_by_year</th>\n",
       "      <th>salary_from</th>\n",
       "      <th>salary_to</th>\n",
       "      <th>currency</th>\n",
       "    </tr>\n",
       "  </thead>\n",
       "  <tbody>\n",
       "    <tr>\n",
       "      <th>0</th>\n",
       "      <td>70029179</td>\n",
       "      <td>Бизнес аналитик/Data аналитик</td>\n",
       "      <td>Москва</td>\n",
       "      <td>{'from': 150000, 'to': 170000, 'currency': 'RU...</td>\n",
       "      <td>2022-09-26T13:23:36+0300</td>\n",
       "      <td>Odgers Berndtson</td>\n",
       "      <td>Полный день</td>\n",
       "      <td>NaN</td>\n",
       "      <td>Нет опыта</td>\n",
       "      <td>[{'name': 'Tableau'}, {'name': 'SQL'}, {'name'...</td>\n",
       "      <td>NaN</td>\n",
       "      <td>150000.0</td>\n",
       "      <td>170000.0</td>\n",
       "      <td>RUR</td>\n",
       "    </tr>\n",
       "    <tr>\n",
       "      <th>1</th>\n",
       "      <td>70029179</td>\n",
       "      <td>Бизнес аналитик/Data аналитик</td>\n",
       "      <td>Москва</td>\n",
       "      <td>{'from': 150000, 'to': 170000, 'currency': 'RU...</td>\n",
       "      <td>2022-09-26T13:23:36+0300</td>\n",
       "      <td>Odgers Berndtson</td>\n",
       "      <td>Полный день</td>\n",
       "      <td>NaN</td>\n",
       "      <td>Нет опыта</td>\n",
       "      <td>[{'name': 'Tableau'}, {'name': 'SQL'}, {'name'...</td>\n",
       "      <td>NaN</td>\n",
       "      <td>150000.0</td>\n",
       "      <td>170000.0</td>\n",
       "      <td>RUR</td>\n",
       "    </tr>\n",
       "    <tr>\n",
       "      <th>2</th>\n",
       "      <td>69360960</td>\n",
       "      <td>Аналитик данных / Data Analyst (управленческая...</td>\n",
       "      <td>Москва</td>\n",
       "      <td>{'from': 150000, 'to': 300000, 'currency': 'RU...</td>\n",
       "      <td>2022-09-25T08:27:37+0300</td>\n",
       "      <td>Carely</td>\n",
       "      <td>Удаленная работа</td>\n",
       "      <td>NaN</td>\n",
       "      <td>От 3 до 6 лет</td>\n",
       "      <td>[{'name': 'SQL'}, {'name': 'Python'}, {'name':...</td>\n",
       "      <td>NaN</td>\n",
       "      <td>150000.0</td>\n",
       "      <td>300000.0</td>\n",
       "      <td>RUR</td>\n",
       "    </tr>\n",
       "    <tr>\n",
       "      <th>3</th>\n",
       "      <td>69360960</td>\n",
       "      <td>Аналитик данных / Data Analyst (управленческая...</td>\n",
       "      <td>Москва</td>\n",
       "      <td>{'from': 150000, 'to': 300000, 'currency': 'RU...</td>\n",
       "      <td>2022-09-25T08:27:37+0300</td>\n",
       "      <td>Carely</td>\n",
       "      <td>Удаленная работа</td>\n",
       "      <td>NaN</td>\n",
       "      <td>От 3 до 6 лет</td>\n",
       "      <td>[{'name': 'SQL'}, {'name': 'Python'}, {'name':...</td>\n",
       "      <td>NaN</td>\n",
       "      <td>150000.0</td>\n",
       "      <td>300000.0</td>\n",
       "      <td>RUR</td>\n",
       "    </tr>\n",
       "    <tr>\n",
       "      <th>4</th>\n",
       "      <td>69360960</td>\n",
       "      <td>Аналитик данных / Data Analyst (управленческая...</td>\n",
       "      <td>Москва</td>\n",
       "      <td>{'from': 150000, 'to': 300000, 'currency': 'RU...</td>\n",
       "      <td>2022-09-25T08:27:37+0300</td>\n",
       "      <td>Carely</td>\n",
       "      <td>Удаленная работа</td>\n",
       "      <td>NaN</td>\n",
       "      <td>От 3 до 6 лет</td>\n",
       "      <td>[{'name': 'SQL'}, {'name': 'Python'}, {'name':...</td>\n",
       "      <td>NaN</td>\n",
       "      <td>150000.0</td>\n",
       "      <td>300000.0</td>\n",
       "      <td>RUR</td>\n",
       "    </tr>\n",
       "    <tr>\n",
       "      <th>5</th>\n",
       "      <td>70165043</td>\n",
       "      <td>Аналитик</td>\n",
       "      <td>Москва</td>\n",
       "      <td>{'from': 100000, 'to': 150000, 'currency': 'RU...</td>\n",
       "      <td>2022-09-25T15:15:54+0300</td>\n",
       "      <td>НЬЮЭРАМЕДИА</td>\n",
       "      <td>Полный день</td>\n",
       "      <td>NaN</td>\n",
       "      <td>От 1 года до 3 лет</td>\n",
       "      <td>[{'name': 'SQL'}, {'name': 'Power BI'}, {'name...</td>\n",
       "      <td>NaN</td>\n",
       "      <td>100000.0</td>\n",
       "      <td>150000.0</td>\n",
       "      <td>RUR</td>\n",
       "    </tr>\n",
       "    <tr>\n",
       "      <th>6</th>\n",
       "      <td>70165043</td>\n",
       "      <td>Аналитик</td>\n",
       "      <td>Москва</td>\n",
       "      <td>{'from': 100000, 'to': 150000, 'currency': 'RU...</td>\n",
       "      <td>2022-09-25T15:15:54+0300</td>\n",
       "      <td>НЬЮЭРАМЕДИА</td>\n",
       "      <td>Полный день</td>\n",
       "      <td>NaN</td>\n",
       "      <td>От 1 года до 3 лет</td>\n",
       "      <td>[{'name': 'SQL'}, {'name': 'Power BI'}, {'name...</td>\n",
       "      <td>NaN</td>\n",
       "      <td>100000.0</td>\n",
       "      <td>150000.0</td>\n",
       "      <td>RUR</td>\n",
       "    </tr>\n",
       "    <tr>\n",
       "      <th>7</th>\n",
       "      <td>70165043</td>\n",
       "      <td>Аналитик</td>\n",
       "      <td>Москва</td>\n",
       "      <td>{'from': 100000, 'to': 150000, 'currency': 'RU...</td>\n",
       "      <td>2022-09-25T15:15:54+0300</td>\n",
       "      <td>НЬЮЭРАМЕДИА</td>\n",
       "      <td>Полный день</td>\n",
       "      <td>NaN</td>\n",
       "      <td>От 1 года до 3 лет</td>\n",
       "      <td>[{'name': 'SQL'}, {'name': 'Power BI'}, {'name...</td>\n",
       "      <td>NaN</td>\n",
       "      <td>100000.0</td>\n",
       "      <td>150000.0</td>\n",
       "      <td>RUR</td>\n",
       "    </tr>\n",
       "    <tr>\n",
       "      <th>8</th>\n",
       "      <td>69982142</td>\n",
       "      <td>Аналитик по отчетности</td>\n",
       "      <td>Казань</td>\n",
       "      <td>{'from': 100000, 'to': None, 'currency': 'RUR'...</td>\n",
       "      <td>2022-09-25T16:13:57+0300</td>\n",
       "      <td>IDF Eurasia</td>\n",
       "      <td>Полный день</td>\n",
       "      <td>NaN</td>\n",
       "      <td>От 1 года до 3 лет</td>\n",
       "      <td>[{'name': 'SQL'}, {'name': 'Работа с базами да...</td>\n",
       "      <td>NaN</td>\n",
       "      <td>100000.0</td>\n",
       "      <td>100000.0</td>\n",
       "      <td>RUR</td>\n",
       "    </tr>\n",
       "    <tr>\n",
       "      <th>9</th>\n",
       "      <td>69982142</td>\n",
       "      <td>Аналитик по отчетности</td>\n",
       "      <td>Казань</td>\n",
       "      <td>{'from': 100000, 'to': None, 'currency': 'RUR'...</td>\n",
       "      <td>2022-09-25T16:13:57+0300</td>\n",
       "      <td>IDF Eurasia</td>\n",
       "      <td>Полный день</td>\n",
       "      <td>NaN</td>\n",
       "      <td>От 1 года до 3 лет</td>\n",
       "      <td>[{'name': 'SQL'}, {'name': 'Работа с базами да...</td>\n",
       "      <td>NaN</td>\n",
       "      <td>100000.0</td>\n",
       "      <td>100000.0</td>\n",
       "      <td>RUR</td>\n",
       "    </tr>\n",
       "    <tr>\n",
       "      <th>10</th>\n",
       "      <td>69982142</td>\n",
       "      <td>Аналитик по отчетности</td>\n",
       "      <td>Казань</td>\n",
       "      <td>{'from': 100000, 'to': None, 'currency': 'RUR'...</td>\n",
       "      <td>2022-09-25T16:13:57+0300</td>\n",
       "      <td>IDF Eurasia</td>\n",
       "      <td>Полный день</td>\n",
       "      <td>NaN</td>\n",
       "      <td>От 1 года до 3 лет</td>\n",
       "      <td>[{'name': 'SQL'}, {'name': 'Работа с базами да...</td>\n",
       "      <td>NaN</td>\n",
       "      <td>100000.0</td>\n",
       "      <td>100000.0</td>\n",
       "      <td>RUR</td>\n",
       "    </tr>\n",
       "    <tr>\n",
       "      <th>11</th>\n",
       "      <td>70049715</td>\n",
       "      <td>Аналитик данных (SQL)</td>\n",
       "      <td>Краснодар</td>\n",
       "      <td>{'from': 70000, 'to': None, 'currency': 'RUR',...</td>\n",
       "      <td>2022-09-26T17:30:52+0300</td>\n",
       "      <td>ПРОФИТКЛИКС</td>\n",
       "      <td>Полный день</td>\n",
       "      <td>NaN</td>\n",
       "      <td>От 1 года до 3 лет</td>\n",
       "      <td>[{'name': 'SQL'}, {'name': 'Анализ данных'}, {...</td>\n",
       "      <td>NaN</td>\n",
       "      <td>70000.0</td>\n",
       "      <td>70000.0</td>\n",
       "      <td>RUR</td>\n",
       "    </tr>\n",
       "    <tr>\n",
       "      <th>12</th>\n",
       "      <td>70049715</td>\n",
       "      <td>Аналитик данных (SQL)</td>\n",
       "      <td>Краснодар</td>\n",
       "      <td>{'from': 70000, 'to': None, 'currency': 'RUR',...</td>\n",
       "      <td>2022-09-26T17:30:52+0300</td>\n",
       "      <td>ПРОФИТКЛИКС</td>\n",
       "      <td>Полный день</td>\n",
       "      <td>NaN</td>\n",
       "      <td>От 1 года до 3 лет</td>\n",
       "      <td>[{'name': 'SQL'}, {'name': 'Анализ данных'}, {...</td>\n",
       "      <td>NaN</td>\n",
       "      <td>70000.0</td>\n",
       "      <td>70000.0</td>\n",
       "      <td>RUR</td>\n",
       "    </tr>\n",
       "    <tr>\n",
       "      <th>13</th>\n",
       "      <td>69647954</td>\n",
       "      <td>Аналитик данных / Data Analyst</td>\n",
       "      <td>Москва</td>\n",
       "      <td>{'from': 60000, 'to': 90000, 'currency': 'RUR'...</td>\n",
       "      <td>2022-09-27T09:47:19+0300</td>\n",
       "      <td>Оптимакрос</td>\n",
       "      <td>Удаленная работа</td>\n",
       "      <td>NaN</td>\n",
       "      <td>От 1 года до 3 лет</td>\n",
       "      <td>[{'name': 'Python'}, {'name': 'SQL'}, {'name':...</td>\n",
       "      <td>NaN</td>\n",
       "      <td>60000.0</td>\n",
       "      <td>90000.0</td>\n",
       "      <td>RUR</td>\n",
       "    </tr>\n",
       "    <tr>\n",
       "      <th>14</th>\n",
       "      <td>69647954</td>\n",
       "      <td>Аналитик данных / Data Analyst</td>\n",
       "      <td>Москва</td>\n",
       "      <td>{'from': 60000, 'to': 90000, 'currency': 'RUR'...</td>\n",
       "      <td>2022-09-27T09:47:19+0300</td>\n",
       "      <td>Оптимакрос</td>\n",
       "      <td>Удаленная работа</td>\n",
       "      <td>NaN</td>\n",
       "      <td>От 1 года до 3 лет</td>\n",
       "      <td>[{'name': 'Python'}, {'name': 'SQL'}, {'name':...</td>\n",
       "      <td>NaN</td>\n",
       "      <td>60000.0</td>\n",
       "      <td>90000.0</td>\n",
       "      <td>RUR</td>\n",
       "    </tr>\n",
       "  </tbody>\n",
       "</table>\n",
       "</div>"
      ],
      "text/plain": [
       "          id                                               name       area  \\\n",
       "0   70029179                      Бизнес аналитик/Data аналитик     Москва   \n",
       "1   70029179                      Бизнес аналитик/Data аналитик     Москва   \n",
       "2   69360960  Аналитик данных / Data Analyst (управленческая...     Москва   \n",
       "3   69360960  Аналитик данных / Data Analyst (управленческая...     Москва   \n",
       "4   69360960  Аналитик данных / Data Analyst (управленческая...     Москва   \n",
       "5   70165043                                           Аналитик     Москва   \n",
       "6   70165043                                           Аналитик     Москва   \n",
       "7   70165043                                           Аналитик     Москва   \n",
       "8   69982142                             Аналитик по отчетности     Казань   \n",
       "9   69982142                             Аналитик по отчетности     Казань   \n",
       "10  69982142                             Аналитик по отчетности     Казань   \n",
       "11  70049715                              Аналитик данных (SQL)  Краснодар   \n",
       "12  70049715                              Аналитик данных (SQL)  Краснодар   \n",
       "13  69647954                     Аналитик данных / Data Analyst     Москва   \n",
       "14  69647954                     Аналитик данных / Data Analyst     Москва   \n",
       "\n",
       "                                               salary  \\\n",
       "0   {'from': 150000, 'to': 170000, 'currency': 'RU...   \n",
       "1   {'from': 150000, 'to': 170000, 'currency': 'RU...   \n",
       "2   {'from': 150000, 'to': 300000, 'currency': 'RU...   \n",
       "3   {'from': 150000, 'to': 300000, 'currency': 'RU...   \n",
       "4   {'from': 150000, 'to': 300000, 'currency': 'RU...   \n",
       "5   {'from': 100000, 'to': 150000, 'currency': 'RU...   \n",
       "6   {'from': 100000, 'to': 150000, 'currency': 'RU...   \n",
       "7   {'from': 100000, 'to': 150000, 'currency': 'RU...   \n",
       "8   {'from': 100000, 'to': None, 'currency': 'RUR'...   \n",
       "9   {'from': 100000, 'to': None, 'currency': 'RUR'...   \n",
       "10  {'from': 100000, 'to': None, 'currency': 'RUR'...   \n",
       "11  {'from': 70000, 'to': None, 'currency': 'RUR',...   \n",
       "12  {'from': 70000, 'to': None, 'currency': 'RUR',...   \n",
       "13  {'from': 60000, 'to': 90000, 'currency': 'RUR'...   \n",
       "14  {'from': 60000, 'to': 90000, 'currency': 'RUR'...   \n",
       "\n",
       "                published_at          employer          schedule level_exp  \\\n",
       "0   2022-09-26T13:23:36+0300  Odgers Berndtson       Полный день       NaN   \n",
       "1   2022-09-26T13:23:36+0300  Odgers Berndtson       Полный день       NaN   \n",
       "2   2022-09-25T08:27:37+0300            Carely  Удаленная работа       NaN   \n",
       "3   2022-09-25T08:27:37+0300            Carely  Удаленная работа       NaN   \n",
       "4   2022-09-25T08:27:37+0300            Carely  Удаленная работа       NaN   \n",
       "5   2022-09-25T15:15:54+0300       НЬЮЭРАМЕДИА       Полный день       NaN   \n",
       "6   2022-09-25T15:15:54+0300       НЬЮЭРАМЕДИА       Полный день       NaN   \n",
       "7   2022-09-25T15:15:54+0300       НЬЮЭРАМЕДИА       Полный день       NaN   \n",
       "8   2022-09-25T16:13:57+0300       IDF Eurasia       Полный день       NaN   \n",
       "9   2022-09-25T16:13:57+0300       IDF Eurasia       Полный день       NaN   \n",
       "10  2022-09-25T16:13:57+0300       IDF Eurasia       Полный день       NaN   \n",
       "11  2022-09-26T17:30:52+0300       ПРОФИТКЛИКС       Полный день       NaN   \n",
       "12  2022-09-26T17:30:52+0300       ПРОФИТКЛИКС       Полный день       NaN   \n",
       "13  2022-09-27T09:47:19+0300        Оптимакрос  Удаленная работа       NaN   \n",
       "14  2022-09-27T09:47:19+0300        Оптимакрос  Удаленная работа       NaN   \n",
       "\n",
       "            experience                                         key_skills  \\\n",
       "0            Нет опыта  [{'name': 'Tableau'}, {'name': 'SQL'}, {'name'...   \n",
       "1            Нет опыта  [{'name': 'Tableau'}, {'name': 'SQL'}, {'name'...   \n",
       "2        От 3 до 6 лет  [{'name': 'SQL'}, {'name': 'Python'}, {'name':...   \n",
       "3        От 3 до 6 лет  [{'name': 'SQL'}, {'name': 'Python'}, {'name':...   \n",
       "4        От 3 до 6 лет  [{'name': 'SQL'}, {'name': 'Python'}, {'name':...   \n",
       "5   От 1 года до 3 лет  [{'name': 'SQL'}, {'name': 'Power BI'}, {'name...   \n",
       "6   От 1 года до 3 лет  [{'name': 'SQL'}, {'name': 'Power BI'}, {'name...   \n",
       "7   От 1 года до 3 лет  [{'name': 'SQL'}, {'name': 'Power BI'}, {'name...   \n",
       "8   От 1 года до 3 лет  [{'name': 'SQL'}, {'name': 'Работа с базами да...   \n",
       "9   От 1 года до 3 лет  [{'name': 'SQL'}, {'name': 'Работа с базами да...   \n",
       "10  От 1 года до 3 лет  [{'name': 'SQL'}, {'name': 'Работа с базами да...   \n",
       "11  От 1 года до 3 лет  [{'name': 'SQL'}, {'name': 'Анализ данных'}, {...   \n",
       "12  От 1 года до 3 лет  [{'name': 'SQL'}, {'name': 'Анализ данных'}, {...   \n",
       "13  От 1 года до 3 лет  [{'name': 'Python'}, {'name': 'SQL'}, {'name':...   \n",
       "14  От 1 года до 3 лет  [{'name': 'Python'}, {'name': 'SQL'}, {'name':...   \n",
       "\n",
       "   exb_by_year  salary_from  salary_to currency  \n",
       "0          NaN     150000.0   170000.0      RUR  \n",
       "1          NaN     150000.0   170000.0      RUR  \n",
       "2          NaN     150000.0   300000.0      RUR  \n",
       "3          NaN     150000.0   300000.0      RUR  \n",
       "4          NaN     150000.0   300000.0      RUR  \n",
       "5          NaN     100000.0   150000.0      RUR  \n",
       "6          NaN     100000.0   150000.0      RUR  \n",
       "7          NaN     100000.0   150000.0      RUR  \n",
       "8          NaN     100000.0   100000.0      RUR  \n",
       "9          NaN     100000.0   100000.0      RUR  \n",
       "10         NaN     100000.0   100000.0      RUR  \n",
       "11         NaN      70000.0    70000.0      RUR  \n",
       "12         NaN      70000.0    70000.0      RUR  \n",
       "13         NaN      60000.0    90000.0      RUR  \n",
       "14         NaN      60000.0    90000.0      RUR  "
      ]
     },
     "execution_count": 121,
     "metadata": {},
     "output_type": "execute_result"
    }
   ],
   "source": [
    "target_df_full.head(15)"
   ]
  },
  {
   "cell_type": "code",
   "execution_count": 122,
   "metadata": {},
   "outputs": [
    {
     "data": {
      "text/html": [
       "<div>\n",
       "<style scoped>\n",
       "    .dataframe tbody tr th:only-of-type {\n",
       "        vertical-align: middle;\n",
       "    }\n",
       "\n",
       "    .dataframe tbody tr th {\n",
       "        vertical-align: top;\n",
       "    }\n",
       "\n",
       "    .dataframe thead th {\n",
       "        text-align: right;\n",
       "    }\n",
       "</style>\n",
       "<table border=\"1\" class=\"dataframe\">\n",
       "  <thead>\n",
       "    <tr style=\"text-align: right;\">\n",
       "      <th></th>\n",
       "      <th>salary_from</th>\n",
       "      <th>salary_to</th>\n",
       "    </tr>\n",
       "  </thead>\n",
       "  <tbody>\n",
       "    <tr>\n",
       "      <th>count</th>\n",
       "      <td>832.000000</td>\n",
       "      <td>832.000000</td>\n",
       "    </tr>\n",
       "    <tr>\n",
       "      <th>mean</th>\n",
       "      <td>75187.140625</td>\n",
       "      <td>118048.882212</td>\n",
       "    </tr>\n",
       "    <tr>\n",
       "      <th>std</th>\n",
       "      <td>61639.278408</td>\n",
       "      <td>77193.728550</td>\n",
       "    </tr>\n",
       "    <tr>\n",
       "      <th>min</th>\n",
       "      <td>0.000000</td>\n",
       "      <td>10000.000000</td>\n",
       "    </tr>\n",
       "    <tr>\n",
       "      <th>25%</th>\n",
       "      <td>35000.000000</td>\n",
       "      <td>60000.000000</td>\n",
       "    </tr>\n",
       "    <tr>\n",
       "      <th>50%</th>\n",
       "      <td>70000.000000</td>\n",
       "      <td>100000.000000</td>\n",
       "    </tr>\n",
       "    <tr>\n",
       "      <th>75%</th>\n",
       "      <td>100000.000000</td>\n",
       "      <td>150000.000000</td>\n",
       "    </tr>\n",
       "    <tr>\n",
       "      <th>max</th>\n",
       "      <td>350000.000000</td>\n",
       "      <td>500000.000000</td>\n",
       "    </tr>\n",
       "  </tbody>\n",
       "</table>\n",
       "</div>"
      ],
      "text/plain": [
       "         salary_from      salary_to\n",
       "count     832.000000     832.000000\n",
       "mean    75187.140625  118048.882212\n",
       "std     61639.278408   77193.728550\n",
       "min         0.000000   10000.000000\n",
       "25%     35000.000000   60000.000000\n",
       "50%     70000.000000  100000.000000\n",
       "75%    100000.000000  150000.000000\n",
       "max    350000.000000  500000.000000"
      ]
     },
     "execution_count": 122,
     "metadata": {},
     "output_type": "execute_result"
    }
   ],
   "source": [
    "# круговая диаграмма с соотношением вакансий с зарплатами и без зарплаты\n",
    "#target_df_full[~target_df_full[['salary_from']].isnull()]\n",
    "target_df_full[['salary_from','salary_to']].describe()\n",
    "#target_df_full[(target_df_full['salary_from']==0) and (target_df_full['salary_to']==0)]"
   ]
  },
  {
   "cell_type": "code",
   "execution_count": 123,
   "metadata": {},
   "outputs": [
    {
     "data": {
      "text/plain": [
       "id              0.000000\n",
       "name            0.000000\n",
       "area            0.000000\n",
       "salary          0.700827\n",
       "published_at    0.000000\n",
       "employer        0.000000\n",
       "schedule        0.000000\n",
       "level_exp       0.901115\n",
       "experience      0.061129\n",
       "key_skills      0.061129\n",
       "exb_by_year     1.000000\n",
       "salary_from     0.700827\n",
       "salary_to       0.700827\n",
       "currency        0.000000\n",
       "dtype: float64"
      ]
     },
     "execution_count": 123,
     "metadata": {},
     "output_type": "execute_result"
    }
   ],
   "source": [
    "target_df_full.isna().mean()"
   ]
  },
  {
   "cell_type": "code",
   "execution_count": 124,
   "metadata": {},
   "outputs": [],
   "source": [
    "#sk = [{'name': 'Статистический анализ'}, {'name': 'fsdfd'}]"
   ]
  },
  {
   "cell_type": "code",
   "execution_count": 125,
   "metadata": {},
   "outputs": [],
   "source": [
    "\n",
    "def get_skills(cell):\n",
    "    d = []\n",
    "    for el in cell:\n",
    "#        print(el)\n",
    "#        print(el['name'])\n",
    "        d.append(el['name'])\n",
    "    return d\n",
    "        #d.append(cell.name[])"
   ]
  },
  {
   "cell_type": "code",
   "execution_count": 128,
   "metadata": {},
   "outputs": [],
   "source": [
    "vac_without_skill = target_df_full[~target_df_full['key_skills'].isnull()]"
   ]
  },
  {
   "cell_type": "code",
   "execution_count": 131,
   "metadata": {},
   "outputs": [
    {
     "data": {
      "text/plain": [
       "0       [Tableau, SQL, Power BI, Работа с базами данны...\n",
       "1       [Tableau, SQL, Power BI, Работа с базами данны...\n",
       "2       [SQL, Python, Tableau, Data Analysis, Power BI...\n",
       "3       [SQL, Python, Tableau, Data Analysis, Power BI...\n",
       "4       [SQL, Python, Tableau, Data Analysis, Power BI...\n",
       "                              ...                        \n",
       "2776    [Информационная безопасность, Аналитическое мы...\n",
       "2777    [MS PowerPoint, Бизнес-анализ, Анализ данных, ...\n",
       "2778    [MS PowerPoint, Бизнес-анализ, Анализ данных, ...\n",
       "2779    [Atlassian Jira, Atlassian Confluence, SQL, Ан...\n",
       "2780    [Atlassian Jira, Atlassian Confluence, SQL, Ан...\n",
       "Name: key_skills, Length: 2611, dtype: object"
      ]
     },
     "execution_count": 131,
     "metadata": {},
     "output_type": "execute_result"
    }
   ],
   "source": [
    "vac_without_skill['key_skills'].apply(get_skills)"
   ]
  },
  {
   "cell_type": "code",
   "execution_count": 132,
   "metadata": {
    "scrolled": true
   },
   "outputs": [],
   "source": [
    "#target_df_full['skills'] = \n",
    "target_df_full['skills'] = vac_without_skill['key_skills'].apply(get_skills)\n",
    "#target_df_full['key_skills'].apply(get_skills)"
   ]
  },
  {
   "cell_type": "code",
   "execution_count": 175,
   "metadata": {},
   "outputs": [
    {
     "data": {
      "text/html": [
       "<div>\n",
       "<style scoped>\n",
       "    .dataframe tbody tr th:only-of-type {\n",
       "        vertical-align: middle;\n",
       "    }\n",
       "\n",
       "    .dataframe tbody tr th {\n",
       "        vertical-align: top;\n",
       "    }\n",
       "\n",
       "    .dataframe thead th {\n",
       "        text-align: right;\n",
       "    }\n",
       "</style>\n",
       "<table border=\"1\" class=\"dataframe\">\n",
       "  <thead>\n",
       "    <tr style=\"text-align: right;\">\n",
       "      <th></th>\n",
       "      <th>id</th>\n",
       "      <th>name</th>\n",
       "      <th>area</th>\n",
       "      <th>salary</th>\n",
       "      <th>published_at</th>\n",
       "      <th>employer</th>\n",
       "      <th>schedule</th>\n",
       "      <th>level_exp</th>\n",
       "      <th>experience</th>\n",
       "      <th>key_skills</th>\n",
       "      <th>exb_by_year</th>\n",
       "      <th>salary_from</th>\n",
       "      <th>salary_to</th>\n",
       "      <th>currency</th>\n",
       "      <th>skills</th>\n",
       "    </tr>\n",
       "  </thead>\n",
       "  <tbody>\n",
       "    <tr>\n",
       "      <th>0</th>\n",
       "      <td>70029179</td>\n",
       "      <td>Бизнес аналитик/Data аналитик</td>\n",
       "      <td>Москва</td>\n",
       "      <td>{'from': 150000, 'to': 170000, 'currency': 'RU...</td>\n",
       "      <td>2022-09-26T13:23:36+0300</td>\n",
       "      <td>Odgers Berndtson</td>\n",
       "      <td>Полный день</td>\n",
       "      <td>NaN</td>\n",
       "      <td>Нет опыта</td>\n",
       "      <td>[{'name': 'Tableau'}, {'name': 'SQL'}, {'name'...</td>\n",
       "      <td>NaN</td>\n",
       "      <td>150000.0</td>\n",
       "      <td>170000.0</td>\n",
       "      <td>RUR</td>\n",
       "      <td>[Tableau, SQL, Power BI, Работа с базами данны...</td>\n",
       "    </tr>\n",
       "    <tr>\n",
       "      <th>1</th>\n",
       "      <td>70029179</td>\n",
       "      <td>Бизнес аналитик/Data аналитик</td>\n",
       "      <td>Москва</td>\n",
       "      <td>{'from': 150000, 'to': 170000, 'currency': 'RU...</td>\n",
       "      <td>2022-09-26T13:23:36+0300</td>\n",
       "      <td>Odgers Berndtson</td>\n",
       "      <td>Полный день</td>\n",
       "      <td>NaN</td>\n",
       "      <td>Нет опыта</td>\n",
       "      <td>[{'name': 'Tableau'}, {'name': 'SQL'}, {'name'...</td>\n",
       "      <td>NaN</td>\n",
       "      <td>150000.0</td>\n",
       "      <td>170000.0</td>\n",
       "      <td>RUR</td>\n",
       "      <td>[Tableau, SQL, Power BI, Работа с базами данны...</td>\n",
       "    </tr>\n",
       "    <tr>\n",
       "      <th>2</th>\n",
       "      <td>69360960</td>\n",
       "      <td>Аналитик данных / Data Analyst (управленческая...</td>\n",
       "      <td>Москва</td>\n",
       "      <td>{'from': 150000, 'to': 300000, 'currency': 'RU...</td>\n",
       "      <td>2022-09-25T08:27:37+0300</td>\n",
       "      <td>Carely</td>\n",
       "      <td>Удаленная работа</td>\n",
       "      <td>NaN</td>\n",
       "      <td>От 3 до 6 лет</td>\n",
       "      <td>[{'name': 'SQL'}, {'name': 'Python'}, {'name':...</td>\n",
       "      <td>NaN</td>\n",
       "      <td>150000.0</td>\n",
       "      <td>300000.0</td>\n",
       "      <td>RUR</td>\n",
       "      <td>[SQL, Python, Tableau, Data Analysis, Power BI...</td>\n",
       "    </tr>\n",
       "    <tr>\n",
       "      <th>3</th>\n",
       "      <td>69360960</td>\n",
       "      <td>Аналитик данных / Data Analyst (управленческая...</td>\n",
       "      <td>Москва</td>\n",
       "      <td>{'from': 150000, 'to': 300000, 'currency': 'RU...</td>\n",
       "      <td>2022-09-25T08:27:37+0300</td>\n",
       "      <td>Carely</td>\n",
       "      <td>Удаленная работа</td>\n",
       "      <td>NaN</td>\n",
       "      <td>От 3 до 6 лет</td>\n",
       "      <td>[{'name': 'SQL'}, {'name': 'Python'}, {'name':...</td>\n",
       "      <td>NaN</td>\n",
       "      <td>150000.0</td>\n",
       "      <td>300000.0</td>\n",
       "      <td>RUR</td>\n",
       "      <td>[SQL, Python, Tableau, Data Analysis, Power BI...</td>\n",
       "    </tr>\n",
       "    <tr>\n",
       "      <th>4</th>\n",
       "      <td>69360960</td>\n",
       "      <td>Аналитик данных / Data Analyst (управленческая...</td>\n",
       "      <td>Москва</td>\n",
       "      <td>{'from': 150000, 'to': 300000, 'currency': 'RU...</td>\n",
       "      <td>2022-09-25T08:27:37+0300</td>\n",
       "      <td>Carely</td>\n",
       "      <td>Удаленная работа</td>\n",
       "      <td>NaN</td>\n",
       "      <td>От 3 до 6 лет</td>\n",
       "      <td>[{'name': 'SQL'}, {'name': 'Python'}, {'name':...</td>\n",
       "      <td>NaN</td>\n",
       "      <td>150000.0</td>\n",
       "      <td>300000.0</td>\n",
       "      <td>RUR</td>\n",
       "      <td>[SQL, Python, Tableau, Data Analysis, Power BI...</td>\n",
       "    </tr>\n",
       "  </tbody>\n",
       "</table>\n",
       "</div>"
      ],
      "text/plain": [
       "         id                                               name    area  \\\n",
       "0  70029179                      Бизнес аналитик/Data аналитик  Москва   \n",
       "1  70029179                      Бизнес аналитик/Data аналитик  Москва   \n",
       "2  69360960  Аналитик данных / Data Analyst (управленческая...  Москва   \n",
       "3  69360960  Аналитик данных / Data Analyst (управленческая...  Москва   \n",
       "4  69360960  Аналитик данных / Data Analyst (управленческая...  Москва   \n",
       "\n",
       "                                              salary  \\\n",
       "0  {'from': 150000, 'to': 170000, 'currency': 'RU...   \n",
       "1  {'from': 150000, 'to': 170000, 'currency': 'RU...   \n",
       "2  {'from': 150000, 'to': 300000, 'currency': 'RU...   \n",
       "3  {'from': 150000, 'to': 300000, 'currency': 'RU...   \n",
       "4  {'from': 150000, 'to': 300000, 'currency': 'RU...   \n",
       "\n",
       "               published_at          employer          schedule level_exp  \\\n",
       "0  2022-09-26T13:23:36+0300  Odgers Berndtson       Полный день       NaN   \n",
       "1  2022-09-26T13:23:36+0300  Odgers Berndtson       Полный день       NaN   \n",
       "2  2022-09-25T08:27:37+0300            Carely  Удаленная работа       NaN   \n",
       "3  2022-09-25T08:27:37+0300            Carely  Удаленная работа       NaN   \n",
       "4  2022-09-25T08:27:37+0300            Carely  Удаленная работа       NaN   \n",
       "\n",
       "      experience                                         key_skills  \\\n",
       "0      Нет опыта  [{'name': 'Tableau'}, {'name': 'SQL'}, {'name'...   \n",
       "1      Нет опыта  [{'name': 'Tableau'}, {'name': 'SQL'}, {'name'...   \n",
       "2  От 3 до 6 лет  [{'name': 'SQL'}, {'name': 'Python'}, {'name':...   \n",
       "3  От 3 до 6 лет  [{'name': 'SQL'}, {'name': 'Python'}, {'name':...   \n",
       "4  От 3 до 6 лет  [{'name': 'SQL'}, {'name': 'Python'}, {'name':...   \n",
       "\n",
       "  exb_by_year  salary_from  salary_to currency  \\\n",
       "0         NaN     150000.0   170000.0      RUR   \n",
       "1         NaN     150000.0   170000.0      RUR   \n",
       "2         NaN     150000.0   300000.0      RUR   \n",
       "3         NaN     150000.0   300000.0      RUR   \n",
       "4         NaN     150000.0   300000.0      RUR   \n",
       "\n",
       "                                              skills  \n",
       "0  [Tableau, SQL, Power BI, Работа с базами данны...  \n",
       "1  [Tableau, SQL, Power BI, Работа с базами данны...  \n",
       "2  [SQL, Python, Tableau, Data Analysis, Power BI...  \n",
       "3  [SQL, Python, Tableau, Data Analysis, Power BI...  \n",
       "4  [SQL, Python, Tableau, Data Analysis, Power BI...  "
      ]
     },
     "execution_count": 175,
     "metadata": {},
     "output_type": "execute_result"
    }
   ],
   "source": [
    "target_df_full.head()"
   ]
  },
  {
   "cell_type": "code",
   "execution_count": 176,
   "metadata": {},
   "outputs": [
    {
     "data": {
      "text/plain": [
       "schedule\n",
       "Гибкий график         80\n",
       "Полный день         2178\n",
       "Сменный график        13\n",
       "Удаленная работа     510\n",
       "Name: id, dtype: int64"
      ]
     },
     "execution_count": 176,
     "metadata": {},
     "output_type": "execute_result"
    }
   ],
   "source": [
    "# Круговая диаграмма - подготовка данных\n",
    "pie = target_df_full.groupby('schedule')['id'].count()\n",
    "#pie.first()\n",
    "pie"
   ]
  },
  {
   "cell_type": "code",
   "execution_count": 177,
   "metadata": {},
   "outputs": [
    {
     "data": {
      "text/plain": [
       "Index(['Гибкий график', 'Полный день', 'Сменный график', 'Удаленная работа'], dtype='object', name='schedule')"
      ]
     },
     "execution_count": 177,
     "metadata": {},
     "output_type": "execute_result"
    }
   ],
   "source": [
    "pie.index"
   ]
  },
  {
   "cell_type": "code",
   "execution_count": 178,
   "metadata": {
    "scrolled": true
   },
   "outputs": [
    {
     "data": {
      "text/plain": [
       "<AxesSubplot:xlabel='schedule'>"
      ]
     },
     "execution_count": 178,
     "metadata": {},
     "output_type": "execute_result"
    },
    {
     "data": {
      "image/png": "[encoded data removed]",
      "text/plain": [
       "<Figure size 432x288 with 1 Axes>"
      ]
     },
     "metadata": {
      "needs_background": "light"
     },
     "output_type": "display_data"
    }
   ],
   "source": [
    "pie.plot()"
   ]
  },
  {
   "cell_type": "code",
   "execution_count": 179,
   "metadata": {},
   "outputs": [
    {
     "data": {
      "image/png": "[encoded data removed]",
      "text/plain": [
       "<Figure size 432x288 with 1 Axes>"
      ]
     },
     "metadata": {},
     "output_type": "display_data"
    }
   ],
   "source": [
    "# Круговая диаграмма\n",
    "labels = pie.index\n",
    "fig1, ax1 = plt.subplots()\n",
    "ax1.pie(pie, labels=labels, autopct='%1.1f%%') # №, explode = explode)\n",
    "ax1.axis('equal')  \n",
    "plt.show()\n",
    "\n",
    "#вывести заголовок\n"
   ]
  },
  {
   "cell_type": "code",
   "execution_count": 180,
   "metadata": {},
   "outputs": [],
   "source": [
    "df0 = target_df_full[~target_df_full['skills'].isnull()]"
   ]
  },
  {
   "cell_type": "code",
   "execution_count": 181,
   "metadata": {},
   "outputs": [],
   "source": [
    "# получим список скилов для облака тегов\n",
    "lst = sum(df0['skills'], [])\n",
    "\n",
    "# посмотрим, сколько навыков набралось всего (неуникальных)\n",
    "#list_skills = target_df_full.skills"
   ]
  },
  {
   "cell_type": "code",
   "execution_count": 182,
   "metadata": {},
   "outputs": [
    {
     "name": "stdout",
     "output_type": "stream",
     "text": [
      "Requirement already satisfied: wordcloud in c:\\programdata\\anaconda3\\lib\\site-packages (1.8.2.2)"
     ]
    },
    {
     "name": "stderr",
     "output_type": "stream",
     "text": [
      "WARNING: Ignoring invalid distribution -mpy (c:\\programdata\\anaconda3\\lib\\site-packages)\n",
      "WARNING: Ignoring invalid distribution -umpy (c:\\programdata\\anaconda3\\lib\\site-packages)\n",
      "WARNING: Ignoring invalid distribution -mpy (c:\\programdata\\anaconda3\\lib\\site-packages)\n",
      "WARNING: Ignoring invalid distribution -0mpy (c:\\programdata\\anaconda3\\lib\\site-packages)\n",
      "WARNING: Ignoring invalid distribution - (c:\\programdata\\anaconda3\\lib\\site-packages)\n",
      "WARNING: Ignoring invalid distribution -mpy (c:\\programdata\\anaconda3\\lib\\site-packages)\n",
      "WARNING: Ignoring invalid distribution -umpy (c:\\programdata\\anaconda3\\lib\\site-packages)\n",
      "WARNING: Ignoring invalid distribution -mpy (c:\\programdata\\anaconda3\\lib\\site-packages)\n",
      "WARNING: Ignoring invalid distribution -0mpy (c:\\programdata\\anaconda3\\lib\\site-packages)\n",
      "WARNING: Ignoring invalid distribution - (c:\\programdata\\anaconda3\\lib\\site-packages)\n",
      "WARNING: Ignoring invalid distribution -mpy (c:\\programdata\\anaconda3\\lib\\site-packages)\n",
      "WARNING: Ignoring invalid distribution -umpy (c:\\programdata\\anaconda3\\lib\\site-packages)\n",
      "WARNING: Ignoring invalid distribution -mpy (c:\\programdata\\anaconda3\\lib\\site-packages)\n",
      "WARNING: Ignoring invalid distribution -0mpy (c:\\programdata\\anaconda3\\lib\\site-packages)\n",
      "WARNING: Ignoring invalid distribution - (c:\\programdata\\anaconda3\\lib\\site-packages)\n",
      "WARNING: Ignoring invalid distribution -mpy (c:\\programdata\\anaconda3\\lib\\site-packages)\n",
      "WARNING: Ignoring invalid distribution -umpy (c:\\programdata\\anaconda3\\lib\\site-packages)\n",
      "WARNING: Ignoring invalid distribution -mpy (c:\\programdata\\anaconda3\\lib\\site-packages)\n",
      "WARNING: Ignoring invalid distribution -0mpy (c:\\programdata\\anaconda3\\lib\\site-packages)\n",
      "WARNING: Ignoring invalid distribution - (c:\\programdata\\anaconda3\\lib\\site-packages)\n",
      "WARNING: Ignoring invalid distribution -mpy (c:\\programdata\\anaconda3\\lib\\site-packages)\n",
      "WARNING: Ignoring invalid distribution -umpy (c:\\programdata\\anaconda3\\lib\\site-packages)\n",
      "WARNING: Ignoring invalid distribution -mpy (c:\\programdata\\anaconda3\\lib\\site-packages)\n",
      "WARNING: Ignoring invalid distribution -0mpy (c:\\programdata\\anaconda3\\lib\\site-packages)\n",
      "WARNING: Ignoring invalid distribution - (c:\\programdata\\anaconda3\\lib\\site-packages)\n",
      "WARNING: Ignoring invalid distribution -mpy (c:\\programdata\\anaconda3\\lib\\site-packages)\n",
      "WARNING: Ignoring invalid distribution -umpy (c:\\programdata\\anaconda3\\lib\\site-packages)\n",
      "WARNING: Ignoring invalid distribution -mpy (c:\\programdata\\anaconda3\\lib\\site-packages)\n",
      "WARNING: Ignoring invalid distribution -0mpy (c:\\programdata\\anaconda3\\lib\\site-packages)\n",
      "WARNING: Ignoring invalid distribution - (c:\\programdata\\anaconda3\\lib\\site-packages)\n"
     ]
    },
    {
     "name": "stdout",
     "output_type": "stream",
     "text": [
      "\n",
      "Requirement already satisfied: pillow in c:\\programdata\\anaconda3\\lib\\site-packages (from wordcloud) (8.4.0)\n",
      "Requirement already satisfied: numpy>=1.6.1 in c:\\programdata\\anaconda3\\lib\\site-packages (from wordcloud) (1.20.3)\n",
      "Requirement already satisfied: matplotlib in c:\\programdata\\anaconda3\\lib\\site-packages (from wordcloud) (3.4.3)\n",
      "Requirement already satisfied: pyparsing>=2.2.1 in c:\\programdata\\anaconda3\\lib\\site-packages (from matplotlib->wordcloud) (3.0.4)\n",
      "Requirement already satisfied: python-dateutil>=2.7 in c:\\programdata\\anaconda3\\lib\\site-packages (from matplotlib->wordcloud) (2.8.2)\n",
      "Requirement already satisfied: kiwisolver>=1.0.1 in c:\\programdata\\anaconda3\\lib\\site-packages (from matplotlib->wordcloud) (1.3.1)\n",
      "Requirement already satisfied: cycler>=0.10 in c:\\programdata\\anaconda3\\lib\\site-packages (from matplotlib->wordcloud) (0.10.0)\n",
      "Requirement already satisfied: six in c:\\programdata\\anaconda3\\lib\\site-packages (from cycler>=0.10->matplotlib->wordcloud) (1.16.0)\n"
     ]
    }
   ],
   "source": [
    "!pip install wordcloud"
   ]
  },
  {
   "cell_type": "code",
   "execution_count": 183,
   "metadata": {},
   "outputs": [],
   "source": [
    "from wordcloud import WordCloud"
   ]
  },
  {
   "cell_type": "code",
   "execution_count": 184,
   "metadata": {},
   "outputs": [],
   "source": [
    "# преобразуем словарь в текст\n",
    "s = ' '.join(lst)\n",
    "#''.join('{}{}'.format(key, val) for key, val in lst.items())"
   ]
  },
  {
   "cell_type": "code",
   "execution_count": 185,
   "metadata": {
    "scrolled": true
   },
   "outputs": [
    {
     "name": "stdout",
     "output_type": "stream",
     "text": [
      "Requirement already satisfied: corpus in c:\\programdata\\anaconda3\\lib\\site-packages (0.4.2)\n"
     ]
    },
    {
     "name": "stderr",
     "output_type": "stream",
     "text": [
      "WARNING: Ignoring invalid distribution -mpy (c:\\programdata\\anaconda3\\lib\\site-packages)\n",
      "WARNING: Ignoring invalid distribution -umpy (c:\\programdata\\anaconda3\\lib\\site-packages)\n",
      "WARNING: Ignoring invalid distribution -mpy (c:\\programdata\\anaconda3\\lib\\site-packages)\n",
      "WARNING: Ignoring invalid distribution -0mpy (c:\\programdata\\anaconda3\\lib\\site-packages)\n",
      "WARNING: Ignoring invalid distribution - (c:\\programdata\\anaconda3\\lib\\site-packages)\n",
      "WARNING: Ignoring invalid distribution -mpy (c:\\programdata\\anaconda3\\lib\\site-packages)\n",
      "WARNING: Ignoring invalid distribution -umpy (c:\\programdata\\anaconda3\\lib\\site-packages)\n",
      "WARNING: Ignoring invalid distribution -mpy (c:\\programdata\\anaconda3\\lib\\site-packages)\n",
      "WARNING: Ignoring invalid distribution -0mpy (c:\\programdata\\anaconda3\\lib\\site-packages)\n",
      "WARNING: Ignoring invalid distribution - (c:\\programdata\\anaconda3\\lib\\site-packages)\n",
      "WARNING: Ignoring invalid distribution -mpy (c:\\programdata\\anaconda3\\lib\\site-packages)\n",
      "WARNING: Ignoring invalid distribution -umpy (c:\\programdata\\anaconda3\\lib\\site-packages)\n",
      "WARNING: Ignoring invalid distribution -mpy (c:\\programdata\\anaconda3\\lib\\site-packages)\n",
      "WARNING: Ignoring invalid distribution -0mpy (c:\\programdata\\anaconda3\\lib\\site-packages)\n",
      "WARNING: Ignoring invalid distribution - (c:\\programdata\\anaconda3\\lib\\site-packages)\n",
      "WARNING: Ignoring invalid distribution -mpy (c:\\programdata\\anaconda3\\lib\\site-packages)\n",
      "WARNING: Ignoring invalid distribution -umpy (c:\\programdata\\anaconda3\\lib\\site-packages)\n",
      "WARNING: Ignoring invalid distribution -mpy (c:\\programdata\\anaconda3\\lib\\site-packages)\n",
      "WARNING: Ignoring invalid distribution -0mpy (c:\\programdata\\anaconda3\\lib\\site-packages)\n",
      "WARNING: Ignoring invalid distribution - (c:\\programdata\\anaconda3\\lib\\site-packages)\n",
      "WARNING: Ignoring invalid distribution -mpy (c:\\programdata\\anaconda3\\lib\\site-packages)\n",
      "WARNING: Ignoring invalid distribution -umpy (c:\\programdata\\anaconda3\\lib\\site-packages)\n",
      "WARNING: Ignoring invalid distribution -mpy (c:\\programdata\\anaconda3\\lib\\site-packages)\n",
      "WARNING: Ignoring invalid distribution -0mpy (c:\\programdata\\anaconda3\\lib\\site-packages)\n",
      "WARNING: Ignoring invalid distribution - (c:\\programdata\\anaconda3\\lib\\site-packages)\n",
      "WARNING: Ignoring invalid distribution -mpy (c:\\programdata\\anaconda3\\lib\\site-packages)\n",
      "WARNING: Ignoring invalid distribution -umpy (c:\\programdata\\anaconda3\\lib\\site-packages)\n",
      "WARNING: Ignoring invalid distribution -mpy (c:\\programdata\\anaconda3\\lib\\site-packages)\n",
      "WARNING: Ignoring invalid distribution -0mpy (c:\\programdata\\anaconda3\\lib\\site-packages)\n",
      "WARNING: Ignoring invalid distribution - (c:\\programdata\\anaconda3\\lib\\site-packages)\n"
     ]
    }
   ],
   "source": [
    "!pip install corpus"
   ]
  },
  {
   "cell_type": "code",
   "execution_count": 186,
   "metadata": {},
   "outputs": [],
   "source": [
    "#from nltk.corpus import stopwords\n",
    "# сохраняем список с русскими стоп-cловами в переменную stop_words\n",
    "#stop_words = stopwords.words('russian')"
   ]
  },
  {
   "cell_type": "code",
   "execution_count": 187,
   "metadata": {},
   "outputs": [],
   "source": [
    "stop_words = open('stop-ru.txt', 'r', encoding='utf8')\n",
    "stop_words = stop_words.read()\n",
    "stop_words = stop_words.split('\\n')"
   ]
  },
  {
   "cell_type": "code",
   "execution_count": 188,
   "metadata": {},
   "outputs": [],
   "source": [
    "clear_data=[]\n",
    "for i in lst:\n",
    "    if(i not in stop_words):\n",
    "        clear_data.append(i)"
   ]
  },
  {
   "cell_type": "code",
   "execution_count": 189,
   "metadata": {},
   "outputs": [
    {
     "data": {
      "text/plain": [
       "15890"
      ]
     },
     "execution_count": 189,
     "metadata": {},
     "output_type": "execute_result"
    }
   ],
   "source": [
    "len(clear_data)"
   ]
  },
  {
   "cell_type": "code",
   "execution_count": 190,
   "metadata": {},
   "outputs": [],
   "source": [
    "big_string=''\n",
    "for i in range(len(clear_data)):\n",
    "    big_string+=(clear_data[i]+' ')"
   ]
  },
  {
   "cell_type": "code",
   "execution_count": 191,
   "metadata": {},
   "outputs": [
    {
     "data": {
      "text/plain": [
       "(-0.5, 599.5, 299.5, -0.5)"
      ]
     },
     "execution_count": 191,
     "metadata": {},
     "output_type": "execute_result"
    },
    {
     "data": {
      "image/png": "[encoded data removed]",
      "text/plain": [
       "<Figure size 864x864 with 1 Axes>"
      ]
     },
     "metadata": {
      "needs_background": "light"
     },
     "output_type": "display_data"
    }
   ],
   "source": [
    "# Генерируем облако слов и сохраняем в переменной cloud\n",
    "# cloud = WordCloud(max_words=30).generate(big_string)\n",
    "cloud = WordCloud(width = 600, height = 300, random_state=1, background_color='black', colormap='Set2', collocations=False).generate(big_string)\n",
    "# Выводим облако слов на экран\n",
    "#plt.imshow(cloud)\n",
    "plt.figure(figsize=(12,12))\n",
    "plt.imshow(cloud)\n",
    "#plt.axis('off')\n",
    "# Отключаем отображение осей\n",
    "plt.axis('off')"
   ]
  },
  {
   "cell_type": "code",
   "execution_count": 192,
   "metadata": {},
   "outputs": [],
   "source": [
    "import seaborn as sns"
   ]
  },
  {
   "cell_type": "code",
   "execution_count": 193,
   "metadata": {},
   "outputs": [
    {
     "name": "stderr",
     "output_type": "stream",
     "text": [
      "C:\\ProgramData\\Anaconda3\\lib\\site-packages\\pandas\\core\\indexing.py:1773: SettingWithCopyWarning: \n",
      "A value is trying to be set on a copy of a slice from a DataFrame.\n",
      "Try using .loc[row_indexer,col_indexer] = value instead\n",
      "\n",
      "See the caveats in the documentation: https://pandas.pydata.org/pandas-docs/stable/user_guide/indexing.html#returning-a-view-versus-a-copy\n",
      "  self._setitem_single_column(ilocs[0], value, pi)\n"
     ]
    }
   ],
   "source": [
    "emp_map = {'Нет опыта':'Junior', 'От 1 года до 3 лет':'Middle', 'От 3 до 6 лет':'Senior', 'Более 6 лет': 'Senior'}\n",
    "add_info.loc[:,'exb_by_year'] = add_info['exb_by_year'].map(emp_map)"
   ]
  },
  {
   "cell_type": "code",
   "execution_count": 194,
   "metadata": {},
   "outputs": [],
   "source": [
    "s = target_df_full.groupby('area').size()\n",
    "vac_by_cities = s[s.values>10]"
   ]
  },
  {
   "cell_type": "code",
   "execution_count": 195,
   "metadata": {},
   "outputs": [
    {
     "data": {
      "image/png": "[encoded data removed]",
      "text/plain": [
       "<Figure size 432x288 with 1 Axes>"
      ]
     },
     "metadata": {
      "needs_background": "light"
     },
     "output_type": "display_data"
    }
   ],
   "source": [
    "s = target_df_full.groupby('area').size()\n",
    "vac_by_empl = s[s.values>10].sort_values()\n",
    "emp = vac_by_empl.index\n",
    "val = vac_by_empl.values\n",
    "plt.barh(emp,val)\n",
    "plt.title('Количество вакансий по городам')\n",
    "plt.show()"
   ]
  },
  {
   "cell_type": "code",
   "execution_count": 196,
   "metadata": {
    "scrolled": true
   },
   "outputs": [],
   "source": [
    "#vac_by_cities.plot(x='index', y='values', kind='barh', fontsize=14, figsize=(5,5))\n",
    "\n",
    "# столбиковая диаграмма\n",
    "# подписать \n",
    "# отсортировать!\n",
    "# заголовок\n",
    "# название осей\n"
   ]
  },
  {
   "cell_type": "code",
   "execution_count": 197,
   "metadata": {},
   "outputs": [],
   "source": [
    "sal = target_df_full[~target_df_full['salary'].isnull()]\n",
    "#sal_sorted = sal['salary_to'].sort_values(ascending=False)\n",
    "#sal_sorted.head()"
   ]
  },
  {
   "cell_type": "code",
   "execution_count": 208,
   "metadata": {},
   "outputs": [],
   "source": [
    "#sl0 = sal[sal['salary_from']==0].drop()\n",
    "sl0 = sal.loc[sal['salary_from']!=0]\n",
    "sl0 = sl0.loc[sl0['salary_from']==sl0['salary_to']]\n",
    "#city_df = city_df.loc[city_df['Площадь'] > 1000]"
   ]
  },
  {
   "cell_type": "code",
   "execution_count": 209,
   "metadata": {},
   "outputs": [
    {
     "data": {
      "image/png": "[encoded data removed]",
      "text/plain": [
       "<Figure size 2160x1080 with 1 Axes>"
      ]
     },
     "metadata": {
      "needs_background": "light"
     },
     "output_type": "display_data"
    }
   ],
   "source": [
    "sns.catplot(\n",
    "    y='area', \n",
    "    x='salary_to', \n",
    "    data=sl0, \n",
    "    kind='box', \n",
    "    #hue='Promotion',\n",
    "    height=15, \n",
    "    aspect=2);\n",
    "plt.title('Диапазон заработной платы по городам',\n",
    "          size=15, \n",
    "          color='g', \n",
    "          weight='bold');"
   ]
  },
  {
   "cell_type": "code",
   "execution_count": null,
   "metadata": {},
   "outputs": [],
   "source": []
  },
  {
   "cell_type": "code",
   "execution_count": 214,
   "metadata": {},
   "outputs": [],
   "source": [
    "# Предсказание заработной платы линейной регрессией\n",
    "from sklearn.linear_model import LinearRegression\n",
    "from sklearn.model_selection import train_test_split\n",
    "from sklearn import preprocessing"
   ]
  },
  {
   "cell_type": "code",
   "execution_count": 215,
   "metadata": {
    "scrolled": true
   },
   "outputs": [
    {
     "data": {
      "text/plain": [
       "id                 0\n",
       "name               0\n",
       "area               0\n",
       "salary          1949\n",
       "published_at       0\n",
       "employer           0\n",
       "schedule           0\n",
       "level_exp       2506\n",
       "experience       170\n",
       "key_skills       170\n",
       "exb_by_year     2781\n",
       "salary_from     1949\n",
       "salary_to       1949\n",
       "currency           0\n",
       "skills           170\n",
       "dtype: int64"
      ]
     },
     "execution_count": 215,
     "metadata": {},
     "output_type": "execute_result"
    }
   ],
   "source": [
    "# Определим количество пустых значений\n",
    "target_df_full.isna().sum()"
   ]
  },
  {
   "cell_type": "code",
   "execution_count": 216,
   "metadata": {
    "scrolled": true
   },
   "outputs": [
    {
     "data": {
      "text/html": [
       "<div>\n",
       "<style scoped>\n",
       "    .dataframe tbody tr th:only-of-type {\n",
       "        vertical-align: middle;\n",
       "    }\n",
       "\n",
       "    .dataframe tbody tr th {\n",
       "        vertical-align: top;\n",
       "    }\n",
       "\n",
       "    .dataframe thead th {\n",
       "        text-align: right;\n",
       "    }\n",
       "</style>\n",
       "<table border=\"1\" class=\"dataframe\">\n",
       "  <thead>\n",
       "    <tr style=\"text-align: right;\">\n",
       "      <th></th>\n",
       "      <th>id</th>\n",
       "      <th>name</th>\n",
       "      <th>area</th>\n",
       "      <th>salary</th>\n",
       "      <th>published_at</th>\n",
       "      <th>employer</th>\n",
       "      <th>schedule</th>\n",
       "      <th>level_exp</th>\n",
       "      <th>experience</th>\n",
       "      <th>key_skills</th>\n",
       "      <th>exb_by_year</th>\n",
       "      <th>salary_from</th>\n",
       "      <th>salary_to</th>\n",
       "      <th>currency</th>\n",
       "      <th>skills</th>\n",
       "      <th>area_dig</th>\n",
       "      <th>sched_dig</th>\n",
       "      <th>exp_dig</th>\n",
       "      <th>empl_dig</th>\n",
       "    </tr>\n",
       "  </thead>\n",
       "  <tbody>\n",
       "    <tr>\n",
       "      <th>0</th>\n",
       "      <td>70029179</td>\n",
       "      <td>Бизнес аналитик/Data аналитик</td>\n",
       "      <td>Москва</td>\n",
       "      <td>{'from': 150000, 'to': 170000, 'currency': 'RU...</td>\n",
       "      <td>2022-09-26T13:23:36+0300</td>\n",
       "      <td>Odgers Berndtson</td>\n",
       "      <td>Полный день</td>\n",
       "      <td>NaN</td>\n",
       "      <td>Нет опыта</td>\n",
       "      <td>[{'name': 'Tableau'}, {'name': 'SQL'}, {'name'...</td>\n",
       "      <td>NaN</td>\n",
       "      <td>150000.0</td>\n",
       "      <td>170000.0</td>\n",
       "      <td>RUR</td>\n",
       "      <td>[Tableau, SQL, Power BI, Работа с базами данны...</td>\n",
       "      <td>33</td>\n",
       "      <td>1</td>\n",
       "      <td>1</td>\n",
       "      <td>171</td>\n",
       "    </tr>\n",
       "    <tr>\n",
       "      <th>1</th>\n",
       "      <td>70029179</td>\n",
       "      <td>Бизнес аналитик/Data аналитик</td>\n",
       "      <td>Москва</td>\n",
       "      <td>{'from': 150000, 'to': 170000, 'currency': 'RU...</td>\n",
       "      <td>2022-09-26T13:23:36+0300</td>\n",
       "      <td>Odgers Berndtson</td>\n",
       "      <td>Полный день</td>\n",
       "      <td>NaN</td>\n",
       "      <td>Нет опыта</td>\n",
       "      <td>[{'name': 'Tableau'}, {'name': 'SQL'}, {'name'...</td>\n",
       "      <td>NaN</td>\n",
       "      <td>150000.0</td>\n",
       "      <td>170000.0</td>\n",
       "      <td>RUR</td>\n",
       "      <td>[Tableau, SQL, Power BI, Работа с базами данны...</td>\n",
       "      <td>33</td>\n",
       "      <td>1</td>\n",
       "      <td>1</td>\n",
       "      <td>171</td>\n",
       "    </tr>\n",
       "    <tr>\n",
       "      <th>2</th>\n",
       "      <td>69360960</td>\n",
       "      <td>Аналитик данных / Data Analyst (управленческая...</td>\n",
       "      <td>Москва</td>\n",
       "      <td>{'from': 150000, 'to': 300000, 'currency': 'RU...</td>\n",
       "      <td>2022-09-25T08:27:37+0300</td>\n",
       "      <td>Carely</td>\n",
       "      <td>Удаленная работа</td>\n",
       "      <td>NaN</td>\n",
       "      <td>От 3 до 6 лет</td>\n",
       "      <td>[{'name': 'SQL'}, {'name': 'Python'}, {'name':...</td>\n",
       "      <td>NaN</td>\n",
       "      <td>150000.0</td>\n",
       "      <td>300000.0</td>\n",
       "      <td>RUR</td>\n",
       "      <td>[SQL, Python, Tableau, Data Analysis, Power BI...</td>\n",
       "      <td>33</td>\n",
       "      <td>3</td>\n",
       "      <td>3</td>\n",
       "      <td>46</td>\n",
       "    </tr>\n",
       "  </tbody>\n",
       "</table>\n",
       "</div>"
      ],
      "text/plain": [
       "         id                                               name    area  \\\n",
       "0  70029179                      Бизнес аналитик/Data аналитик  Москва   \n",
       "1  70029179                      Бизнес аналитик/Data аналитик  Москва   \n",
       "2  69360960  Аналитик данных / Data Analyst (управленческая...  Москва   \n",
       "\n",
       "                                              salary  \\\n",
       "0  {'from': 150000, 'to': 170000, 'currency': 'RU...   \n",
       "1  {'from': 150000, 'to': 170000, 'currency': 'RU...   \n",
       "2  {'from': 150000, 'to': 300000, 'currency': 'RU...   \n",
       "\n",
       "               published_at          employer          schedule level_exp  \\\n",
       "0  2022-09-26T13:23:36+0300  Odgers Berndtson       Полный день       NaN   \n",
       "1  2022-09-26T13:23:36+0300  Odgers Berndtson       Полный день       NaN   \n",
       "2  2022-09-25T08:27:37+0300            Carely  Удаленная работа       NaN   \n",
       "\n",
       "      experience                                         key_skills  \\\n",
       "0      Нет опыта  [{'name': 'Tableau'}, {'name': 'SQL'}, {'name'...   \n",
       "1      Нет опыта  [{'name': 'Tableau'}, {'name': 'SQL'}, {'name'...   \n",
       "2  От 3 до 6 лет  [{'name': 'SQL'}, {'name': 'Python'}, {'name':...   \n",
       "\n",
       "  exb_by_year  salary_from  salary_to currency  \\\n",
       "0         NaN     150000.0   170000.0      RUR   \n",
       "1         NaN     150000.0   170000.0      RUR   \n",
       "2         NaN     150000.0   300000.0      RUR   \n",
       "\n",
       "                                              skills  area_dig  sched_dig  \\\n",
       "0  [Tableau, SQL, Power BI, Работа с базами данны...        33          1   \n",
       "1  [Tableau, SQL, Power BI, Работа с базами данны...        33          1   \n",
       "2  [SQL, Python, Tableau, Data Analysis, Power BI...        33          3   \n",
       "\n",
       "   exp_dig  empl_dig  \n",
       "0        1       171  \n",
       "1        1       171  \n",
       "2        3        46  "
      ]
     },
     "execution_count": 216,
     "metadata": {},
     "output_type": "execute_result"
    }
   ],
   "source": [
    "le = preprocessing.LabelEncoder()\n",
    "\n",
    "target_df_full['area_dig'] = le.fit_transform(target_df_full['area'])\n",
    "target_df_full['sched_dig'] = le.fit_transform(target_df_full['schedule'])\n",
    "target_df_full['exp_dig'] = le.fit_transform(target_df_full['experience'])\n",
    "target_df_full['empl_dig'] = le.fit_transform(target_df_full['employer'])\n",
    "\n",
    "#target_df_full['skills_dig'] = le.fit_transform(target_df_full['skills'])\n",
    "\n",
    "target_df_full.head(3)"
   ]
  },
  {
   "cell_type": "code",
   "execution_count": 217,
   "metadata": {},
   "outputs": [
    {
     "data": {
      "text/html": [
       "<div>\n",
       "<style scoped>\n",
       "    .dataframe tbody tr th:only-of-type {\n",
       "        vertical-align: middle;\n",
       "    }\n",
       "\n",
       "    .dataframe tbody tr th {\n",
       "        vertical-align: top;\n",
       "    }\n",
       "\n",
       "    .dataframe thead th {\n",
       "        text-align: right;\n",
       "    }\n",
       "</style>\n",
       "<table border=\"1\" class=\"dataframe\">\n",
       "  <thead>\n",
       "    <tr style=\"text-align: right;\">\n",
       "      <th></th>\n",
       "      <th>salary_to</th>\n",
       "      <th>area_dig</th>\n",
       "      <th>exp_dig</th>\n",
       "      <th>sched_dig</th>\n",
       "      <th>empl_dig</th>\n",
       "    </tr>\n",
       "  </thead>\n",
       "  <tbody>\n",
       "    <tr>\n",
       "      <th>0</th>\n",
       "      <td>170000.0</td>\n",
       "      <td>33</td>\n",
       "      <td>1</td>\n",
       "      <td>1</td>\n",
       "      <td>171</td>\n",
       "    </tr>\n",
       "    <tr>\n",
       "      <th>1</th>\n",
       "      <td>170000.0</td>\n",
       "      <td>33</td>\n",
       "      <td>1</td>\n",
       "      <td>1</td>\n",
       "      <td>171</td>\n",
       "    </tr>\n",
       "    <tr>\n",
       "      <th>2</th>\n",
       "      <td>300000.0</td>\n",
       "      <td>33</td>\n",
       "      <td>3</td>\n",
       "      <td>3</td>\n",
       "      <td>46</td>\n",
       "    </tr>\n",
       "    <tr>\n",
       "      <th>3</th>\n",
       "      <td>300000.0</td>\n",
       "      <td>33</td>\n",
       "      <td>3</td>\n",
       "      <td>3</td>\n",
       "      <td>46</td>\n",
       "    </tr>\n",
       "    <tr>\n",
       "      <th>4</th>\n",
       "      <td>300000.0</td>\n",
       "      <td>33</td>\n",
       "      <td>3</td>\n",
       "      <td>3</td>\n",
       "      <td>46</td>\n",
       "    </tr>\n",
       "  </tbody>\n",
       "</table>\n",
       "</div>"
      ],
      "text/plain": [
       "   salary_to  area_dig  exp_dig  sched_dig  empl_dig\n",
       "0   170000.0        33        1          1       171\n",
       "1   170000.0        33        1          1       171\n",
       "2   300000.0        33        3          3        46\n",
       "3   300000.0        33        3          3        46\n",
       "4   300000.0        33        3          3        46"
      ]
     },
     "execution_count": 217,
     "metadata": {},
     "output_type": "execute_result"
    }
   ],
   "source": [
    "sal_feat = target_df_full[~target_df_full['salary_to'].isna()][['salary_to','area_dig', 'exp_dig', 'sched_dig','empl_dig']]\n",
    "sal_feat.head()"
   ]
  },
  {
   "cell_type": "code",
   "execution_count": 218,
   "metadata": {},
   "outputs": [],
   "source": [
    "X = sal_feat.drop('salary_to', axis = 1)\n",
    "y = sal_feat['salary_to']"
   ]
  },
  {
   "cell_type": "code",
   "execution_count": 219,
   "metadata": {},
   "outputs": [
    {
     "name": "stdout",
     "output_type": "stream",
     "text": [
      "(582, 4) (250, 4)\n"
     ]
    }
   ],
   "source": [
    "# разобьем датасет\n",
    "X_train, X_test, y_train, y_test = train_test_split(X, \n",
    "                                                    y, \n",
    "                                                    test_size=0.30, \n",
    "                                                    shuffle=True, \n",
    "                                                    random_state=16)\n",
    "\n",
    "print(X_train.shape,X_test.shape)"
   ]
  },
  {
   "cell_type": "code",
   "execution_count": 220,
   "metadata": {},
   "outputs": [
    {
     "data": {
      "text/plain": [
       "LinearRegression()"
      ]
     },
     "execution_count": 220,
     "metadata": {},
     "output_type": "execute_result"
    }
   ],
   "source": [
    "model = LinearRegression()\n",
    "\n",
    "model.fit(X_train,y_train)"
   ]
  },
  {
   "cell_type": "code",
   "execution_count": 221,
   "metadata": {},
   "outputs": [],
   "source": [
    "predict = model.predict(X_test)"
   ]
  },
  {
   "cell_type": "code",
   "execution_count": 222,
   "metadata": {},
   "outputs": [
    {
     "data": {
      "text/html": [
       "<div>\n",
       "<style scoped>\n",
       "    .dataframe tbody tr th:only-of-type {\n",
       "        vertical-align: middle;\n",
       "    }\n",
       "\n",
       "    .dataframe tbody tr th {\n",
       "        vertical-align: top;\n",
       "    }\n",
       "\n",
       "    .dataframe thead th {\n",
       "        text-align: right;\n",
       "    }\n",
       "</style>\n",
       "<table border=\"1\" class=\"dataframe\">\n",
       "  <thead>\n",
       "    <tr style=\"text-align: right;\">\n",
       "      <th></th>\n",
       "      <th>real_salary</th>\n",
       "      <th>predict_salary</th>\n",
       "    </tr>\n",
       "  </thead>\n",
       "  <tbody>\n",
       "    <tr>\n",
       "      <th>491</th>\n",
       "      <td>50000.0</td>\n",
       "      <td>58617.371329</td>\n",
       "    </tr>\n",
       "    <tr>\n",
       "      <th>2444</th>\n",
       "      <td>250000.0</td>\n",
       "      <td>95954.746011</td>\n",
       "    </tr>\n",
       "    <tr>\n",
       "      <th>30</th>\n",
       "      <td>200000.0</td>\n",
       "      <td>94378.164705</td>\n",
       "    </tr>\n",
       "    <tr>\n",
       "      <th>2025</th>\n",
       "      <td>100000.0</td>\n",
       "      <td>121067.433963</td>\n",
       "    </tr>\n",
       "    <tr>\n",
       "      <th>2006</th>\n",
       "      <td>200000.0</td>\n",
       "      <td>109152.020787</td>\n",
       "    </tr>\n",
       "    <tr>\n",
       "      <th>2383</th>\n",
       "      <td>200000.0</td>\n",
       "      <td>155201.207656</td>\n",
       "    </tr>\n",
       "    <tr>\n",
       "      <th>2419</th>\n",
       "      <td>157000.0</td>\n",
       "      <td>132847.536990</td>\n",
       "    </tr>\n",
       "    <tr>\n",
       "      <th>433</th>\n",
       "      <td>45000.0</td>\n",
       "      <td>109413.204513</td>\n",
       "    </tr>\n",
       "    <tr>\n",
       "      <th>807</th>\n",
       "      <td>71000.0</td>\n",
       "      <td>115774.625292</td>\n",
       "    </tr>\n",
       "    <tr>\n",
       "      <th>1372</th>\n",
       "      <td>120000.0</td>\n",
       "      <td>120474.546545</td>\n",
       "    </tr>\n",
       "  </tbody>\n",
       "</table>\n",
       "</div>"
      ],
      "text/plain": [
       "      real_salary  predict_salary\n",
       "491       50000.0    58617.371329\n",
       "2444     250000.0    95954.746011\n",
       "30       200000.0    94378.164705\n",
       "2025     100000.0   121067.433963\n",
       "2006     200000.0   109152.020787\n",
       "2383     200000.0   155201.207656\n",
       "2419     157000.0   132847.536990\n",
       "433       45000.0   109413.204513\n",
       "807       71000.0   115774.625292\n",
       "1372     120000.0   120474.546545"
      ]
     },
     "execution_count": 222,
     "metadata": {},
     "output_type": "execute_result"
    }
   ],
   "source": [
    "X_test_copy = X_test.copy()\n",
    "\n",
    "sal_with_predict = X_test_copy\n",
    "sal_with_predict['real_salary'] = y_test\n",
    "sal_with_predict['predict_salary'] = predict\n",
    "\n",
    "sal_with_predict[['real_salary','predict_salary']].head(10)"
   ]
  },
  {
   "cell_type": "code",
   "execution_count": 223,
   "metadata": {},
   "outputs": [],
   "source": [
    "from sklearn.tree import DecisionTreeRegressor"
   ]
  },
  {
   "cell_type": "code",
   "execution_count": 224,
   "metadata": {},
   "outputs": [
    {
     "data": {
      "text/plain": [
       "DecisionTreeRegressor()"
      ]
     },
     "execution_count": 224,
     "metadata": {},
     "output_type": "execute_result"
    }
   ],
   "source": [
    "tree_regressor = DecisionTreeRegressor()\n",
    "\n",
    "tree_regressor.fit(X_train,y_train)"
   ]
  },
  {
   "cell_type": "code",
   "execution_count": 225,
   "metadata": {},
   "outputs": [],
   "source": [
    "predict_tree = tree_regressor.predict(X_test)"
   ]
  },
  {
   "cell_type": "code",
   "execution_count": 226,
   "metadata": {},
   "outputs": [
    {
     "data": {
      "text/html": [
       "<div>\n",
       "<style scoped>\n",
       "    .dataframe tbody tr th:only-of-type {\n",
       "        vertical-align: middle;\n",
       "    }\n",
       "\n",
       "    .dataframe tbody tr th {\n",
       "        vertical-align: top;\n",
       "    }\n",
       "\n",
       "    .dataframe thead th {\n",
       "        text-align: right;\n",
       "    }\n",
       "</style>\n",
       "<table border=\"1\" class=\"dataframe\">\n",
       "  <thead>\n",
       "    <tr style=\"text-align: right;\">\n",
       "      <th></th>\n",
       "      <th>real_salary</th>\n",
       "      <th>predict_salary</th>\n",
       "    </tr>\n",
       "  </thead>\n",
       "  <tbody>\n",
       "    <tr>\n",
       "      <th>491</th>\n",
       "      <td>50000.0</td>\n",
       "      <td>30000.000000</td>\n",
       "    </tr>\n",
       "    <tr>\n",
       "      <th>2444</th>\n",
       "      <td>250000.0</td>\n",
       "      <td>120000.000000</td>\n",
       "    </tr>\n",
       "    <tr>\n",
       "      <th>30</th>\n",
       "      <td>200000.0</td>\n",
       "      <td>200000.000000</td>\n",
       "    </tr>\n",
       "    <tr>\n",
       "      <th>2025</th>\n",
       "      <td>100000.0</td>\n",
       "      <td>100000.000000</td>\n",
       "    </tr>\n",
       "    <tr>\n",
       "      <th>2006</th>\n",
       "      <td>200000.0</td>\n",
       "      <td>233333.333333</td>\n",
       "    </tr>\n",
       "    <tr>\n",
       "      <th>2383</th>\n",
       "      <td>200000.0</td>\n",
       "      <td>200000.000000</td>\n",
       "    </tr>\n",
       "    <tr>\n",
       "      <th>2419</th>\n",
       "      <td>157000.0</td>\n",
       "      <td>157000.000000</td>\n",
       "    </tr>\n",
       "    <tr>\n",
       "      <th>433</th>\n",
       "      <td>45000.0</td>\n",
       "      <td>45000.000000</td>\n",
       "    </tr>\n",
       "    <tr>\n",
       "      <th>807</th>\n",
       "      <td>71000.0</td>\n",
       "      <td>166666.666667</td>\n",
       "    </tr>\n",
       "    <tr>\n",
       "      <th>1372</th>\n",
       "      <td>120000.0</td>\n",
       "      <td>100000.000000</td>\n",
       "    </tr>\n",
       "  </tbody>\n",
       "</table>\n",
       "</div>"
      ],
      "text/plain": [
       "      real_salary  predict_salary\n",
       "491       50000.0    30000.000000\n",
       "2444     250000.0   120000.000000\n",
       "30       200000.0   200000.000000\n",
       "2025     100000.0   100000.000000\n",
       "2006     200000.0   233333.333333\n",
       "2383     200000.0   200000.000000\n",
       "2419     157000.0   157000.000000\n",
       "433       45000.0    45000.000000\n",
       "807       71000.0   166666.666667\n",
       "1372     120000.0   100000.000000"
      ]
     },
     "execution_count": 226,
     "metadata": {},
     "output_type": "execute_result"
    }
   ],
   "source": [
    "X_test_copy = X_test.copy()\n",
    "\n",
    "titanic_with_predict_tree = X_test_copy\n",
    "titanic_with_predict_tree['real_salary'] = y_test\n",
    "titanic_with_predict_tree['predict_salary'] = predict_tree\n",
    "\n",
    "#titanic_with_predict[['real_age','predict_age']].head(10)\n",
    "titanic_with_predict_tree[['real_salary','predict_salary']].head(10)"
   ]
  },
  {
   "cell_type": "code",
   "execution_count": 228,
   "metadata": {},
   "outputs": [
    {
     "data": {
      "text/html": [
       "<div>\n",
       "<style scoped>\n",
       "    .dataframe tbody tr th:only-of-type {\n",
       "        vertical-align: middle;\n",
       "    }\n",
       "\n",
       "    .dataframe tbody tr th {\n",
       "        vertical-align: top;\n",
       "    }\n",
       "\n",
       "    .dataframe thead th {\n",
       "        text-align: right;\n",
       "    }\n",
       "</style>\n",
       "<table border=\"1\" class=\"dataframe\">\n",
       "  <thead>\n",
       "    <tr style=\"text-align: right;\">\n",
       "      <th></th>\n",
       "      <th>Важность параметра</th>\n",
       "      <th>Фича</th>\n",
       "    </tr>\n",
       "  </thead>\n",
       "  <tbody>\n",
       "    <tr>\n",
       "      <th>3</th>\n",
       "      <td>0.555470</td>\n",
       "      <td>empl_dig</td>\n",
       "    </tr>\n",
       "    <tr>\n",
       "      <th>1</th>\n",
       "      <td>0.215869</td>\n",
       "      <td>exp_dig</td>\n",
       "    </tr>\n",
       "    <tr>\n",
       "      <th>0</th>\n",
       "      <td>0.184791</td>\n",
       "      <td>area_dig</td>\n",
       "    </tr>\n",
       "    <tr>\n",
       "      <th>2</th>\n",
       "      <td>0.043870</td>\n",
       "      <td>sched_dig</td>\n",
       "    </tr>\n",
       "  </tbody>\n",
       "</table>\n",
       "</div>"
      ],
      "text/plain": [
       "   Важность параметра       Фича\n",
       "3            0.555470   empl_dig\n",
       "1            0.215869    exp_dig\n",
       "0            0.184791   area_dig\n",
       "2            0.043870  sched_dig"
      ]
     },
     "execution_count": 228,
     "metadata": {},
     "output_type": "execute_result"
    }
   ],
   "source": [
    "frame = {'Важность параметра':tree_regressor.feature_importances_, 'Фича':X_train.columns}\n",
    "result = pd.DataFrame(frame)\n",
    "\n",
    "result.sort_values(by='Важность параметра', ascending=False)"
   ]
  },
  {
   "cell_type": "code",
   "execution_count": 230,
   "metadata": {},
   "outputs": [],
   "source": [
    "from sklearn.metrics import mean_absolute_error"
   ]
  },
  {
   "cell_type": "code",
   "execution_count": 231,
   "metadata": {},
   "outputs": [
    {
     "name": "stdout",
     "output_type": "stream",
     "text": [
      "MAE on Linear Regression 52943.04392061089\n",
      "MAE on DecisionTreeRegressor 34858.88\n"
     ]
    }
   ],
   "source": [
    "print('MAE on Linear Regression', mean_absolute_error(y_test, predict))\n",
    "print('MAE on DecisionTreeRegressor', mean_absolute_error(y_test, predict_tree))"
   ]
  }
 ],
 "metadata": {
  "kernelspec": {
   "display_name": "Python 3 (ipykernel)",
   "language": "python",
   "name": "python3"
  },
  "language_info": {
   "codemirror_mode": {
    "name": "ipython",
    "version": 3
   },
   "file_extension": ".py",
   "mimetype": "text/x-python",
   "name": "python",
   "nbconvert_exporter": "python",
   "pygments_lexer": "ipython3",
   "version": "3.9.7"
  }
 },
 "nbformat": 4,
 "nbformat_minor": 4
}
